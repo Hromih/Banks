{
 "cells": [
  {
   "cell_type": "markdown",
   "metadata": {},
   "source": [
    "Дашборд: https://public.tableau.com/views/2_17010324210900/Dashboard1?:language=en-US&:display_count=n&:origin=viz_share_link"
   ]
  },
  {
   "cell_type": "markdown",
   "metadata": {},
   "source": [
    "Презентация:https://drive.google.com/file/d/1qxpVo0WipmMx58dI4RMEj-P3h-nKrfJ1/view?usp=sharing"
   ]
  },
  {
   "cell_type": "markdown",
   "metadata": {},
   "source": [
    "# Банки — анализ оттока клиентов\n"
   ]
  },
  {
   "cell_type": "markdown",
   "metadata": {},
   "source": [
    "# Описание проекта"
   ]
  },
  {
   "cell_type": "markdown",
   "metadata": {},
   "source": [
    "У нас есть датасет с данными о клиентах банка «Метанпром». Банк располагается в Ярославле и областных городах: Ростов Великий и Рыбинск. Используя эти данные, необходимо проанализировать клиентов регионального банка и выделите сегменты клиентов,\n",
    "которые склонны уходить из банка. Для этого нужно провести исследовательский анализ данных, определить все значимые признаки отточности (интервалы значений характеристик, которые связаны с повышенным оттоком, сравнить портреты типичных клиентов, которые\n",
    "склонны и не склонны уходить из банка и т.д); проверить гипотезу различия дохода между теми клиентами, которые\n",
    "ушли и теми, которые остались; сформулировать и проверить статистическую гипотезу относительно\n",
    "представленных данных, которая поможет внести ясность в исследование; объединяя признаки отточности, сформировать сегменты, отобрать из них лучшие и дать по ним рекомендации. В завершение необходимо предоставить дашборд и презентацию с итогами исследования."
   ]
  },
  {
   "cell_type": "markdown",
   "metadata": {},
   "source": [
    "## Предобработка данных"
   ]
  },
  {
   "cell_type": "markdown",
   "metadata": {},
   "source": [
    "### Подключение библиотек и загрузка данных"
   ]
  },
  {
   "cell_type": "code",
   "execution_count": 1,
   "metadata": {},
   "outputs": [],
   "source": [
    "import pandas as pd\n",
    "import numpy as np\n",
    "import seaborn as sns\n",
    "import datetime as dt\n",
    "from scipy import stats as st\n",
    "import math as mth\n",
    "import plotly.express as px\n",
    "import matplotlib.pyplot as plt\n",
    "from matplotlib import pyplot as plt\n",
    "from plotly import graph_objects as go"
   ]
  },
  {
   "cell_type": "code",
   "execution_count": 2,
   "metadata": {},
   "outputs": [],
   "source": [
    "data = pd.read_csv('https://code.s3.yandex.net/datasets/bank_scrooge.csv')"
   ]
  },
  {
   "cell_type": "code",
   "execution_count": 3,
   "metadata": {},
   "outputs": [
    {
     "data": {
      "text/html": [
       "<div>\n",
       "<style scoped>\n",
       "    .dataframe tbody tr th:only-of-type {\n",
       "        vertical-align: middle;\n",
       "    }\n",
       "\n",
       "    .dataframe tbody tr th {\n",
       "        vertical-align: top;\n",
       "    }\n",
       "\n",
       "    .dataframe thead th {\n",
       "        text-align: right;\n",
       "    }\n",
       "</style>\n",
       "<table border=\"1\" class=\"dataframe\">\n",
       "  <thead>\n",
       "    <tr style=\"text-align: right;\">\n",
       "      <th></th>\n",
       "      <th>USERID</th>\n",
       "      <th>score</th>\n",
       "      <th>city</th>\n",
       "      <th>gender</th>\n",
       "      <th>age</th>\n",
       "      <th>equity</th>\n",
       "      <th>balance</th>\n",
       "      <th>products</th>\n",
       "      <th>credit_card</th>\n",
       "      <th>last_activity</th>\n",
       "      <th>EST_SALARY</th>\n",
       "      <th>churn</th>\n",
       "    </tr>\n",
       "  </thead>\n",
       "  <tbody>\n",
       "    <tr>\n",
       "      <th>0</th>\n",
       "      <td>183012</td>\n",
       "      <td>850.0</td>\n",
       "      <td>Рыбинск</td>\n",
       "      <td>Ж</td>\n",
       "      <td>25.0</td>\n",
       "      <td>1</td>\n",
       "      <td>59214.82</td>\n",
       "      <td>2</td>\n",
       "      <td>0</td>\n",
       "      <td>1</td>\n",
       "      <td>75719.14</td>\n",
       "      <td>1</td>\n",
       "    </tr>\n",
       "    <tr>\n",
       "      <th>1</th>\n",
       "      <td>146556</td>\n",
       "      <td>861.0</td>\n",
       "      <td>Рыбинск</td>\n",
       "      <td>Ж</td>\n",
       "      <td>37.0</td>\n",
       "      <td>5</td>\n",
       "      <td>850594.33</td>\n",
       "      <td>3</td>\n",
       "      <td>1</td>\n",
       "      <td>0</td>\n",
       "      <td>86621.77</td>\n",
       "      <td>0</td>\n",
       "    </tr>\n",
       "    <tr>\n",
       "      <th>2</th>\n",
       "      <td>120722</td>\n",
       "      <td>892.0</td>\n",
       "      <td>Рыбинск</td>\n",
       "      <td>Ж</td>\n",
       "      <td>30.0</td>\n",
       "      <td>0</td>\n",
       "      <td>NaN</td>\n",
       "      <td>1</td>\n",
       "      <td>1</td>\n",
       "      <td>1</td>\n",
       "      <td>107683.34</td>\n",
       "      <td>0</td>\n",
       "    </tr>\n",
       "    <tr>\n",
       "      <th>3</th>\n",
       "      <td>225363</td>\n",
       "      <td>866.0</td>\n",
       "      <td>Ярославль</td>\n",
       "      <td>Ж</td>\n",
       "      <td>51.0</td>\n",
       "      <td>5</td>\n",
       "      <td>1524746.26</td>\n",
       "      <td>2</td>\n",
       "      <td>0</td>\n",
       "      <td>1</td>\n",
       "      <td>174423.53</td>\n",
       "      <td>1</td>\n",
       "    </tr>\n",
       "    <tr>\n",
       "      <th>4</th>\n",
       "      <td>157978</td>\n",
       "      <td>730.0</td>\n",
       "      <td>Ярославль</td>\n",
       "      <td>М</td>\n",
       "      <td>34.0</td>\n",
       "      <td>5</td>\n",
       "      <td>174.00</td>\n",
       "      <td>1</td>\n",
       "      <td>1</td>\n",
       "      <td>0</td>\n",
       "      <td>67353.16</td>\n",
       "      <td>1</td>\n",
       "    </tr>\n",
       "    <tr>\n",
       "      <th>...</th>\n",
       "      <td>...</td>\n",
       "      <td>...</td>\n",
       "      <td>...</td>\n",
       "      <td>...</td>\n",
       "      <td>...</td>\n",
       "      <td>...</td>\n",
       "      <td>...</td>\n",
       "      <td>...</td>\n",
       "      <td>...</td>\n",
       "      <td>...</td>\n",
       "      <td>...</td>\n",
       "      <td>...</td>\n",
       "    </tr>\n",
       "    <tr>\n",
       "      <th>9995</th>\n",
       "      <td>120553</td>\n",
       "      <td>814.0</td>\n",
       "      <td>Рыбинск</td>\n",
       "      <td>М</td>\n",
       "      <td>27.0</td>\n",
       "      <td>1</td>\n",
       "      <td>78144.65</td>\n",
       "      <td>1</td>\n",
       "      <td>0</td>\n",
       "      <td>1</td>\n",
       "      <td>18943.64</td>\n",
       "      <td>0</td>\n",
       "    </tr>\n",
       "    <tr>\n",
       "      <th>9996</th>\n",
       "      <td>139170</td>\n",
       "      <td>894.0</td>\n",
       "      <td>Ярославль</td>\n",
       "      <td>М</td>\n",
       "      <td>46.0</td>\n",
       "      <td>0</td>\n",
       "      <td>NaN</td>\n",
       "      <td>1</td>\n",
       "      <td>1</td>\n",
       "      <td>0</td>\n",
       "      <td>196898.29</td>\n",
       "      <td>0</td>\n",
       "    </tr>\n",
       "    <tr>\n",
       "      <th>9997</th>\n",
       "      <td>115639</td>\n",
       "      <td>903.0</td>\n",
       "      <td>Ярославль</td>\n",
       "      <td>М</td>\n",
       "      <td>24.0</td>\n",
       "      <td>0</td>\n",
       "      <td>NaN</td>\n",
       "      <td>2</td>\n",
       "      <td>1</td>\n",
       "      <td>1</td>\n",
       "      <td>108905.09</td>\n",
       "      <td>0</td>\n",
       "    </tr>\n",
       "    <tr>\n",
       "      <th>9998</th>\n",
       "      <td>148700</td>\n",
       "      <td>777.0</td>\n",
       "      <td>Ярославль</td>\n",
       "      <td>Ж</td>\n",
       "      <td>68.0</td>\n",
       "      <td>3</td>\n",
       "      <td>865457.97</td>\n",
       "      <td>3</td>\n",
       "      <td>0</td>\n",
       "      <td>1</td>\n",
       "      <td>86874.90</td>\n",
       "      <td>0</td>\n",
       "    </tr>\n",
       "    <tr>\n",
       "      <th>9999</th>\n",
       "      <td>96267</td>\n",
       "      <td>828.0</td>\n",
       "      <td>Рыбинск</td>\n",
       "      <td>Ж</td>\n",
       "      <td>58.0</td>\n",
       "      <td>3</td>\n",
       "      <td>1180886.70</td>\n",
       "      <td>4</td>\n",
       "      <td>0</td>\n",
       "      <td>1</td>\n",
       "      <td>21422.37</td>\n",
       "      <td>0</td>\n",
       "    </tr>\n",
       "  </tbody>\n",
       "</table>\n",
       "<p>10000 rows × 12 columns</p>\n",
       "</div>"
      ],
      "text/plain": [
       "      USERID  score       city gender   age  equity     balance  products  \\\n",
       "0     183012  850.0    Рыбинск      Ж  25.0       1    59214.82         2   \n",
       "1     146556  861.0    Рыбинск      Ж  37.0       5   850594.33         3   \n",
       "2     120722  892.0    Рыбинск      Ж  30.0       0         NaN         1   \n",
       "3     225363  866.0  Ярославль      Ж  51.0       5  1524746.26         2   \n",
       "4     157978  730.0  Ярославль      М  34.0       5      174.00         1   \n",
       "...      ...    ...        ...    ...   ...     ...         ...       ...   \n",
       "9995  120553  814.0    Рыбинск      М  27.0       1    78144.65         1   \n",
       "9996  139170  894.0  Ярославль      М  46.0       0         NaN         1   \n",
       "9997  115639  903.0  Ярославль      М  24.0       0         NaN         2   \n",
       "9998  148700  777.0  Ярославль      Ж  68.0       3   865457.97         3   \n",
       "9999   96267  828.0    Рыбинск      Ж  58.0       3  1180886.70         4   \n",
       "\n",
       "      credit_card  last_activity  EST_SALARY  churn  \n",
       "0               0              1    75719.14      1  \n",
       "1               1              0    86621.77      0  \n",
       "2               1              1   107683.34      0  \n",
       "3               0              1   174423.53      1  \n",
       "4               1              0    67353.16      1  \n",
       "...           ...            ...         ...    ...  \n",
       "9995            0              1    18943.64      0  \n",
       "9996            1              0   196898.29      0  \n",
       "9997            1              1   108905.09      0  \n",
       "9998            0              1    86874.90      0  \n",
       "9999            0              1    21422.37      0  \n",
       "\n",
       "[10000 rows x 12 columns]"
      ]
     },
     "execution_count": 3,
     "metadata": {},
     "output_type": "execute_result"
    }
   ],
   "source": [
    "data"
   ]
  },
  {
   "cell_type": "code",
   "execution_count": 4,
   "metadata": {},
   "outputs": [
    {
     "name": "stdout",
     "output_type": "stream",
     "text": [
      "<class 'pandas.core.frame.DataFrame'>\n",
      "RangeIndex: 10000 entries, 0 to 9999\n",
      "Data columns (total 12 columns):\n",
      " #   Column         Non-Null Count  Dtype  \n",
      "---  ------         --------------  -----  \n",
      " 0   USERID         10000 non-null  int64  \n",
      " 1   score          10000 non-null  float64\n",
      " 2   city           10000 non-null  object \n",
      " 3   gender         10000 non-null  object \n",
      " 4   age            9974 non-null   float64\n",
      " 5   equity         10000 non-null  int64  \n",
      " 6   balance        7705 non-null   float64\n",
      " 7   products       10000 non-null  int64  \n",
      " 8   credit_card    10000 non-null  int64  \n",
      " 9   last_activity  10000 non-null  int64  \n",
      " 10  EST_SALARY     10000 non-null  float64\n",
      " 11  churn          10000 non-null  int64  \n",
      "dtypes: float64(4), int64(6), object(2)\n",
      "memory usage: 937.6+ KB\n"
     ]
    }
   ],
   "source": [
    "data.info()"
   ]
  },
  {
   "cell_type": "markdown",
   "metadata": {},
   "source": [
    "Для последующей работы приведем названия столбцов к змеиному регистру, изменим тип данных у столбцов score и age на целочисленный. Также на данном шаге выявились пропуски в столбцах balance (2295, что составляет 23% от всех данных) и age (26). Разберемся с ними позже."
   ]
  },
  {
   "cell_type": "markdown",
   "metadata": {},
   "source": [
    "### Приведение названий столбцов к единому стилю"
   ]
  },
  {
   "cell_type": "code",
   "execution_count": 5,
   "metadata": {},
   "outputs": [
    {
     "name": "stdout",
     "output_type": "stream",
     "text": [
      "Index(['userid', 'score', 'city', 'gender', 'age', 'equity', 'balance',\n",
      "       'products', 'credit_card', 'last_activity', 'est_salary', 'churn'],\n",
      "      dtype='object')\n"
     ]
    }
   ],
   "source": [
    "data.columns = data.columns.str.lower()\n",
    "print(data.columns) "
   ]
  },
  {
   "cell_type": "code",
   "execution_count": 6,
   "metadata": {},
   "outputs": [
    {
     "name": "stdout",
     "output_type": "stream",
     "text": [
      "Index(['user_id', 'score', 'city', 'gender', 'age', 'equity', 'balance',\n",
      "       'products', 'credit_card', 'last_activity', 'est_salary', 'churn'],\n",
      "      dtype='object')\n"
     ]
    }
   ],
   "source": [
    "data = data.rename(columns={'userid':'user_id'})\n",
    "print(data.columns)"
   ]
  },
  {
   "cell_type": "markdown",
   "metadata": {},
   "source": [
    "### Работа с некорректными значениями"
   ]
  },
  {
   "cell_type": "markdown",
   "metadata": {},
   "source": [
    "Проверим, есть ли в банке клиенты младше 18 лет и без используемых банковских продуктов"
   ]
  },
  {
   "cell_type": "code",
   "execution_count": 7,
   "metadata": {},
   "outputs": [
    {
     "data": {
      "text/html": [
       "<div>\n",
       "<style scoped>\n",
       "    .dataframe tbody tr th:only-of-type {\n",
       "        vertical-align: middle;\n",
       "    }\n",
       "\n",
       "    .dataframe tbody tr th {\n",
       "        vertical-align: top;\n",
       "    }\n",
       "\n",
       "    .dataframe thead th {\n",
       "        text-align: right;\n",
       "    }\n",
       "</style>\n",
       "<table border=\"1\" class=\"dataframe\">\n",
       "  <thead>\n",
       "    <tr style=\"text-align: right;\">\n",
       "      <th></th>\n",
       "      <th>user_id</th>\n",
       "      <th>score</th>\n",
       "      <th>city</th>\n",
       "      <th>gender</th>\n",
       "      <th>age</th>\n",
       "      <th>equity</th>\n",
       "      <th>balance</th>\n",
       "      <th>products</th>\n",
       "      <th>credit_card</th>\n",
       "      <th>last_activity</th>\n",
       "      <th>est_salary</th>\n",
       "      <th>churn</th>\n",
       "    </tr>\n",
       "  </thead>\n",
       "  <tbody>\n",
       "    <tr>\n",
       "      <th>8957</th>\n",
       "      <td>147837</td>\n",
       "      <td>962.0</td>\n",
       "      <td>Рыбинск</td>\n",
       "      <td>Ж</td>\n",
       "      <td>79.0</td>\n",
       "      <td>3</td>\n",
       "      <td>NaN</td>\n",
       "      <td>0</td>\n",
       "      <td>0</td>\n",
       "      <td>0</td>\n",
       "      <td>25063.96</td>\n",
       "      <td>1</td>\n",
       "    </tr>\n",
       "  </tbody>\n",
       "</table>\n",
       "</div>"
      ],
      "text/plain": [
       "      user_id  score     city gender   age  equity  balance  products  \\\n",
       "8957   147837  962.0  Рыбинск      Ж  79.0       3      NaN         0   \n",
       "\n",
       "      credit_card  last_activity  est_salary  churn  \n",
       "8957            0              0    25063.96      1  "
      ]
     },
     "execution_count": 7,
     "metadata": {},
     "output_type": "execute_result"
    }
   ],
   "source": [
    "# проверка отсутствия банковских продуктов\n",
    "data[data['products']==0]"
   ]
  },
  {
   "cell_type": "markdown",
   "metadata": {},
   "source": [
    "По всей видимости, клиент окончательно ушел из банка, на что указывает столбец churn и отсутствие банковских продуктов. Удалим эту строку."
   ]
  },
  {
   "cell_type": "code",
   "execution_count": 8,
   "metadata": {},
   "outputs": [
    {
     "data": {
      "text/html": [
       "<div>\n",
       "<style scoped>\n",
       "    .dataframe tbody tr th:only-of-type {\n",
       "        vertical-align: middle;\n",
       "    }\n",
       "\n",
       "    .dataframe tbody tr th {\n",
       "        vertical-align: top;\n",
       "    }\n",
       "\n",
       "    .dataframe thead th {\n",
       "        text-align: right;\n",
       "    }\n",
       "</style>\n",
       "<table border=\"1\" class=\"dataframe\">\n",
       "  <thead>\n",
       "    <tr style=\"text-align: right;\">\n",
       "      <th></th>\n",
       "      <th>user_id</th>\n",
       "      <th>score</th>\n",
       "      <th>city</th>\n",
       "      <th>gender</th>\n",
       "      <th>age</th>\n",
       "      <th>equity</th>\n",
       "      <th>balance</th>\n",
       "      <th>products</th>\n",
       "      <th>credit_card</th>\n",
       "      <th>last_activity</th>\n",
       "      <th>est_salary</th>\n",
       "      <th>churn</th>\n",
       "    </tr>\n",
       "  </thead>\n",
       "  <tbody>\n",
       "  </tbody>\n",
       "</table>\n",
       "</div>"
      ],
      "text/plain": [
       "Empty DataFrame\n",
       "Columns: [user_id, score, city, gender, age, equity, balance, products, credit_card, last_activity, est_salary, churn]\n",
       "Index: []"
      ]
     },
     "execution_count": 8,
     "metadata": {},
     "output_type": "execute_result"
    }
   ],
   "source": [
    "data = data[data['products']>0]\n",
    "data[data['products']==0]"
   ]
  },
  {
   "cell_type": "code",
   "execution_count": 9,
   "metadata": {},
   "outputs": [
    {
     "data": {
      "text/html": [
       "<div>\n",
       "<style scoped>\n",
       "    .dataframe tbody tr th:only-of-type {\n",
       "        vertical-align: middle;\n",
       "    }\n",
       "\n",
       "    .dataframe tbody tr th {\n",
       "        vertical-align: top;\n",
       "    }\n",
       "\n",
       "    .dataframe thead th {\n",
       "        text-align: right;\n",
       "    }\n",
       "</style>\n",
       "<table border=\"1\" class=\"dataframe\">\n",
       "  <thead>\n",
       "    <tr style=\"text-align: right;\">\n",
       "      <th></th>\n",
       "      <th>user_id</th>\n",
       "      <th>score</th>\n",
       "      <th>city</th>\n",
       "      <th>gender</th>\n",
       "      <th>age</th>\n",
       "      <th>equity</th>\n",
       "      <th>balance</th>\n",
       "      <th>products</th>\n",
       "      <th>credit_card</th>\n",
       "      <th>last_activity</th>\n",
       "      <th>est_salary</th>\n",
       "      <th>churn</th>\n",
       "    </tr>\n",
       "  </thead>\n",
       "  <tbody>\n",
       "  </tbody>\n",
       "</table>\n",
       "</div>"
      ],
      "text/plain": [
       "Empty DataFrame\n",
       "Columns: [user_id, score, city, gender, age, equity, balance, products, credit_card, last_activity, est_salary, churn]\n",
       "Index: []"
      ]
     },
     "execution_count": 9,
     "metadata": {},
     "output_type": "execute_result"
    }
   ],
   "source": [
    "# Проверка отсутствия несовершеннолетних клиентов\n",
    "data[data['age']<18]"
   ]
  },
  {
   "cell_type": "markdown",
   "metadata": {},
   "source": [
    "Несовершеннолетние не могут являться клиентами банка, и таких у нас нет"
   ]
  },
  {
   "cell_type": "markdown",
   "metadata": {},
   "source": [
    "### Удаление пропусков в столбце age"
   ]
  },
  {
   "cell_type": "code",
   "execution_count": 10,
   "metadata": {},
   "outputs": [
    {
     "data": {
      "text/html": [
       "<div>\n",
       "<style scoped>\n",
       "    .dataframe tbody tr th:only-of-type {\n",
       "        vertical-align: middle;\n",
       "    }\n",
       "\n",
       "    .dataframe tbody tr th {\n",
       "        vertical-align: top;\n",
       "    }\n",
       "\n",
       "    .dataframe thead th {\n",
       "        text-align: right;\n",
       "    }\n",
       "</style>\n",
       "<table border=\"1\" class=\"dataframe\">\n",
       "  <thead>\n",
       "    <tr style=\"text-align: right;\">\n",
       "      <th></th>\n",
       "      <th>user_id</th>\n",
       "      <th>score</th>\n",
       "      <th>city</th>\n",
       "      <th>gender</th>\n",
       "      <th>age</th>\n",
       "      <th>equity</th>\n",
       "      <th>balance</th>\n",
       "      <th>products</th>\n",
       "      <th>credit_card</th>\n",
       "      <th>last_activity</th>\n",
       "      <th>est_salary</th>\n",
       "      <th>churn</th>\n",
       "    </tr>\n",
       "  </thead>\n",
       "  <tbody>\n",
       "    <tr>\n",
       "      <th>0</th>\n",
       "      <td>183012</td>\n",
       "      <td>850.0</td>\n",
       "      <td>Рыбинск</td>\n",
       "      <td>Ж</td>\n",
       "      <td>25.0</td>\n",
       "      <td>1</td>\n",
       "      <td>59214.82</td>\n",
       "      <td>2</td>\n",
       "      <td>0</td>\n",
       "      <td>1</td>\n",
       "      <td>75719.14</td>\n",
       "      <td>1</td>\n",
       "    </tr>\n",
       "    <tr>\n",
       "      <th>1</th>\n",
       "      <td>146556</td>\n",
       "      <td>861.0</td>\n",
       "      <td>Рыбинск</td>\n",
       "      <td>Ж</td>\n",
       "      <td>37.0</td>\n",
       "      <td>5</td>\n",
       "      <td>850594.33</td>\n",
       "      <td>3</td>\n",
       "      <td>1</td>\n",
       "      <td>0</td>\n",
       "      <td>86621.77</td>\n",
       "      <td>0</td>\n",
       "    </tr>\n",
       "    <tr>\n",
       "      <th>2</th>\n",
       "      <td>120722</td>\n",
       "      <td>892.0</td>\n",
       "      <td>Рыбинск</td>\n",
       "      <td>Ж</td>\n",
       "      <td>30.0</td>\n",
       "      <td>0</td>\n",
       "      <td>NaN</td>\n",
       "      <td>1</td>\n",
       "      <td>1</td>\n",
       "      <td>1</td>\n",
       "      <td>107683.34</td>\n",
       "      <td>0</td>\n",
       "    </tr>\n",
       "    <tr>\n",
       "      <th>3</th>\n",
       "      <td>225363</td>\n",
       "      <td>866.0</td>\n",
       "      <td>Ярославль</td>\n",
       "      <td>Ж</td>\n",
       "      <td>51.0</td>\n",
       "      <td>5</td>\n",
       "      <td>1524746.26</td>\n",
       "      <td>2</td>\n",
       "      <td>0</td>\n",
       "      <td>1</td>\n",
       "      <td>174423.53</td>\n",
       "      <td>1</td>\n",
       "    </tr>\n",
       "    <tr>\n",
       "      <th>4</th>\n",
       "      <td>157978</td>\n",
       "      <td>730.0</td>\n",
       "      <td>Ярославль</td>\n",
       "      <td>М</td>\n",
       "      <td>34.0</td>\n",
       "      <td>5</td>\n",
       "      <td>174.00</td>\n",
       "      <td>1</td>\n",
       "      <td>1</td>\n",
       "      <td>0</td>\n",
       "      <td>67353.16</td>\n",
       "      <td>1</td>\n",
       "    </tr>\n",
       "    <tr>\n",
       "      <th>...</th>\n",
       "      <td>...</td>\n",
       "      <td>...</td>\n",
       "      <td>...</td>\n",
       "      <td>...</td>\n",
       "      <td>...</td>\n",
       "      <td>...</td>\n",
       "      <td>...</td>\n",
       "      <td>...</td>\n",
       "      <td>...</td>\n",
       "      <td>...</td>\n",
       "      <td>...</td>\n",
       "      <td>...</td>\n",
       "    </tr>\n",
       "    <tr>\n",
       "      <th>9968</th>\n",
       "      <td>120553</td>\n",
       "      <td>814.0</td>\n",
       "      <td>Рыбинск</td>\n",
       "      <td>М</td>\n",
       "      <td>27.0</td>\n",
       "      <td>1</td>\n",
       "      <td>78144.65</td>\n",
       "      <td>1</td>\n",
       "      <td>0</td>\n",
       "      <td>1</td>\n",
       "      <td>18943.64</td>\n",
       "      <td>0</td>\n",
       "    </tr>\n",
       "    <tr>\n",
       "      <th>9969</th>\n",
       "      <td>139170</td>\n",
       "      <td>894.0</td>\n",
       "      <td>Ярославль</td>\n",
       "      <td>М</td>\n",
       "      <td>46.0</td>\n",
       "      <td>0</td>\n",
       "      <td>NaN</td>\n",
       "      <td>1</td>\n",
       "      <td>1</td>\n",
       "      <td>0</td>\n",
       "      <td>196898.29</td>\n",
       "      <td>0</td>\n",
       "    </tr>\n",
       "    <tr>\n",
       "      <th>9970</th>\n",
       "      <td>115639</td>\n",
       "      <td>903.0</td>\n",
       "      <td>Ярославль</td>\n",
       "      <td>М</td>\n",
       "      <td>24.0</td>\n",
       "      <td>0</td>\n",
       "      <td>NaN</td>\n",
       "      <td>2</td>\n",
       "      <td>1</td>\n",
       "      <td>1</td>\n",
       "      <td>108905.09</td>\n",
       "      <td>0</td>\n",
       "    </tr>\n",
       "    <tr>\n",
       "      <th>9971</th>\n",
       "      <td>148700</td>\n",
       "      <td>777.0</td>\n",
       "      <td>Ярославль</td>\n",
       "      <td>Ж</td>\n",
       "      <td>68.0</td>\n",
       "      <td>3</td>\n",
       "      <td>865457.97</td>\n",
       "      <td>3</td>\n",
       "      <td>0</td>\n",
       "      <td>1</td>\n",
       "      <td>86874.90</td>\n",
       "      <td>0</td>\n",
       "    </tr>\n",
       "    <tr>\n",
       "      <th>9972</th>\n",
       "      <td>96267</td>\n",
       "      <td>828.0</td>\n",
       "      <td>Рыбинск</td>\n",
       "      <td>Ж</td>\n",
       "      <td>58.0</td>\n",
       "      <td>3</td>\n",
       "      <td>1180886.70</td>\n",
       "      <td>4</td>\n",
       "      <td>0</td>\n",
       "      <td>1</td>\n",
       "      <td>21422.37</td>\n",
       "      <td>0</td>\n",
       "    </tr>\n",
       "  </tbody>\n",
       "</table>\n",
       "<p>9973 rows × 12 columns</p>\n",
       "</div>"
      ],
      "text/plain": [
       "      user_id  score       city gender   age  equity     balance  products  \\\n",
       "0      183012  850.0    Рыбинск      Ж  25.0       1    59214.82         2   \n",
       "1      146556  861.0    Рыбинск      Ж  37.0       5   850594.33         3   \n",
       "2      120722  892.0    Рыбинск      Ж  30.0       0         NaN         1   \n",
       "3      225363  866.0  Ярославль      Ж  51.0       5  1524746.26         2   \n",
       "4      157978  730.0  Ярославль      М  34.0       5      174.00         1   \n",
       "...       ...    ...        ...    ...   ...     ...         ...       ...   \n",
       "9968   120553  814.0    Рыбинск      М  27.0       1    78144.65         1   \n",
       "9969   139170  894.0  Ярославль      М  46.0       0         NaN         1   \n",
       "9970   115639  903.0  Ярославль      М  24.0       0         NaN         2   \n",
       "9971   148700  777.0  Ярославль      Ж  68.0       3   865457.97         3   \n",
       "9972    96267  828.0    Рыбинск      Ж  58.0       3  1180886.70         4   \n",
       "\n",
       "      credit_card  last_activity  est_salary  churn  \n",
       "0               0              1    75719.14      1  \n",
       "1               1              0    86621.77      0  \n",
       "2               1              1   107683.34      0  \n",
       "3               0              1   174423.53      1  \n",
       "4               1              0    67353.16      1  \n",
       "...           ...            ...         ...    ...  \n",
       "9968            0              1    18943.64      0  \n",
       "9969            1              0   196898.29      0  \n",
       "9970            1              1   108905.09      0  \n",
       "9971            0              1    86874.90      0  \n",
       "9972            0              1    21422.37      0  \n",
       "\n",
       "[9973 rows x 12 columns]"
      ]
     },
     "metadata": {},
     "output_type": "display_data"
    },
    {
     "name": "stdout",
     "output_type": "stream",
     "text": [
      "<class 'pandas.core.frame.DataFrame'>\n",
      "RangeIndex: 9973 entries, 0 to 9972\n",
      "Data columns (total 12 columns):\n",
      " #   Column         Non-Null Count  Dtype  \n",
      "---  ------         --------------  -----  \n",
      " 0   user_id        9973 non-null   int64  \n",
      " 1   score          9973 non-null   float64\n",
      " 2   city           9973 non-null   object \n",
      " 3   gender         9973 non-null   object \n",
      " 4   age            9973 non-null   float64\n",
      " 5   equity         9973 non-null   int64  \n",
      " 6   balance        7695 non-null   float64\n",
      " 7   products       9973 non-null   int64  \n",
      " 8   credit_card    9973 non-null   int64  \n",
      " 9   last_activity  9973 non-null   int64  \n",
      " 10  est_salary     9973 non-null   float64\n",
      " 11  churn          9973 non-null   int64  \n",
      "dtypes: float64(4), int64(6), object(2)\n",
      "memory usage: 935.1+ KB\n"
     ]
    }
   ],
   "source": [
    "data.dropna(subset=['age'], inplace=True)\n",
    "data = data.reset_index(drop=True)\n",
    "display(data)\n",
    "data.info()"
   ]
  },
  {
   "cell_type": "markdown",
   "metadata": {},
   "source": [
    "Строки с пропусками в столбце age удалены, с ними исчезли 10 строк с пропусками в balance."
   ]
  },
  {
   "cell_type": "markdown",
   "metadata": {},
   "source": [
    "### Замена типов данных"
   ]
  },
  {
   "cell_type": "code",
   "execution_count": 11,
   "metadata": {},
   "outputs": [
    {
     "data": {
      "text/html": [
       "<div>\n",
       "<style scoped>\n",
       "    .dataframe tbody tr th:only-of-type {\n",
       "        vertical-align: middle;\n",
       "    }\n",
       "\n",
       "    .dataframe tbody tr th {\n",
       "        vertical-align: top;\n",
       "    }\n",
       "\n",
       "    .dataframe thead th {\n",
       "        text-align: right;\n",
       "    }\n",
       "</style>\n",
       "<table border=\"1\" class=\"dataframe\">\n",
       "  <thead>\n",
       "    <tr style=\"text-align: right;\">\n",
       "      <th></th>\n",
       "      <th>user_id</th>\n",
       "      <th>score</th>\n",
       "      <th>city</th>\n",
       "      <th>gender</th>\n",
       "      <th>age</th>\n",
       "      <th>equity</th>\n",
       "      <th>balance</th>\n",
       "      <th>products</th>\n",
       "      <th>credit_card</th>\n",
       "      <th>last_activity</th>\n",
       "      <th>est_salary</th>\n",
       "      <th>churn</th>\n",
       "    </tr>\n",
       "  </thead>\n",
       "  <tbody>\n",
       "    <tr>\n",
       "      <th>0</th>\n",
       "      <td>183012</td>\n",
       "      <td>850</td>\n",
       "      <td>Рыбинск</td>\n",
       "      <td>Ж</td>\n",
       "      <td>25</td>\n",
       "      <td>1</td>\n",
       "      <td>59214.82</td>\n",
       "      <td>2</td>\n",
       "      <td>0</td>\n",
       "      <td>1</td>\n",
       "      <td>75719.14</td>\n",
       "      <td>1</td>\n",
       "    </tr>\n",
       "    <tr>\n",
       "      <th>1</th>\n",
       "      <td>146556</td>\n",
       "      <td>861</td>\n",
       "      <td>Рыбинск</td>\n",
       "      <td>Ж</td>\n",
       "      <td>37</td>\n",
       "      <td>5</td>\n",
       "      <td>850594.33</td>\n",
       "      <td>3</td>\n",
       "      <td>1</td>\n",
       "      <td>0</td>\n",
       "      <td>86621.77</td>\n",
       "      <td>0</td>\n",
       "    </tr>\n",
       "    <tr>\n",
       "      <th>2</th>\n",
       "      <td>120722</td>\n",
       "      <td>892</td>\n",
       "      <td>Рыбинск</td>\n",
       "      <td>Ж</td>\n",
       "      <td>30</td>\n",
       "      <td>0</td>\n",
       "      <td>NaN</td>\n",
       "      <td>1</td>\n",
       "      <td>1</td>\n",
       "      <td>1</td>\n",
       "      <td>107683.34</td>\n",
       "      <td>0</td>\n",
       "    </tr>\n",
       "    <tr>\n",
       "      <th>3</th>\n",
       "      <td>225363</td>\n",
       "      <td>866</td>\n",
       "      <td>Ярославль</td>\n",
       "      <td>Ж</td>\n",
       "      <td>51</td>\n",
       "      <td>5</td>\n",
       "      <td>1524746.26</td>\n",
       "      <td>2</td>\n",
       "      <td>0</td>\n",
       "      <td>1</td>\n",
       "      <td>174423.53</td>\n",
       "      <td>1</td>\n",
       "    </tr>\n",
       "    <tr>\n",
       "      <th>4</th>\n",
       "      <td>157978</td>\n",
       "      <td>730</td>\n",
       "      <td>Ярославль</td>\n",
       "      <td>М</td>\n",
       "      <td>34</td>\n",
       "      <td>5</td>\n",
       "      <td>174.00</td>\n",
       "      <td>1</td>\n",
       "      <td>1</td>\n",
       "      <td>0</td>\n",
       "      <td>67353.16</td>\n",
       "      <td>1</td>\n",
       "    </tr>\n",
       "    <tr>\n",
       "      <th>...</th>\n",
       "      <td>...</td>\n",
       "      <td>...</td>\n",
       "      <td>...</td>\n",
       "      <td>...</td>\n",
       "      <td>...</td>\n",
       "      <td>...</td>\n",
       "      <td>...</td>\n",
       "      <td>...</td>\n",
       "      <td>...</td>\n",
       "      <td>...</td>\n",
       "      <td>...</td>\n",
       "      <td>...</td>\n",
       "    </tr>\n",
       "    <tr>\n",
       "      <th>9968</th>\n",
       "      <td>120553</td>\n",
       "      <td>814</td>\n",
       "      <td>Рыбинск</td>\n",
       "      <td>М</td>\n",
       "      <td>27</td>\n",
       "      <td>1</td>\n",
       "      <td>78144.65</td>\n",
       "      <td>1</td>\n",
       "      <td>0</td>\n",
       "      <td>1</td>\n",
       "      <td>18943.64</td>\n",
       "      <td>0</td>\n",
       "    </tr>\n",
       "    <tr>\n",
       "      <th>9969</th>\n",
       "      <td>139170</td>\n",
       "      <td>894</td>\n",
       "      <td>Ярославль</td>\n",
       "      <td>М</td>\n",
       "      <td>46</td>\n",
       "      <td>0</td>\n",
       "      <td>NaN</td>\n",
       "      <td>1</td>\n",
       "      <td>1</td>\n",
       "      <td>0</td>\n",
       "      <td>196898.29</td>\n",
       "      <td>0</td>\n",
       "    </tr>\n",
       "    <tr>\n",
       "      <th>9970</th>\n",
       "      <td>115639</td>\n",
       "      <td>903</td>\n",
       "      <td>Ярославль</td>\n",
       "      <td>М</td>\n",
       "      <td>24</td>\n",
       "      <td>0</td>\n",
       "      <td>NaN</td>\n",
       "      <td>2</td>\n",
       "      <td>1</td>\n",
       "      <td>1</td>\n",
       "      <td>108905.09</td>\n",
       "      <td>0</td>\n",
       "    </tr>\n",
       "    <tr>\n",
       "      <th>9971</th>\n",
       "      <td>148700</td>\n",
       "      <td>777</td>\n",
       "      <td>Ярославль</td>\n",
       "      <td>Ж</td>\n",
       "      <td>68</td>\n",
       "      <td>3</td>\n",
       "      <td>865457.97</td>\n",
       "      <td>3</td>\n",
       "      <td>0</td>\n",
       "      <td>1</td>\n",
       "      <td>86874.90</td>\n",
       "      <td>0</td>\n",
       "    </tr>\n",
       "    <tr>\n",
       "      <th>9972</th>\n",
       "      <td>96267</td>\n",
       "      <td>828</td>\n",
       "      <td>Рыбинск</td>\n",
       "      <td>Ж</td>\n",
       "      <td>58</td>\n",
       "      <td>3</td>\n",
       "      <td>1180886.70</td>\n",
       "      <td>4</td>\n",
       "      <td>0</td>\n",
       "      <td>1</td>\n",
       "      <td>21422.37</td>\n",
       "      <td>0</td>\n",
       "    </tr>\n",
       "  </tbody>\n",
       "</table>\n",
       "<p>9973 rows × 12 columns</p>\n",
       "</div>"
      ],
      "text/plain": [
       "      user_id  score       city gender  age  equity     balance  products  \\\n",
       "0      183012    850    Рыбинск      Ж   25       1    59214.82         2   \n",
       "1      146556    861    Рыбинск      Ж   37       5   850594.33         3   \n",
       "2      120722    892    Рыбинск      Ж   30       0         NaN         1   \n",
       "3      225363    866  Ярославль      Ж   51       5  1524746.26         2   \n",
       "4      157978    730  Ярославль      М   34       5      174.00         1   \n",
       "...       ...    ...        ...    ...  ...     ...         ...       ...   \n",
       "9968   120553    814    Рыбинск      М   27       1    78144.65         1   \n",
       "9969   139170    894  Ярославль      М   46       0         NaN         1   \n",
       "9970   115639    903  Ярославль      М   24       0         NaN         2   \n",
       "9971   148700    777  Ярославль      Ж   68       3   865457.97         3   \n",
       "9972    96267    828    Рыбинск      Ж   58       3  1180886.70         4   \n",
       "\n",
       "      credit_card  last_activity  est_salary  churn  \n",
       "0               0              1    75719.14      1  \n",
       "1               1              0    86621.77      0  \n",
       "2               1              1   107683.34      0  \n",
       "3               0              1   174423.53      1  \n",
       "4               1              0    67353.16      1  \n",
       "...           ...            ...         ...    ...  \n",
       "9968            0              1    18943.64      0  \n",
       "9969            1              0   196898.29      0  \n",
       "9970            1              1   108905.09      0  \n",
       "9971            0              1    86874.90      0  \n",
       "9972            0              1    21422.37      0  \n",
       "\n",
       "[9973 rows x 12 columns]"
      ]
     },
     "metadata": {},
     "output_type": "display_data"
    },
    {
     "name": "stdout",
     "output_type": "stream",
     "text": [
      "<class 'pandas.core.frame.DataFrame'>\n",
      "RangeIndex: 9973 entries, 0 to 9972\n",
      "Data columns (total 12 columns):\n",
      " #   Column         Non-Null Count  Dtype  \n",
      "---  ------         --------------  -----  \n",
      " 0   user_id        9973 non-null   int64  \n",
      " 1   score          9973 non-null   int64  \n",
      " 2   city           9973 non-null   object \n",
      " 3   gender         9973 non-null   object \n",
      " 4   age            9973 non-null   int64  \n",
      " 5   equity         9973 non-null   int64  \n",
      " 6   balance        7695 non-null   float64\n",
      " 7   products       9973 non-null   int64  \n",
      " 8   credit_card    9973 non-null   int64  \n",
      " 9   last_activity  9973 non-null   int64  \n",
      " 10  est_salary     9973 non-null   float64\n",
      " 11  churn          9973 non-null   int64  \n",
      "dtypes: float64(2), int64(8), object(2)\n",
      "memory usage: 935.1+ KB\n"
     ]
    }
   ],
   "source": [
    "data.score = data.score.astype(int)\n",
    "data.age = data.age.astype(int)\n",
    "display(data)\n",
    "data.info()"
   ]
  },
  {
   "cell_type": "code",
   "execution_count": 12,
   "metadata": {},
   "outputs": [],
   "source": [
    "data.to_excel('B:\\PhotoGallery\\data.xlsx')"
   ]
  },
  {
   "cell_type": "markdown",
   "metadata": {},
   "source": [
    "### Работа с дубликатами"
   ]
  },
  {
   "cell_type": "code",
   "execution_count": 13,
   "metadata": {},
   "outputs": [
    {
     "data": {
      "text/plain": [
       "0"
      ]
     },
     "execution_count": 13,
     "metadata": {},
     "output_type": "execute_result"
    }
   ],
   "source": [
    "#проверим на наличие явных дубликатов\n",
    "data.duplicated().sum()"
   ]
  },
  {
   "cell_type": "code",
   "execution_count": 14,
   "metadata": {},
   "outputs": [
    {
     "data": {
      "text/plain": [
       "50"
      ]
     },
     "execution_count": 14,
     "metadata": {},
     "output_type": "execute_result"
    }
   ],
   "source": [
    "#проверим на наличие дубликатов по столбцу user_id\n",
    "data['user_id'].duplicated().sum()"
   ]
  },
  {
   "cell_type": "markdown",
   "metadata": {},
   "source": [
    "Выявилось 50 дубликатов по user_id, посмотрим на них"
   ]
  },
  {
   "cell_type": "code",
   "execution_count": 15,
   "metadata": {
    "scrolled": true
   },
   "outputs": [
    {
     "data": {
      "text/html": [
       "<div>\n",
       "<style scoped>\n",
       "    .dataframe tbody tr th:only-of-type {\n",
       "        vertical-align: middle;\n",
       "    }\n",
       "\n",
       "    .dataframe tbody tr th {\n",
       "        vertical-align: top;\n",
       "    }\n",
       "\n",
       "    .dataframe thead th {\n",
       "        text-align: right;\n",
       "    }\n",
       "</style>\n",
       "<table border=\"1\" class=\"dataframe\">\n",
       "  <thead>\n",
       "    <tr style=\"text-align: right;\">\n",
       "      <th></th>\n",
       "      <th>user_id</th>\n",
       "      <th>score</th>\n",
       "      <th>city</th>\n",
       "      <th>gender</th>\n",
       "      <th>age</th>\n",
       "      <th>equity</th>\n",
       "      <th>balance</th>\n",
       "      <th>products</th>\n",
       "      <th>credit_card</th>\n",
       "      <th>last_activity</th>\n",
       "      <th>est_salary</th>\n",
       "      <th>churn</th>\n",
       "    </tr>\n",
       "  </thead>\n",
       "  <tbody>\n",
       "    <tr>\n",
       "      <th>1582</th>\n",
       "      <td>190253</td>\n",
       "      <td>726</td>\n",
       "      <td>Ярославль</td>\n",
       "      <td>М</td>\n",
       "      <td>49</td>\n",
       "      <td>0</td>\n",
       "      <td>NaN</td>\n",
       "      <td>1</td>\n",
       "      <td>1</td>\n",
       "      <td>1</td>\n",
       "      <td>177700.78</td>\n",
       "      <td>0</td>\n",
       "    </tr>\n",
       "    <tr>\n",
       "      <th>1836</th>\n",
       "      <td>210662</td>\n",
       "      <td>896</td>\n",
       "      <td>Рыбинск</td>\n",
       "      <td>Ж</td>\n",
       "      <td>37</td>\n",
       "      <td>0</td>\n",
       "      <td>NaN</td>\n",
       "      <td>2</td>\n",
       "      <td>0</td>\n",
       "      <td>0</td>\n",
       "      <td>90916.04</td>\n",
       "      <td>0</td>\n",
       "    </tr>\n",
       "    <tr>\n",
       "      <th>2137</th>\n",
       "      <td>131419</td>\n",
       "      <td>739</td>\n",
       "      <td>Рыбинск</td>\n",
       "      <td>Ж</td>\n",
       "      <td>37</td>\n",
       "      <td>3</td>\n",
       "      <td>1307941.65</td>\n",
       "      <td>3</td>\n",
       "      <td>0</td>\n",
       "      <td>0</td>\n",
       "      <td>103867.47</td>\n",
       "      <td>0</td>\n",
       "    </tr>\n",
       "    <tr>\n",
       "      <th>2300</th>\n",
       "      <td>220816</td>\n",
       "      <td>934</td>\n",
       "      <td>Рыбинск</td>\n",
       "      <td>Ж</td>\n",
       "      <td>74</td>\n",
       "      <td>5</td>\n",
       "      <td>1294285.39</td>\n",
       "      <td>3</td>\n",
       "      <td>1</td>\n",
       "      <td>0</td>\n",
       "      <td>95606.80</td>\n",
       "      <td>0</td>\n",
       "    </tr>\n",
       "    <tr>\n",
       "      <th>2995</th>\n",
       "      <td>208081</td>\n",
       "      <td>821</td>\n",
       "      <td>Рыбинск</td>\n",
       "      <td>Ж</td>\n",
       "      <td>62</td>\n",
       "      <td>3</td>\n",
       "      <td>493608.26</td>\n",
       "      <td>2</td>\n",
       "      <td>1</td>\n",
       "      <td>1</td>\n",
       "      <td>33491.45</td>\n",
       "      <td>0</td>\n",
       "    </tr>\n",
       "    <tr>\n",
       "      <th>3036</th>\n",
       "      <td>170312</td>\n",
       "      <td>813</td>\n",
       "      <td>Рыбинск</td>\n",
       "      <td>Ж</td>\n",
       "      <td>47</td>\n",
       "      <td>3</td>\n",
       "      <td>370027.67</td>\n",
       "      <td>2</td>\n",
       "      <td>0</td>\n",
       "      <td>0</td>\n",
       "      <td>129835.56</td>\n",
       "      <td>0</td>\n",
       "    </tr>\n",
       "    <tr>\n",
       "      <th>3102</th>\n",
       "      <td>185748</td>\n",
       "      <td>912</td>\n",
       "      <td>Ярославль</td>\n",
       "      <td>Ж</td>\n",
       "      <td>47</td>\n",
       "      <td>5</td>\n",
       "      <td>1598218.98</td>\n",
       "      <td>2</td>\n",
       "      <td>0</td>\n",
       "      <td>0</td>\n",
       "      <td>180256.98</td>\n",
       "      <td>0</td>\n",
       "    </tr>\n",
       "    <tr>\n",
       "      <th>3813</th>\n",
       "      <td>211130</td>\n",
       "      <td>918</td>\n",
       "      <td>Рыбинск</td>\n",
       "      <td>Ж</td>\n",
       "      <td>55</td>\n",
       "      <td>0</td>\n",
       "      <td>NaN</td>\n",
       "      <td>2</td>\n",
       "      <td>1</td>\n",
       "      <td>1</td>\n",
       "      <td>244202.04</td>\n",
       "      <td>0</td>\n",
       "    </tr>\n",
       "    <tr>\n",
       "      <th>4182</th>\n",
       "      <td>217643</td>\n",
       "      <td>804</td>\n",
       "      <td>Рыбинск</td>\n",
       "      <td>Ж</td>\n",
       "      <td>40</td>\n",
       "      <td>2</td>\n",
       "      <td>301836.65</td>\n",
       "      <td>2</td>\n",
       "      <td>1</td>\n",
       "      <td>1</td>\n",
       "      <td>81137.22</td>\n",
       "      <td>0</td>\n",
       "    </tr>\n",
       "    <tr>\n",
       "      <th>4212</th>\n",
       "      <td>226719</td>\n",
       "      <td>903</td>\n",
       "      <td>Рыбинск</td>\n",
       "      <td>Ж</td>\n",
       "      <td>63</td>\n",
       "      <td>0</td>\n",
       "      <td>NaN</td>\n",
       "      <td>1</td>\n",
       "      <td>1</td>\n",
       "      <td>0</td>\n",
       "      <td>138582.58</td>\n",
       "      <td>0</td>\n",
       "    </tr>\n",
       "    <tr>\n",
       "      <th>4866</th>\n",
       "      <td>197364</td>\n",
       "      <td>889</td>\n",
       "      <td>Ярославль</td>\n",
       "      <td>М</td>\n",
       "      <td>33</td>\n",
       "      <td>0</td>\n",
       "      <td>NaN</td>\n",
       "      <td>2</td>\n",
       "      <td>1</td>\n",
       "      <td>1</td>\n",
       "      <td>96173.48</td>\n",
       "      <td>0</td>\n",
       "    </tr>\n",
       "    <tr>\n",
       "      <th>5192</th>\n",
       "      <td>155765</td>\n",
       "      <td>923</td>\n",
       "      <td>Рыбинск</td>\n",
       "      <td>М</td>\n",
       "      <td>30</td>\n",
       "      <td>0</td>\n",
       "      <td>NaN</td>\n",
       "      <td>1</td>\n",
       "      <td>1</td>\n",
       "      <td>1</td>\n",
       "      <td>120296.60</td>\n",
       "      <td>0</td>\n",
       "    </tr>\n",
       "    <tr>\n",
       "      <th>5415</th>\n",
       "      <td>126368</td>\n",
       "      <td>832</td>\n",
       "      <td>Рыбинск</td>\n",
       "      <td>Ж</td>\n",
       "      <td>33</td>\n",
       "      <td>0</td>\n",
       "      <td>NaN</td>\n",
       "      <td>1</td>\n",
       "      <td>0</td>\n",
       "      <td>0</td>\n",
       "      <td>118465.34</td>\n",
       "      <td>0</td>\n",
       "    </tr>\n",
       "    <tr>\n",
       "      <th>5550</th>\n",
       "      <td>143592</td>\n",
       "      <td>764</td>\n",
       "      <td>Ярославль</td>\n",
       "      <td>Ж</td>\n",
       "      <td>68</td>\n",
       "      <td>3</td>\n",
       "      <td>508919.15</td>\n",
       "      <td>2</td>\n",
       "      <td>0</td>\n",
       "      <td>1</td>\n",
       "      <td>71211.66</td>\n",
       "      <td>0</td>\n",
       "    </tr>\n",
       "    <tr>\n",
       "      <th>5562</th>\n",
       "      <td>141265</td>\n",
       "      <td>811</td>\n",
       "      <td>Рыбинск</td>\n",
       "      <td>Ж</td>\n",
       "      <td>33</td>\n",
       "      <td>3</td>\n",
       "      <td>1044316.88</td>\n",
       "      <td>2</td>\n",
       "      <td>1</td>\n",
       "      <td>0</td>\n",
       "      <td>46055.32</td>\n",
       "      <td>0</td>\n",
       "    </tr>\n",
       "    <tr>\n",
       "      <th>5563</th>\n",
       "      <td>208815</td>\n",
       "      <td>773</td>\n",
       "      <td>Ярославль</td>\n",
       "      <td>М</td>\n",
       "      <td>39</td>\n",
       "      <td>4</td>\n",
       "      <td>288110.09</td>\n",
       "      <td>2</td>\n",
       "      <td>1</td>\n",
       "      <td>0</td>\n",
       "      <td>56971.91</td>\n",
       "      <td>0</td>\n",
       "    </tr>\n",
       "    <tr>\n",
       "      <th>5698</th>\n",
       "      <td>152479</td>\n",
       "      <td>723</td>\n",
       "      <td>Ярославль</td>\n",
       "      <td>Ж</td>\n",
       "      <td>22</td>\n",
       "      <td>0</td>\n",
       "      <td>NaN</td>\n",
       "      <td>1</td>\n",
       "      <td>1</td>\n",
       "      <td>0</td>\n",
       "      <td>83955.65</td>\n",
       "      <td>0</td>\n",
       "    </tr>\n",
       "    <tr>\n",
       "      <th>5800</th>\n",
       "      <td>217619</td>\n",
       "      <td>766</td>\n",
       "      <td>Ярославль</td>\n",
       "      <td>М</td>\n",
       "      <td>52</td>\n",
       "      <td>2</td>\n",
       "      <td>218199.47</td>\n",
       "      <td>1</td>\n",
       "      <td>1</td>\n",
       "      <td>0</td>\n",
       "      <td>120356.44</td>\n",
       "      <td>0</td>\n",
       "    </tr>\n",
       "    <tr>\n",
       "      <th>5833</th>\n",
       "      <td>208738</td>\n",
       "      <td>839</td>\n",
       "      <td>Ярославль</td>\n",
       "      <td>М</td>\n",
       "      <td>60</td>\n",
       "      <td>5</td>\n",
       "      <td>1102438.37</td>\n",
       "      <td>2</td>\n",
       "      <td>0</td>\n",
       "      <td>1</td>\n",
       "      <td>116500.81</td>\n",
       "      <td>0</td>\n",
       "    </tr>\n",
       "    <tr>\n",
       "      <th>5889</th>\n",
       "      <td>120258</td>\n",
       "      <td>905</td>\n",
       "      <td>Ярославль</td>\n",
       "      <td>М</td>\n",
       "      <td>30</td>\n",
       "      <td>0</td>\n",
       "      <td>NaN</td>\n",
       "      <td>1</td>\n",
       "      <td>1</td>\n",
       "      <td>1</td>\n",
       "      <td>146427.96</td>\n",
       "      <td>0</td>\n",
       "    </tr>\n",
       "    <tr>\n",
       "      <th>5998</th>\n",
       "      <td>188957</td>\n",
       "      <td>882</td>\n",
       "      <td>Рыбинск</td>\n",
       "      <td>Ж</td>\n",
       "      <td>64</td>\n",
       "      <td>3</td>\n",
       "      <td>893392.91</td>\n",
       "      <td>3</td>\n",
       "      <td>1</td>\n",
       "      <td>0</td>\n",
       "      <td>69622.58</td>\n",
       "      <td>0</td>\n",
       "    </tr>\n",
       "    <tr>\n",
       "      <th>6749</th>\n",
       "      <td>172142</td>\n",
       "      <td>751</td>\n",
       "      <td>Рыбинск</td>\n",
       "      <td>Ж</td>\n",
       "      <td>69</td>\n",
       "      <td>3</td>\n",
       "      <td>396568.03</td>\n",
       "      <td>2</td>\n",
       "      <td>0</td>\n",
       "      <td>1</td>\n",
       "      <td>45608.45</td>\n",
       "      <td>0</td>\n",
       "    </tr>\n",
       "    <tr>\n",
       "      <th>6779</th>\n",
       "      <td>163207</td>\n",
       "      <td>838</td>\n",
       "      <td>Ярославль</td>\n",
       "      <td>Ж</td>\n",
       "      <td>42</td>\n",
       "      <td>4</td>\n",
       "      <td>652776.60</td>\n",
       "      <td>2</td>\n",
       "      <td>1</td>\n",
       "      <td>1</td>\n",
       "      <td>97545.36</td>\n",
       "      <td>0</td>\n",
       "    </tr>\n",
       "    <tr>\n",
       "      <th>7262</th>\n",
       "      <td>164676</td>\n",
       "      <td>790</td>\n",
       "      <td>Рыбинск</td>\n",
       "      <td>Ж</td>\n",
       "      <td>77</td>\n",
       "      <td>1</td>\n",
       "      <td>111202.01</td>\n",
       "      <td>1</td>\n",
       "      <td>1</td>\n",
       "      <td>0</td>\n",
       "      <td>32835.45</td>\n",
       "      <td>0</td>\n",
       "    </tr>\n",
       "    <tr>\n",
       "      <th>7476</th>\n",
       "      <td>140377</td>\n",
       "      <td>930</td>\n",
       "      <td>Рыбинск</td>\n",
       "      <td>Ж</td>\n",
       "      <td>34</td>\n",
       "      <td>5</td>\n",
       "      <td>1123967.02</td>\n",
       "      <td>1</td>\n",
       "      <td>1</td>\n",
       "      <td>1</td>\n",
       "      <td>148336.26</td>\n",
       "      <td>0</td>\n",
       "    </tr>\n",
       "    <tr>\n",
       "      <th>7531</th>\n",
       "      <td>117943</td>\n",
       "      <td>880</td>\n",
       "      <td>Ярославль</td>\n",
       "      <td>Ж</td>\n",
       "      <td>40</td>\n",
       "      <td>0</td>\n",
       "      <td>NaN</td>\n",
       "      <td>1</td>\n",
       "      <td>1</td>\n",
       "      <td>0</td>\n",
       "      <td>137718.93</td>\n",
       "      <td>0</td>\n",
       "    </tr>\n",
       "    <tr>\n",
       "      <th>7683</th>\n",
       "      <td>116540</td>\n",
       "      <td>887</td>\n",
       "      <td>Ярославль</td>\n",
       "      <td>Ж</td>\n",
       "      <td>38</td>\n",
       "      <td>0</td>\n",
       "      <td>NaN</td>\n",
       "      <td>1</td>\n",
       "      <td>0</td>\n",
       "      <td>1</td>\n",
       "      <td>119247.61</td>\n",
       "      <td>0</td>\n",
       "    </tr>\n",
       "    <tr>\n",
       "      <th>7803</th>\n",
       "      <td>210792</td>\n",
       "      <td>839</td>\n",
       "      <td>Ярославль</td>\n",
       "      <td>М</td>\n",
       "      <td>42</td>\n",
       "      <td>2</td>\n",
       "      <td>662646.97</td>\n",
       "      <td>1</td>\n",
       "      <td>1</td>\n",
       "      <td>0</td>\n",
       "      <td>138403.60</td>\n",
       "      <td>0</td>\n",
       "    </tr>\n",
       "    <tr>\n",
       "      <th>7920</th>\n",
       "      <td>191520</td>\n",
       "      <td>767</td>\n",
       "      <td>Ярославль</td>\n",
       "      <td>М</td>\n",
       "      <td>45</td>\n",
       "      <td>0</td>\n",
       "      <td>NaN</td>\n",
       "      <td>1</td>\n",
       "      <td>1</td>\n",
       "      <td>1</td>\n",
       "      <td>880005.05</td>\n",
       "      <td>0</td>\n",
       "    </tr>\n",
       "    <tr>\n",
       "      <th>8259</th>\n",
       "      <td>149365</td>\n",
       "      <td>793</td>\n",
       "      <td>Рыбинск</td>\n",
       "      <td>Ж</td>\n",
       "      <td>61</td>\n",
       "      <td>0</td>\n",
       "      <td>476496.99</td>\n",
       "      <td>2</td>\n",
       "      <td>1</td>\n",
       "      <td>1</td>\n",
       "      <td>46147.06</td>\n",
       "      <td>0</td>\n",
       "    </tr>\n",
       "    <tr>\n",
       "      <th>8350</th>\n",
       "      <td>148826</td>\n",
       "      <td>909</td>\n",
       "      <td>Рыбинск</td>\n",
       "      <td>Ж</td>\n",
       "      <td>32</td>\n",
       "      <td>0</td>\n",
       "      <td>NaN</td>\n",
       "      <td>3</td>\n",
       "      <td>1</td>\n",
       "      <td>0</td>\n",
       "      <td>28843.54</td>\n",
       "      <td>0</td>\n",
       "    </tr>\n",
       "    <tr>\n",
       "      <th>8481</th>\n",
       "      <td>227795</td>\n",
       "      <td>839</td>\n",
       "      <td>Ярославль</td>\n",
       "      <td>М</td>\n",
       "      <td>34</td>\n",
       "      <td>2</td>\n",
       "      <td>326593.14</td>\n",
       "      <td>2</td>\n",
       "      <td>1</td>\n",
       "      <td>0</td>\n",
       "      <td>103314.92</td>\n",
       "      <td>0</td>\n",
       "    </tr>\n",
       "    <tr>\n",
       "      <th>8505</th>\n",
       "      <td>210627</td>\n",
       "      <td>804</td>\n",
       "      <td>Рыбинск</td>\n",
       "      <td>М</td>\n",
       "      <td>30</td>\n",
       "      <td>2</td>\n",
       "      <td>347818.88</td>\n",
       "      <td>3</td>\n",
       "      <td>1</td>\n",
       "      <td>0</td>\n",
       "      <td>129015.25</td>\n",
       "      <td>0</td>\n",
       "    </tr>\n",
       "    <tr>\n",
       "      <th>8621</th>\n",
       "      <td>123461</td>\n",
       "      <td>934</td>\n",
       "      <td>Рыбинск</td>\n",
       "      <td>М</td>\n",
       "      <td>34</td>\n",
       "      <td>0</td>\n",
       "      <td>NaN</td>\n",
       "      <td>2</td>\n",
       "      <td>1</td>\n",
       "      <td>0</td>\n",
       "      <td>291619.27</td>\n",
       "      <td>0</td>\n",
       "    </tr>\n",
       "    <tr>\n",
       "      <th>8688</th>\n",
       "      <td>181526</td>\n",
       "      <td>895</td>\n",
       "      <td>Рыбинск</td>\n",
       "      <td>М</td>\n",
       "      <td>29</td>\n",
       "      <td>0</td>\n",
       "      <td>NaN</td>\n",
       "      <td>1</td>\n",
       "      <td>1</td>\n",
       "      <td>1</td>\n",
       "      <td>124786.53</td>\n",
       "      <td>0</td>\n",
       "    </tr>\n",
       "    <tr>\n",
       "      <th>8716</th>\n",
       "      <td>162053</td>\n",
       "      <td>786</td>\n",
       "      <td>Ярославль</td>\n",
       "      <td>М</td>\n",
       "      <td>29</td>\n",
       "      <td>4</td>\n",
       "      <td>205824.97</td>\n",
       "      <td>3</td>\n",
       "      <td>1</td>\n",
       "      <td>0</td>\n",
       "      <td>121371.73</td>\n",
       "      <td>0</td>\n",
       "    </tr>\n",
       "    <tr>\n",
       "      <th>8804</th>\n",
       "      <td>199312</td>\n",
       "      <td>911</td>\n",
       "      <td>Рыбинск</td>\n",
       "      <td>Ж</td>\n",
       "      <td>43</td>\n",
       "      <td>0</td>\n",
       "      <td>NaN</td>\n",
       "      <td>2</td>\n",
       "      <td>1</td>\n",
       "      <td>1</td>\n",
       "      <td>152189.72</td>\n",
       "      <td>0</td>\n",
       "    </tr>\n",
       "    <tr>\n",
       "      <th>9126</th>\n",
       "      <td>183510</td>\n",
       "      <td>800</td>\n",
       "      <td>Рыбинск</td>\n",
       "      <td>Ж</td>\n",
       "      <td>42</td>\n",
       "      <td>7</td>\n",
       "      <td>473293.81</td>\n",
       "      <td>2</td>\n",
       "      <td>1</td>\n",
       "      <td>0</td>\n",
       "      <td>54049.88</td>\n",
       "      <td>0</td>\n",
       "    </tr>\n",
       "    <tr>\n",
       "      <th>9155</th>\n",
       "      <td>200863</td>\n",
       "      <td>832</td>\n",
       "      <td>Ярославль</td>\n",
       "      <td>М</td>\n",
       "      <td>42</td>\n",
       "      <td>5</td>\n",
       "      <td>620064.73</td>\n",
       "      <td>2</td>\n",
       "      <td>0</td>\n",
       "      <td>0</td>\n",
       "      <td>188054.46</td>\n",
       "      <td>0</td>\n",
       "    </tr>\n",
       "    <tr>\n",
       "      <th>9247</th>\n",
       "      <td>150667</td>\n",
       "      <td>931</td>\n",
       "      <td>Ярославль</td>\n",
       "      <td>М</td>\n",
       "      <td>41</td>\n",
       "      <td>0</td>\n",
       "      <td>NaN</td>\n",
       "      <td>1</td>\n",
       "      <td>0</td>\n",
       "      <td>0</td>\n",
       "      <td>261904.44</td>\n",
       "      <td>0</td>\n",
       "    </tr>\n",
       "    <tr>\n",
       "      <th>9342</th>\n",
       "      <td>155872</td>\n",
       "      <td>714</td>\n",
       "      <td>Рыбинск</td>\n",
       "      <td>Ж</td>\n",
       "      <td>29</td>\n",
       "      <td>0</td>\n",
       "      <td>NaN</td>\n",
       "      <td>1</td>\n",
       "      <td>1</td>\n",
       "      <td>0</td>\n",
       "      <td>118052.84</td>\n",
       "      <td>0</td>\n",
       "    </tr>\n",
       "    <tr>\n",
       "      <th>9384</th>\n",
       "      <td>217826</td>\n",
       "      <td>790</td>\n",
       "      <td>Рыбинск</td>\n",
       "      <td>Ж</td>\n",
       "      <td>46</td>\n",
       "      <td>4</td>\n",
       "      <td>430414.80</td>\n",
       "      <td>2</td>\n",
       "      <td>1</td>\n",
       "      <td>1</td>\n",
       "      <td>49400.37</td>\n",
       "      <td>0</td>\n",
       "    </tr>\n",
       "    <tr>\n",
       "      <th>9481</th>\n",
       "      <td>129785</td>\n",
       "      <td>949</td>\n",
       "      <td>Ярославль</td>\n",
       "      <td>М</td>\n",
       "      <td>43</td>\n",
       "      <td>0</td>\n",
       "      <td>NaN</td>\n",
       "      <td>1</td>\n",
       "      <td>1</td>\n",
       "      <td>1</td>\n",
       "      <td>166845.37</td>\n",
       "      <td>0</td>\n",
       "    </tr>\n",
       "    <tr>\n",
       "      <th>9485</th>\n",
       "      <td>160075</td>\n",
       "      <td>824</td>\n",
       "      <td>Рыбинск</td>\n",
       "      <td>Ж</td>\n",
       "      <td>57</td>\n",
       "      <td>3</td>\n",
       "      <td>355047.33</td>\n",
       "      <td>2</td>\n",
       "      <td>0</td>\n",
       "      <td>0</td>\n",
       "      <td>64351.81</td>\n",
       "      <td>0</td>\n",
       "    </tr>\n",
       "    <tr>\n",
       "      <th>9628</th>\n",
       "      <td>171751</td>\n",
       "      <td>862</td>\n",
       "      <td>Ярославль</td>\n",
       "      <td>М</td>\n",
       "      <td>42</td>\n",
       "      <td>4</td>\n",
       "      <td>481992.19</td>\n",
       "      <td>2</td>\n",
       "      <td>1</td>\n",
       "      <td>0</td>\n",
       "      <td>71816.86</td>\n",
       "      <td>0</td>\n",
       "    </tr>\n",
       "    <tr>\n",
       "      <th>9634</th>\n",
       "      <td>195884</td>\n",
       "      <td>767</td>\n",
       "      <td>Рыбинск</td>\n",
       "      <td>Ж</td>\n",
       "      <td>45</td>\n",
       "      <td>1</td>\n",
       "      <td>335652.56</td>\n",
       "      <td>3</td>\n",
       "      <td>1</td>\n",
       "      <td>1</td>\n",
       "      <td>100197.67</td>\n",
       "      <td>0</td>\n",
       "    </tr>\n",
       "    <tr>\n",
       "      <th>9749</th>\n",
       "      <td>124450</td>\n",
       "      <td>758</td>\n",
       "      <td>Рыбинск</td>\n",
       "      <td>Ж</td>\n",
       "      <td>36</td>\n",
       "      <td>0</td>\n",
       "      <td>73574.07</td>\n",
       "      <td>2</td>\n",
       "      <td>0</td>\n",
       "      <td>1</td>\n",
       "      <td>79963.59</td>\n",
       "      <td>0</td>\n",
       "    </tr>\n",
       "    <tr>\n",
       "      <th>9759</th>\n",
       "      <td>168998</td>\n",
       "      <td>895</td>\n",
       "      <td>Рыбинск</td>\n",
       "      <td>М</td>\n",
       "      <td>44</td>\n",
       "      <td>0</td>\n",
       "      <td>282653.53</td>\n",
       "      <td>3</td>\n",
       "      <td>0</td>\n",
       "      <td>0</td>\n",
       "      <td>255296.47</td>\n",
       "      <td>0</td>\n",
       "    </tr>\n",
       "    <tr>\n",
       "      <th>9853</th>\n",
       "      <td>217412</td>\n",
       "      <td>886</td>\n",
       "      <td>Ярославль</td>\n",
       "      <td>Ж</td>\n",
       "      <td>35</td>\n",
       "      <td>3</td>\n",
       "      <td>1026172.14</td>\n",
       "      <td>2</td>\n",
       "      <td>1</td>\n",
       "      <td>0</td>\n",
       "      <td>53099.16</td>\n",
       "      <td>0</td>\n",
       "    </tr>\n",
       "    <tr>\n",
       "      <th>9943</th>\n",
       "      <td>175730</td>\n",
       "      <td>816</td>\n",
       "      <td>Рыбинск</td>\n",
       "      <td>М</td>\n",
       "      <td>36</td>\n",
       "      <td>4</td>\n",
       "      <td>477892.07</td>\n",
       "      <td>3</td>\n",
       "      <td>1</td>\n",
       "      <td>0</td>\n",
       "      <td>81100.60</td>\n",
       "      <td>0</td>\n",
       "    </tr>\n",
       "  </tbody>\n",
       "</table>\n",
       "</div>"
      ],
      "text/plain": [
       "      user_id  score       city gender  age  equity     balance  products  \\\n",
       "1582   190253    726  Ярославль      М   49       0         NaN         1   \n",
       "1836   210662    896    Рыбинск      Ж   37       0         NaN         2   \n",
       "2137   131419    739    Рыбинск      Ж   37       3  1307941.65         3   \n",
       "2300   220816    934    Рыбинск      Ж   74       5  1294285.39         3   \n",
       "2995   208081    821    Рыбинск      Ж   62       3   493608.26         2   \n",
       "3036   170312    813    Рыбинск      Ж   47       3   370027.67         2   \n",
       "3102   185748    912  Ярославль      Ж   47       5  1598218.98         2   \n",
       "3813   211130    918    Рыбинск      Ж   55       0         NaN         2   \n",
       "4182   217643    804    Рыбинск      Ж   40       2   301836.65         2   \n",
       "4212   226719    903    Рыбинск      Ж   63       0         NaN         1   \n",
       "4866   197364    889  Ярославль      М   33       0         NaN         2   \n",
       "5192   155765    923    Рыбинск      М   30       0         NaN         1   \n",
       "5415   126368    832    Рыбинск      Ж   33       0         NaN         1   \n",
       "5550   143592    764  Ярославль      Ж   68       3   508919.15         2   \n",
       "5562   141265    811    Рыбинск      Ж   33       3  1044316.88         2   \n",
       "5563   208815    773  Ярославль      М   39       4   288110.09         2   \n",
       "5698   152479    723  Ярославль      Ж   22       0         NaN         1   \n",
       "5800   217619    766  Ярославль      М   52       2   218199.47         1   \n",
       "5833   208738    839  Ярославль      М   60       5  1102438.37         2   \n",
       "5889   120258    905  Ярославль      М   30       0         NaN         1   \n",
       "5998   188957    882    Рыбинск      Ж   64       3   893392.91         3   \n",
       "6749   172142    751    Рыбинск      Ж   69       3   396568.03         2   \n",
       "6779   163207    838  Ярославль      Ж   42       4   652776.60         2   \n",
       "7262   164676    790    Рыбинск      Ж   77       1   111202.01         1   \n",
       "7476   140377    930    Рыбинск      Ж   34       5  1123967.02         1   \n",
       "7531   117943    880  Ярославль      Ж   40       0         NaN         1   \n",
       "7683   116540    887  Ярославль      Ж   38       0         NaN         1   \n",
       "7803   210792    839  Ярославль      М   42       2   662646.97         1   \n",
       "7920   191520    767  Ярославль      М   45       0         NaN         1   \n",
       "8259   149365    793    Рыбинск      Ж   61       0   476496.99         2   \n",
       "8350   148826    909    Рыбинск      Ж   32       0         NaN         3   \n",
       "8481   227795    839  Ярославль      М   34       2   326593.14         2   \n",
       "8505   210627    804    Рыбинск      М   30       2   347818.88         3   \n",
       "8621   123461    934    Рыбинск      М   34       0         NaN         2   \n",
       "8688   181526    895    Рыбинск      М   29       0         NaN         1   \n",
       "8716   162053    786  Ярославль      М   29       4   205824.97         3   \n",
       "8804   199312    911    Рыбинск      Ж   43       0         NaN         2   \n",
       "9126   183510    800    Рыбинск      Ж   42       7   473293.81         2   \n",
       "9155   200863    832  Ярославль      М   42       5   620064.73         2   \n",
       "9247   150667    931  Ярославль      М   41       0         NaN         1   \n",
       "9342   155872    714    Рыбинск      Ж   29       0         NaN         1   \n",
       "9384   217826    790    Рыбинск      Ж   46       4   430414.80         2   \n",
       "9481   129785    949  Ярославль      М   43       0         NaN         1   \n",
       "9485   160075    824    Рыбинск      Ж   57       3   355047.33         2   \n",
       "9628   171751    862  Ярославль      М   42       4   481992.19         2   \n",
       "9634   195884    767    Рыбинск      Ж   45       1   335652.56         3   \n",
       "9749   124450    758    Рыбинск      Ж   36       0    73574.07         2   \n",
       "9759   168998    895    Рыбинск      М   44       0   282653.53         3   \n",
       "9853   217412    886  Ярославль      Ж   35       3  1026172.14         2   \n",
       "9943   175730    816    Рыбинск      М   36       4   477892.07         3   \n",
       "\n",
       "      credit_card  last_activity  est_salary  churn  \n",
       "1582            1              1   177700.78      0  \n",
       "1836            0              0    90916.04      0  \n",
       "2137            0              0   103867.47      0  \n",
       "2300            1              0    95606.80      0  \n",
       "2995            1              1    33491.45      0  \n",
       "3036            0              0   129835.56      0  \n",
       "3102            0              0   180256.98      0  \n",
       "3813            1              1   244202.04      0  \n",
       "4182            1              1    81137.22      0  \n",
       "4212            1              0   138582.58      0  \n",
       "4866            1              1    96173.48      0  \n",
       "5192            1              1   120296.60      0  \n",
       "5415            0              0   118465.34      0  \n",
       "5550            0              1    71211.66      0  \n",
       "5562            1              0    46055.32      0  \n",
       "5563            1              0    56971.91      0  \n",
       "5698            1              0    83955.65      0  \n",
       "5800            1              0   120356.44      0  \n",
       "5833            0              1   116500.81      0  \n",
       "5889            1              1   146427.96      0  \n",
       "5998            1              0    69622.58      0  \n",
       "6749            0              1    45608.45      0  \n",
       "6779            1              1    97545.36      0  \n",
       "7262            1              0    32835.45      0  \n",
       "7476            1              1   148336.26      0  \n",
       "7531            1              0   137718.93      0  \n",
       "7683            0              1   119247.61      0  \n",
       "7803            1              0   138403.60      0  \n",
       "7920            1              1   880005.05      0  \n",
       "8259            1              1    46147.06      0  \n",
       "8350            1              0    28843.54      0  \n",
       "8481            1              0   103314.92      0  \n",
       "8505            1              0   129015.25      0  \n",
       "8621            1              0   291619.27      0  \n",
       "8688            1              1   124786.53      0  \n",
       "8716            1              0   121371.73      0  \n",
       "8804            1              1   152189.72      0  \n",
       "9126            1              0    54049.88      0  \n",
       "9155            0              0   188054.46      0  \n",
       "9247            0              0   261904.44      0  \n",
       "9342            1              0   118052.84      0  \n",
       "9384            1              1    49400.37      0  \n",
       "9481            1              1   166845.37      0  \n",
       "9485            0              0    64351.81      0  \n",
       "9628            1              0    71816.86      0  \n",
       "9634            1              1   100197.67      0  \n",
       "9749            0              1    79963.59      0  \n",
       "9759            0              0   255296.47      0  \n",
       "9853            1              0    53099.16      0  \n",
       "9943            1              0    81100.60      0  "
      ]
     },
     "execution_count": 15,
     "metadata": {},
     "output_type": "execute_result"
    }
   ],
   "source": [
    "user_dup = data[data.duplicated(subset=['user_id'])]\n",
    "user_dup"
   ]
  },
  {
   "cell_type": "markdown",
   "metadata": {},
   "source": [
    "Так как таких дублей мало относительно общего числа строк, то можно предположить, что клиенты меняли место жительства и начинали пользоваться банком в другом городе, а то, что в столбцах у дублей разный пол и т.д. может являться простой ошибкой. Но т.к.данные в столбцах сильно разнятся и мы не можем уверенно удалить их."
   ]
  },
  {
   "cell_type": "markdown",
   "metadata": {},
   "source": [
    "### Анализ пропусков в столбце balance"
   ]
  },
  {
   "cell_type": "code",
   "execution_count": 16,
   "metadata": {},
   "outputs": [
    {
     "data": {
      "text/plain": [
       "0    2266\n",
       "1      12\n",
       "Name: churn, dtype: int64"
      ]
     },
     "execution_count": 16,
     "metadata": {},
     "output_type": "execute_result"
    }
   ],
   "source": [
    "# Выясним, связаны ли пропуски в столбце balance с фактом оттока клиента из банка\n",
    "\n",
    "data[data['balance'].isna()]['churn'].value_counts()"
   ]
  },
  {
   "cell_type": "markdown",
   "metadata": {},
   "source": [
    "Лишь в 12 случаях пропуск мог быть связан с уходом клиента из банка, из чего следует вывод, что эти характеристики не связаны"
   ]
  },
  {
   "cell_type": "code",
   "execution_count": 17,
   "metadata": {},
   "outputs": [
    {
     "data": {
      "text/plain": [
       "city\n",
       "Ростов        235\n",
       "Рыбинск       585\n",
       "Ярославль    1458\n",
       "Name: city, dtype: int64"
      ]
     },
     "execution_count": 17,
     "metadata": {},
     "output_type": "execute_result"
    }
   ],
   "source": [
    "# Посмотрим распределение пропусков по городам\n",
    "data.query('balance.isna()').groupby('city')['city'].count()"
   ]
  },
  {
   "cell_type": "markdown",
   "metadata": {},
   "source": [
    "Больше всего пропусков в Ярославле, меньше всего в Ростове"
   ]
  },
  {
   "cell_type": "code",
   "execution_count": 18,
   "metadata": {},
   "outputs": [
    {
     "data": {
      "text/html": [
       "<div>\n",
       "<style scoped>\n",
       "    .dataframe tbody tr th:only-of-type {\n",
       "        vertical-align: middle;\n",
       "    }\n",
       "\n",
       "    .dataframe tbody tr th {\n",
       "        vertical-align: top;\n",
       "    }\n",
       "\n",
       "    .dataframe thead th {\n",
       "        text-align: right;\n",
       "    }\n",
       "</style>\n",
       "<table border=\"1\" class=\"dataframe\">\n",
       "  <thead>\n",
       "    <tr style=\"text-align: right;\">\n",
       "      <th></th>\n",
       "      <th>user_id</th>\n",
       "      <th>score</th>\n",
       "      <th>city</th>\n",
       "      <th>gender</th>\n",
       "      <th>age</th>\n",
       "      <th>equity</th>\n",
       "      <th>balance</th>\n",
       "      <th>products</th>\n",
       "      <th>credit_card</th>\n",
       "      <th>last_activity</th>\n",
       "      <th>est_salary</th>\n",
       "      <th>churn</th>\n",
       "    </tr>\n",
       "  </thead>\n",
       "  <tbody>\n",
       "    <tr>\n",
       "      <th>3896</th>\n",
       "      <td>179831</td>\n",
       "      <td>730</td>\n",
       "      <td>Ярославль</td>\n",
       "      <td>М</td>\n",
       "      <td>18</td>\n",
       "      <td>0</td>\n",
       "      <td>0.0</td>\n",
       "      <td>2</td>\n",
       "      <td>1</td>\n",
       "      <td>1</td>\n",
       "      <td>64548.33</td>\n",
       "      <td>0</td>\n",
       "    </tr>\n",
       "    <tr>\n",
       "      <th>6750</th>\n",
       "      <td>148456</td>\n",
       "      <td>813</td>\n",
       "      <td>Ярославль</td>\n",
       "      <td>М</td>\n",
       "      <td>20</td>\n",
       "      <td>2</td>\n",
       "      <td>0.0</td>\n",
       "      <td>2</td>\n",
       "      <td>1</td>\n",
       "      <td>0</td>\n",
       "      <td>23876.51</td>\n",
       "      <td>0</td>\n",
       "    </tr>\n",
       "  </tbody>\n",
       "</table>\n",
       "</div>"
      ],
      "text/plain": [
       "      user_id  score       city gender  age  equity  balance  products  \\\n",
       "3896   179831    730  Ярославль      М   18       0      0.0         2   \n",
       "6750   148456    813  Ярославль      М   20       2      0.0         2   \n",
       "\n",
       "      credit_card  last_activity  est_salary  churn  \n",
       "3896            1              1    64548.33      0  \n",
       "6750            1              0    23876.51      0  "
      ]
     },
     "execution_count": 18,
     "metadata": {},
     "output_type": "execute_result"
    }
   ],
   "source": [
    "# Проверим, есть ли нулевые остатки в поле balance\n",
    "data.query('balance == 0')"
   ]
  },
  {
   "cell_type": "markdown",
   "metadata": {},
   "source": [
    "Если бы в столбце balance не было данных с нулевым остатком, то можно было бы принять пропуски за отсутствие денег на счету, но такие значения есть и придется оставить пропуски как есть. Заполнить пропуски средним или медианным значением будет некорректно."
   ]
  },
  {
   "cell_type": "code",
   "execution_count": 19,
   "metadata": {},
   "outputs": [
    {
     "data": {
      "text/html": [
       "<div>\n",
       "<style scoped>\n",
       "    .dataframe tbody tr th:only-of-type {\n",
       "        vertical-align: middle;\n",
       "    }\n",
       "\n",
       "    .dataframe tbody tr th {\n",
       "        vertical-align: top;\n",
       "    }\n",
       "\n",
       "    .dataframe thead th {\n",
       "        text-align: right;\n",
       "    }\n",
       "</style>\n",
       "<table border=\"1\" class=\"dataframe\">\n",
       "  <thead>\n",
       "    <tr style=\"text-align: right;\">\n",
       "      <th></th>\n",
       "      <th>user_id</th>\n",
       "      <th>score</th>\n",
       "      <th>age</th>\n",
       "      <th>equity</th>\n",
       "      <th>balance</th>\n",
       "      <th>products</th>\n",
       "      <th>credit_card</th>\n",
       "      <th>last_activity</th>\n",
       "      <th>est_salary</th>\n",
       "      <th>churn</th>\n",
       "    </tr>\n",
       "  </thead>\n",
       "  <tbody>\n",
       "    <tr>\n",
       "      <th>count</th>\n",
       "      <td>2278.000000</td>\n",
       "      <td>2278.000000</td>\n",
       "      <td>2278.000000</td>\n",
       "      <td>2278.000000</td>\n",
       "      <td>0.0</td>\n",
       "      <td>2278.000000</td>\n",
       "      <td>2278.000000</td>\n",
       "      <td>2278.000000</td>\n",
       "      <td>2.278000e+03</td>\n",
       "      <td>2278.000000</td>\n",
       "    </tr>\n",
       "    <tr>\n",
       "      <th>mean</th>\n",
       "      <td>171915.451273</td>\n",
       "      <td>865.314750</td>\n",
       "      <td>42.076822</td>\n",
       "      <td>0.050044</td>\n",
       "      <td>NaN</td>\n",
       "      <td>1.163740</td>\n",
       "      <td>0.815628</td>\n",
       "      <td>0.549166</td>\n",
       "      <td>2.264338e+05</td>\n",
       "      <td>0.005268</td>\n",
       "    </tr>\n",
       "    <tr>\n",
       "      <th>std</th>\n",
       "      <td>33306.706956</td>\n",
       "      <td>89.550489</td>\n",
       "      <td>11.919094</td>\n",
       "      <td>0.218083</td>\n",
       "      <td>NaN</td>\n",
       "      <td>0.403065</td>\n",
       "      <td>0.387873</td>\n",
       "      <td>0.497686</td>\n",
       "      <td>1.998249e+05</td>\n",
       "      <td>0.072404</td>\n",
       "    </tr>\n",
       "    <tr>\n",
       "      <th>min</th>\n",
       "      <td>114182.000000</td>\n",
       "      <td>642.000000</td>\n",
       "      <td>18.000000</td>\n",
       "      <td>0.000000</td>\n",
       "      <td>NaN</td>\n",
       "      <td>1.000000</td>\n",
       "      <td>0.000000</td>\n",
       "      <td>0.000000</td>\n",
       "      <td>2.027403e+04</td>\n",
       "      <td>0.000000</td>\n",
       "    </tr>\n",
       "    <tr>\n",
       "      <th>25%</th>\n",
       "      <td>142986.750000</td>\n",
       "      <td>871.000000</td>\n",
       "      <td>33.000000</td>\n",
       "      <td>0.000000</td>\n",
       "      <td>NaN</td>\n",
       "      <td>1.000000</td>\n",
       "      <td>1.000000</td>\n",
       "      <td>0.000000</td>\n",
       "      <td>1.202695e+05</td>\n",
       "      <td>0.000000</td>\n",
       "    </tr>\n",
       "    <tr>\n",
       "      <th>50%</th>\n",
       "      <td>172376.000000</td>\n",
       "      <td>903.000000</td>\n",
       "      <td>40.000000</td>\n",
       "      <td>0.000000</td>\n",
       "      <td>NaN</td>\n",
       "      <td>1.000000</td>\n",
       "      <td>1.000000</td>\n",
       "      <td>1.000000</td>\n",
       "      <td>1.743542e+05</td>\n",
       "      <td>0.000000</td>\n",
       "    </tr>\n",
       "    <tr>\n",
       "      <th>75%</th>\n",
       "      <td>201258.500000</td>\n",
       "      <td>922.000000</td>\n",
       "      <td>49.000000</td>\n",
       "      <td>0.000000</td>\n",
       "      <td>NaN</td>\n",
       "      <td>1.000000</td>\n",
       "      <td>1.000000</td>\n",
       "      <td>1.000000</td>\n",
       "      <td>2.403970e+05</td>\n",
       "      <td>0.000000</td>\n",
       "    </tr>\n",
       "    <tr>\n",
       "      <th>max</th>\n",
       "      <td>229145.000000</td>\n",
       "      <td>990.000000</td>\n",
       "      <td>86.000000</td>\n",
       "      <td>1.000000</td>\n",
       "      <td>NaN</td>\n",
       "      <td>3.000000</td>\n",
       "      <td>1.000000</td>\n",
       "      <td>1.000000</td>\n",
       "      <td>1.333687e+06</td>\n",
       "      <td>1.000000</td>\n",
       "    </tr>\n",
       "  </tbody>\n",
       "</table>\n",
       "</div>"
      ],
      "text/plain": [
       "             user_id        score          age       equity  balance  \\\n",
       "count    2278.000000  2278.000000  2278.000000  2278.000000      0.0   \n",
       "mean   171915.451273   865.314750    42.076822     0.050044      NaN   \n",
       "std     33306.706956    89.550489    11.919094     0.218083      NaN   \n",
       "min    114182.000000   642.000000    18.000000     0.000000      NaN   \n",
       "25%    142986.750000   871.000000    33.000000     0.000000      NaN   \n",
       "50%    172376.000000   903.000000    40.000000     0.000000      NaN   \n",
       "75%    201258.500000   922.000000    49.000000     0.000000      NaN   \n",
       "max    229145.000000   990.000000    86.000000     1.000000      NaN   \n",
       "\n",
       "          products  credit_card  last_activity    est_salary        churn  \n",
       "count  2278.000000  2278.000000    2278.000000  2.278000e+03  2278.000000  \n",
       "mean      1.163740     0.815628       0.549166  2.264338e+05     0.005268  \n",
       "std       0.403065     0.387873       0.497686  1.998249e+05     0.072404  \n",
       "min       1.000000     0.000000       0.000000  2.027403e+04     0.000000  \n",
       "25%       1.000000     1.000000       0.000000  1.202695e+05     0.000000  \n",
       "50%       1.000000     1.000000       1.000000  1.743542e+05     0.000000  \n",
       "75%       1.000000     1.000000       1.000000  2.403970e+05     0.000000  \n",
       "max       3.000000     1.000000       1.000000  1.333687e+06     1.000000  "
      ]
     },
     "metadata": {},
     "output_type": "display_data"
    },
    {
     "data": {
      "text/html": [
       "<div>\n",
       "<style scoped>\n",
       "    .dataframe tbody tr th:only-of-type {\n",
       "        vertical-align: middle;\n",
       "    }\n",
       "\n",
       "    .dataframe tbody tr th {\n",
       "        vertical-align: top;\n",
       "    }\n",
       "\n",
       "    .dataframe thead th {\n",
       "        text-align: right;\n",
       "    }\n",
       "</style>\n",
       "<table border=\"1\" class=\"dataframe\">\n",
       "  <thead>\n",
       "    <tr style=\"text-align: right;\">\n",
       "      <th></th>\n",
       "      <th>user_id</th>\n",
       "      <th>score</th>\n",
       "      <th>age</th>\n",
       "      <th>equity</th>\n",
       "      <th>balance</th>\n",
       "      <th>products</th>\n",
       "      <th>credit_card</th>\n",
       "      <th>last_activity</th>\n",
       "      <th>est_salary</th>\n",
       "      <th>churn</th>\n",
       "    </tr>\n",
       "  </thead>\n",
       "  <tbody>\n",
       "    <tr>\n",
       "      <th>count</th>\n",
       "      <td>9973.000000</td>\n",
       "      <td>9973.000000</td>\n",
       "      <td>9973.000000</td>\n",
       "      <td>9973.000000</td>\n",
       "      <td>7.695000e+03</td>\n",
       "      <td>9973.000000</td>\n",
       "      <td>9973.000000</td>\n",
       "      <td>9973.000000</td>\n",
       "      <td>9.973000e+03</td>\n",
       "      <td>9973.000000</td>\n",
       "    </tr>\n",
       "    <tr>\n",
       "      <th>mean</th>\n",
       "      <td>171757.616966</td>\n",
       "      <td>848.671212</td>\n",
       "      <td>42.730773</td>\n",
       "      <td>2.630803</td>\n",
       "      <td>8.272456e+05</td>\n",
       "      <td>1.871653</td>\n",
       "      <td>0.680237</td>\n",
       "      <td>0.522912</td>\n",
       "      <td>1.477991e+05</td>\n",
       "      <td>0.182292</td>\n",
       "    </tr>\n",
       "    <tr>\n",
       "      <th>std</th>\n",
       "      <td>33696.365256</td>\n",
       "      <td>65.393153</td>\n",
       "      <td>12.175166</td>\n",
       "      <td>1.980060</td>\n",
       "      <td>1.980327e+06</td>\n",
       "      <td>0.792547</td>\n",
       "      <td>0.466408</td>\n",
       "      <td>0.499500</td>\n",
       "      <td>1.392871e+05</td>\n",
       "      <td>0.386105</td>\n",
       "    </tr>\n",
       "    <tr>\n",
       "      <th>min</th>\n",
       "      <td>94561.000000</td>\n",
       "      <td>642.000000</td>\n",
       "      <td>18.000000</td>\n",
       "      <td>0.000000</td>\n",
       "      <td>0.000000e+00</td>\n",
       "      <td>1.000000</td>\n",
       "      <td>0.000000</td>\n",
       "      <td>0.000000</td>\n",
       "      <td>2.546300e+03</td>\n",
       "      <td>0.000000</td>\n",
       "    </tr>\n",
       "    <tr>\n",
       "      <th>25%</th>\n",
       "      <td>142757.000000</td>\n",
       "      <td>802.000000</td>\n",
       "      <td>33.000000</td>\n",
       "      <td>0.000000</td>\n",
       "      <td>2.956987e+05</td>\n",
       "      <td>1.000000</td>\n",
       "      <td>0.000000</td>\n",
       "      <td>0.000000</td>\n",
       "      <td>7.525202e+04</td>\n",
       "      <td>0.000000</td>\n",
       "    </tr>\n",
       "    <tr>\n",
       "      <th>50%</th>\n",
       "      <td>172651.000000</td>\n",
       "      <td>853.000000</td>\n",
       "      <td>40.000000</td>\n",
       "      <td>3.000000</td>\n",
       "      <td>5.242953e+05</td>\n",
       "      <td>2.000000</td>\n",
       "      <td>1.000000</td>\n",
       "      <td>1.000000</td>\n",
       "      <td>1.196431e+05</td>\n",
       "      <td>0.000000</td>\n",
       "    </tr>\n",
       "    <tr>\n",
       "      <th>75%</th>\n",
       "      <td>201164.000000</td>\n",
       "      <td>900.000000</td>\n",
       "      <td>51.000000</td>\n",
       "      <td>4.000000</td>\n",
       "      <td>9.800512e+05</td>\n",
       "      <td>2.000000</td>\n",
       "      <td>1.000000</td>\n",
       "      <td>1.000000</td>\n",
       "      <td>1.745000e+05</td>\n",
       "      <td>0.000000</td>\n",
       "    </tr>\n",
       "    <tr>\n",
       "      <th>max</th>\n",
       "      <td>229145.000000</td>\n",
       "      <td>1000.000000</td>\n",
       "      <td>86.000000</td>\n",
       "      <td>9.000000</td>\n",
       "      <td>1.191136e+08</td>\n",
       "      <td>5.000000</td>\n",
       "      <td>1.000000</td>\n",
       "      <td>1.000000</td>\n",
       "      <td>1.395064e+06</td>\n",
       "      <td>1.000000</td>\n",
       "    </tr>\n",
       "  </tbody>\n",
       "</table>\n",
       "</div>"
      ],
      "text/plain": [
       "             user_id        score          age       equity       balance  \\\n",
       "count    9973.000000  9973.000000  9973.000000  9973.000000  7.695000e+03   \n",
       "mean   171757.616966   848.671212    42.730773     2.630803  8.272456e+05   \n",
       "std     33696.365256    65.393153    12.175166     1.980060  1.980327e+06   \n",
       "min     94561.000000   642.000000    18.000000     0.000000  0.000000e+00   \n",
       "25%    142757.000000   802.000000    33.000000     0.000000  2.956987e+05   \n",
       "50%    172651.000000   853.000000    40.000000     3.000000  5.242953e+05   \n",
       "75%    201164.000000   900.000000    51.000000     4.000000  9.800512e+05   \n",
       "max    229145.000000  1000.000000    86.000000     9.000000  1.191136e+08   \n",
       "\n",
       "          products  credit_card  last_activity    est_salary        churn  \n",
       "count  9973.000000  9973.000000    9973.000000  9.973000e+03  9973.000000  \n",
       "mean      1.871653     0.680237       0.522912  1.477991e+05     0.182292  \n",
       "std       0.792547     0.466408       0.499500  1.392871e+05     0.386105  \n",
       "min       1.000000     0.000000       0.000000  2.546300e+03     0.000000  \n",
       "25%       1.000000     0.000000       0.000000  7.525202e+04     0.000000  \n",
       "50%       2.000000     1.000000       1.000000  1.196431e+05     0.000000  \n",
       "75%       2.000000     1.000000       1.000000  1.745000e+05     0.000000  \n",
       "max       5.000000     1.000000       1.000000  1.395064e+06     1.000000  "
      ]
     },
     "metadata": {},
     "output_type": "display_data"
    }
   ],
   "source": [
    "# Вызовем метод describe и проанализируем часть датасета, содержащую пропуски:\n",
    "\n",
    "display (data[data['balance'].isna()].describe())\n",
    "\n",
    "# Сравним с результатом вызова метода describe для всего датасета:\n",
    "\n",
    "display (data.describe())"
   ]
  },
  {
   "cell_type": "markdown",
   "metadata": {},
   "source": [
    "Исходя из данных можно сделать вывод о том, что поьзователи с пропусками имеют значительно меньше объектов в собственности, их банковский рейтинг чуть ниже, они пользуются меньшим числом банковских продуктов, чуть более активны и имеют более высокую зарплату."
   ]
  },
  {
   "cell_type": "markdown",
   "metadata": {},
   "source": [
    "### Поиск аномалий"
   ]
  },
  {
   "cell_type": "markdown",
   "metadata": {},
   "source": [
    "Взглянем на уникальные значения некоторых столбцов (возраста клиента и всех категориальных), посмотрим, есть ли явные аномалии:"
   ]
  },
  {
   "cell_type": "code",
   "execution_count": 20,
   "metadata": {},
   "outputs": [
    {
     "name": "stdout",
     "output_type": "stream",
     "text": [
      "Уникальные значения столбца `city`: ['Ростов' 'Рыбинск' 'Ярославль']\n",
      "Уникальные значения столбца `age`: [18 19 20 21 22 23 24 25 26 27 28 29 30 31 32 33 34 35 36 37 38 39 40 41\n",
      " 42 43 44 45 46 47 48 49 50 51 52 53 54 55 56 57 58 59 60 61 62 63 64 65\n",
      " 66 67 68 69 70 71 72 73 74 75 76 77 78 79 80 81 82 83 84 86]\n",
      "Уникальные значения столбца `gender`: ['Ж' 'М']\n",
      "Уникальные значения столбца `equity`: [0 1 2 3 4 5 6 7 8 9]\n",
      "Уникальные значения столбца `products`: [1 2 3 4 5]\n",
      "Уникальные значения столбца `credit_card`: [0 1]\n",
      "Уникальные значения столбца `last_activity`: [0 1]\n",
      "Уникальные значения столбца `churn`: [0 1]\n"
     ]
    }
   ],
   "source": [
    "for column in ['city', 'age', 'gender', 'equity', 'products', 'credit_card', 'last_activity', 'churn']:\n",
    "    print(f'Уникальные значения столбца `{column}`: {np.sort(data[column].unique())}')"
   ]
  },
  {
   "cell_type": "markdown",
   "metadata": {},
   "source": [
    "С этими столбцами всё в порядке"
   ]
  },
  {
   "cell_type": "markdown",
   "metadata": {},
   "source": [
    "## Исследовательский анализ"
   ]
  },
  {
   "cell_type": "markdown",
   "metadata": {},
   "source": [
    "Посмотрим на основные характеристики данных"
   ]
  },
  {
   "cell_type": "code",
   "execution_count": 21,
   "metadata": {},
   "outputs": [
    {
     "data": {
      "text/html": [
       "<div>\n",
       "<style scoped>\n",
       "    .dataframe tbody tr th:only-of-type {\n",
       "        vertical-align: middle;\n",
       "    }\n",
       "\n",
       "    .dataframe tbody tr th {\n",
       "        vertical-align: top;\n",
       "    }\n",
       "\n",
       "    .dataframe thead th {\n",
       "        text-align: right;\n",
       "    }\n",
       "</style>\n",
       "<table border=\"1\" class=\"dataframe\">\n",
       "  <thead>\n",
       "    <tr style=\"text-align: right;\">\n",
       "      <th></th>\n",
       "      <th>user_id</th>\n",
       "      <th>score</th>\n",
       "      <th>age</th>\n",
       "      <th>equity</th>\n",
       "      <th>balance</th>\n",
       "      <th>products</th>\n",
       "      <th>credit_card</th>\n",
       "      <th>last_activity</th>\n",
       "      <th>est_salary</th>\n",
       "      <th>churn</th>\n",
       "    </tr>\n",
       "  </thead>\n",
       "  <tbody>\n",
       "    <tr>\n",
       "      <th>count</th>\n",
       "      <td>9973.000000</td>\n",
       "      <td>9973.000000</td>\n",
       "      <td>9973.000000</td>\n",
       "      <td>9973.000000</td>\n",
       "      <td>7.695000e+03</td>\n",
       "      <td>9973.000000</td>\n",
       "      <td>9973.000000</td>\n",
       "      <td>9973.000000</td>\n",
       "      <td>9.973000e+03</td>\n",
       "      <td>9973.000000</td>\n",
       "    </tr>\n",
       "    <tr>\n",
       "      <th>mean</th>\n",
       "      <td>171757.616966</td>\n",
       "      <td>848.671212</td>\n",
       "      <td>42.730773</td>\n",
       "      <td>2.630803</td>\n",
       "      <td>8.272456e+05</td>\n",
       "      <td>1.871653</td>\n",
       "      <td>0.680237</td>\n",
       "      <td>0.522912</td>\n",
       "      <td>1.477991e+05</td>\n",
       "      <td>0.182292</td>\n",
       "    </tr>\n",
       "    <tr>\n",
       "      <th>std</th>\n",
       "      <td>33696.365256</td>\n",
       "      <td>65.393153</td>\n",
       "      <td>12.175166</td>\n",
       "      <td>1.980060</td>\n",
       "      <td>1.980327e+06</td>\n",
       "      <td>0.792547</td>\n",
       "      <td>0.466408</td>\n",
       "      <td>0.499500</td>\n",
       "      <td>1.392871e+05</td>\n",
       "      <td>0.386105</td>\n",
       "    </tr>\n",
       "    <tr>\n",
       "      <th>min</th>\n",
       "      <td>94561.000000</td>\n",
       "      <td>642.000000</td>\n",
       "      <td>18.000000</td>\n",
       "      <td>0.000000</td>\n",
       "      <td>0.000000e+00</td>\n",
       "      <td>1.000000</td>\n",
       "      <td>0.000000</td>\n",
       "      <td>0.000000</td>\n",
       "      <td>2.546300e+03</td>\n",
       "      <td>0.000000</td>\n",
       "    </tr>\n",
       "    <tr>\n",
       "      <th>25%</th>\n",
       "      <td>142757.000000</td>\n",
       "      <td>802.000000</td>\n",
       "      <td>33.000000</td>\n",
       "      <td>0.000000</td>\n",
       "      <td>2.956987e+05</td>\n",
       "      <td>1.000000</td>\n",
       "      <td>0.000000</td>\n",
       "      <td>0.000000</td>\n",
       "      <td>7.525202e+04</td>\n",
       "      <td>0.000000</td>\n",
       "    </tr>\n",
       "    <tr>\n",
       "      <th>50%</th>\n",
       "      <td>172651.000000</td>\n",
       "      <td>853.000000</td>\n",
       "      <td>40.000000</td>\n",
       "      <td>3.000000</td>\n",
       "      <td>5.242953e+05</td>\n",
       "      <td>2.000000</td>\n",
       "      <td>1.000000</td>\n",
       "      <td>1.000000</td>\n",
       "      <td>1.196431e+05</td>\n",
       "      <td>0.000000</td>\n",
       "    </tr>\n",
       "    <tr>\n",
       "      <th>75%</th>\n",
       "      <td>201164.000000</td>\n",
       "      <td>900.000000</td>\n",
       "      <td>51.000000</td>\n",
       "      <td>4.000000</td>\n",
       "      <td>9.800512e+05</td>\n",
       "      <td>2.000000</td>\n",
       "      <td>1.000000</td>\n",
       "      <td>1.000000</td>\n",
       "      <td>1.745000e+05</td>\n",
       "      <td>0.000000</td>\n",
       "    </tr>\n",
       "    <tr>\n",
       "      <th>max</th>\n",
       "      <td>229145.000000</td>\n",
       "      <td>1000.000000</td>\n",
       "      <td>86.000000</td>\n",
       "      <td>9.000000</td>\n",
       "      <td>1.191136e+08</td>\n",
       "      <td>5.000000</td>\n",
       "      <td>1.000000</td>\n",
       "      <td>1.000000</td>\n",
       "      <td>1.395064e+06</td>\n",
       "      <td>1.000000</td>\n",
       "    </tr>\n",
       "  </tbody>\n",
       "</table>\n",
       "</div>"
      ],
      "text/plain": [
       "             user_id        score          age       equity       balance  \\\n",
       "count    9973.000000  9973.000000  9973.000000  9973.000000  7.695000e+03   \n",
       "mean   171757.616966   848.671212    42.730773     2.630803  8.272456e+05   \n",
       "std     33696.365256    65.393153    12.175166     1.980060  1.980327e+06   \n",
       "min     94561.000000   642.000000    18.000000     0.000000  0.000000e+00   \n",
       "25%    142757.000000   802.000000    33.000000     0.000000  2.956987e+05   \n",
       "50%    172651.000000   853.000000    40.000000     3.000000  5.242953e+05   \n",
       "75%    201164.000000   900.000000    51.000000     4.000000  9.800512e+05   \n",
       "max    229145.000000  1000.000000    86.000000     9.000000  1.191136e+08   \n",
       "\n",
       "          products  credit_card  last_activity    est_salary        churn  \n",
       "count  9973.000000  9973.000000    9973.000000  9.973000e+03  9973.000000  \n",
       "mean      1.871653     0.680237       0.522912  1.477991e+05     0.182292  \n",
       "std       0.792547     0.466408       0.499500  1.392871e+05     0.386105  \n",
       "min       1.000000     0.000000       0.000000  2.546300e+03     0.000000  \n",
       "25%       1.000000     0.000000       0.000000  7.525202e+04     0.000000  \n",
       "50%       2.000000     1.000000       1.000000  1.196431e+05     0.000000  \n",
       "75%       2.000000     1.000000       1.000000  1.745000e+05     0.000000  \n",
       "max       5.000000     1.000000       1.000000  1.395064e+06     1.000000  "
      ]
     },
     "execution_count": 21,
     "metadata": {},
     "output_type": "execute_result"
    }
   ],
   "source": [
    "data.describe()"
   ]
  },
  {
   "cell_type": "code",
   "execution_count": 22,
   "metadata": {},
   "outputs": [
    {
     "data": {
      "image/png": "[encoded data removed]",
      "text/plain": [
       "<Figure size 432x288 with 1 Axes>"
      ]
     },
     "metadata": {},
     "output_type": "display_data"
    },
    {
     "data": {
      "image/png": "[encoded data removed]",
      "text/plain": [
       "<Figure size 432x288 with 1 Axes>"
      ]
     },
     "metadata": {},
     "output_type": "display_data"
    },
    {
     "data": {
      "image/png": "[encoded data removed]",
      "text/plain": [
       "<Figure size 432x288 with 1 Axes>"
      ]
     },
     "metadata": {},
     "output_type": "display_data"
    },
    {
     "data": {
      "image/png": "[encoded data removed]",
      "text/plain": [
       "<Figure size 432x288 with 1 Axes>"
      ]
     },
     "metadata": {},
     "output_type": "display_data"
    },
    {
     "data": {
      "image/png": "[encoded data removed]",
      "text/plain": [
       "<Figure size 432x288 with 1 Axes>"
      ]
     },
     "metadata": {},
     "output_type": "display_data"
    }
   ],
   "source": [
    "for column in ['city','gender','credit_card','last_activity','churn']:\n",
    "    df = data.groupby(column).agg({'user_id': 'count'})\n",
    "    fig1,ax1 = plt.subplots()\n",
    "    ax1.pie(df['user_id'], labels=df.index, autopct='%1.1f%%')\n",
    "    ax1.set_title(f'Распределение клиентов по признаку {column}')\n",
    "    plt.show()"
   ]
  },
  {
   "cell_type": "code",
   "execution_count": 23,
   "metadata": {},
   "outputs": [
    {
     "name": "stderr",
     "output_type": "stream",
     "text": [
      "/opt/conda/lib/python3.9/site-packages/seaborn/_decorators.py:36: FutureWarning: Pass the following variable as a keyword arg: x. From version 0.12, the only valid positional argument will be `data`, and passing other arguments without an explicit keyword will result in an error or misinterpretation.\n",
      "  warnings.warn(\n"
     ]
    },
    {
     "data": {
      "image/png": "[encoded data removed]",
      "text/plain": [
       "<Figure size 1440x504 with 1 Axes>"
      ]
     },
     "metadata": {
      "needs_background": "light"
     },
     "output_type": "display_data"
    },
    {
     "name": "stderr",
     "output_type": "stream",
     "text": [
      "/opt/conda/lib/python3.9/site-packages/seaborn/_decorators.py:36: FutureWarning: Pass the following variable as a keyword arg: x. From version 0.12, the only valid positional argument will be `data`, and passing other arguments without an explicit keyword will result in an error or misinterpretation.\n",
      "  warnings.warn(\n"
     ]
    },
    {
     "data": {
      "image/png": "[encoded data removed]",
      "text/plain": [
       "<Figure size 1440x504 with 1 Axes>"
      ]
     },
     "metadata": {
      "needs_background": "light"
     },
     "output_type": "display_data"
    },
    {
     "name": "stderr",
     "output_type": "stream",
     "text": [
      "/opt/conda/lib/python3.9/site-packages/seaborn/_decorators.py:36: FutureWarning: Pass the following variable as a keyword arg: x. From version 0.12, the only valid positional argument will be `data`, and passing other arguments without an explicit keyword will result in an error or misinterpretation.\n",
      "  warnings.warn(\n"
     ]
    },
    {
     "data": {
      "image/png": "[encoded data removed]",
      "text/plain": [
       "<Figure size 1440x504 with 1 Axes>"
      ]
     },
     "metadata": {
      "needs_background": "light"
     },
     "output_type": "display_data"
    }
   ],
   "source": [
    "for column in ['age','equity', 'products']:\n",
    "    plt.figure(figsize=(20,7))\n",
    "    sns.countplot(data[column])\n",
    "    plt.title(f'Распределение клиентов по признаку {column}')\n",
    "    plt.show()"
   ]
  },
  {
   "cell_type": "markdown",
   "metadata": {},
   "source": [
    "Всего в отток попало 18% клиентов; клиентами являются люди от 18 до 86 лет, средний возраст - 43 года; средний балл кредитного скоринга - 849, минимальный - 642, максимальный - 1000; 68% клинтов имеют кредитную карту; активных клиентов 52%; чаще всего клиентами являются люди без собственности; половина клиентов пользуется двумя продуктами банка."
   ]
  },
  {
   "cell_type": "code",
   "execution_count": 24,
   "metadata": {},
   "outputs": [
    {
     "data": {
      "image/png": "[encoded data removed]",
      "text/plain": [
       "<Figure size 906.375x864 with 12 Axes>"
      ]
     },
     "metadata": {
      "needs_background": "light"
     },
     "output_type": "display_data"
    }
   ],
   "source": [
    "sns.pairplot(data[['age','equity', 'products','churn']], hue='churn', height=4);"
   ]
  },
  {
   "cell_type": "markdown",
   "metadata": {},
   "source": [
    "Из графиков видно, что чаще всего люди уходят в возрасте от 20 до 40 лет. Заметно, что люди от 40 лет, пользующиеся 4-мя банковскими продуктами и имеют в собственности больше 5 объектов, уходят чаще. Самый большой отток заметен среди клиентов с двумя продуктами банка в возрасте от 40 до 60."
   ]
  },
  {
   "cell_type": "code",
   "execution_count": 25,
   "metadata": {
    "scrolled": false
   },
   "outputs": [
    {
     "data": {
      "image/png": "[encoded data removed]",
      "text/plain": [
       "<Figure size 432x288 with 1 Axes>"
      ]
     },
     "metadata": {
      "needs_background": "light"
     },
     "output_type": "display_data"
    },
    {
     "data": {
      "image/png": "[encoded data removed]",
      "text/plain": [
       "<Figure size 432x288 with 1 Axes>"
      ]
     },
     "metadata": {
      "needs_background": "light"
     },
     "output_type": "display_data"
    },
    {
     "data": {
      "image/png": "[encoded data removed]",
      "text/plain": [
       "<Figure size 432x288 with 1 Axes>"
      ]
     },
     "metadata": {
      "needs_background": "light"
     },
     "output_type": "display_data"
    },
    {
     "data": {
      "image/png": "[encoded data removed]",
      "text/plain": [
       "<Figure size 432x288 with 1 Axes>"
      ]
     },
     "metadata": {
      "needs_background": "light"
     },
     "output_type": "display_data"
    },
    {
     "data": {
      "image/png": "[encoded data removed]",
      "text/plain": [
       "<Figure size 432x288 with 1 Axes>"
      ]
     },
     "metadata": {
      "needs_background": "light"
     },
     "output_type": "display_data"
    },
    {
     "data": {
      "image/png": "[encoded data removed]",
      "text/plain": [
       "<Figure size 432x288 with 1 Axes>"
      ]
     },
     "metadata": {
      "needs_background": "light"
     },
     "output_type": "display_data"
    }
   ],
   "source": [
    "for column in ['city','gender','credit_card','last_activity', 'equity', 'products']:\n",
    "        ax = sns.countplot(data=data, x=column, hue='churn');\n",
    "        plt.title(f'Доля оттока по признаку {column}', fontsize = 20, color = 'black')\n",
    "        plt.legend(['остались', 'ушли'])\n",
    "        plt.show()        "
   ]
  },
  {
   "cell_type": "code",
   "execution_count": 26,
   "metadata": {},
   "outputs": [
    {
     "data": {
      "image/png": "[encoded data removed]",
      "text/plain": [
       "<Figure size 1080x720 with 1 Axes>"
      ]
     },
     "metadata": {
      "needs_background": "light"
     },
     "output_type": "display_data"
    }
   ],
   "source": [
    "for column in ['age']:\n",
    "        plt.figure(figsize=(15,10))\n",
    "        ax = sns.countplot(data=data, x=column, hue='churn');\n",
    "        plt.title(f'Доля оттока по признаку {column}', fontsize = 20, color = 'black' )\n",
    "        plt.legend(['остались', 'ушли'])\n",
    "        plt.show()     "
   ]
  },
  {
   "cell_type": "markdown",
   "metadata": {},
   "source": [
    "Здесь мы видим, что самый большой отток в Ярославле (там суммарно больше всего клиентов); большинство \"оттекающих\" - мужчины; чаще такие клиенты имеют кредитную карту, но показатели наличия у обоих категорий практически равны; активных \"оттекающих\" клиентов значительно больше, чем неактивных \"оттекающих\", что может быть связано с тем, что люди закрывали счета, забирали деньги из этого банка и совершали другие операции для ухода. Доля отточных клиентов растет с увеличением количества объектов в собственности. Наиболее крупными и подходящими для дальнейшего использования можно назвать клиентов с 4 и 5 объектами. По количеству используемых банковских продуктов можно выделить две группы: клиенты, имеющие 2 продукта, т.к. здесь больше всего людей и достаточно высокий процент оттока (25%); и клиенты, имеющие 4 продукта, т.к. здесь доля оттекающих практически в два раза превышает долю неотточных клиентов, но это малочисленная категория, так что посмотрим, удастся ли нам ее использовать."
   ]
  },
  {
   "cell_type": "markdown",
   "metadata": {},
   "source": [
    "### Корреляция признаков"
   ]
  },
  {
   "cell_type": "markdown",
   "metadata": {},
   "source": [
    "Преобразуем категориальные переменные."
   ]
  },
  {
   "cell_type": "code",
   "execution_count": 27,
   "metadata": {},
   "outputs": [
    {
     "data": {
      "text/html": [
       "<div>\n",
       "<style scoped>\n",
       "    .dataframe tbody tr th:only-of-type {\n",
       "        vertical-align: middle;\n",
       "    }\n",
       "\n",
       "    .dataframe tbody tr th {\n",
       "        vertical-align: top;\n",
       "    }\n",
       "\n",
       "    .dataframe thead th {\n",
       "        text-align: right;\n",
       "    }\n",
       "</style>\n",
       "<table border=\"1\" class=\"dataframe\">\n",
       "  <thead>\n",
       "    <tr style=\"text-align: right;\">\n",
       "      <th></th>\n",
       "      <th>user_id</th>\n",
       "      <th>score</th>\n",
       "      <th>age</th>\n",
       "      <th>equity</th>\n",
       "      <th>balance</th>\n",
       "      <th>products</th>\n",
       "      <th>credit_card</th>\n",
       "      <th>last_activity</th>\n",
       "      <th>est_salary</th>\n",
       "      <th>churn</th>\n",
       "      <th>city_Ростов</th>\n",
       "      <th>city_Рыбинск</th>\n",
       "      <th>city_Ярославль</th>\n",
       "      <th>gender_Ж</th>\n",
       "      <th>gender_М</th>\n",
       "    </tr>\n",
       "  </thead>\n",
       "  <tbody>\n",
       "    <tr>\n",
       "      <th>0</th>\n",
       "      <td>183012</td>\n",
       "      <td>850</td>\n",
       "      <td>25</td>\n",
       "      <td>1</td>\n",
       "      <td>59214.82</td>\n",
       "      <td>2</td>\n",
       "      <td>0</td>\n",
       "      <td>1</td>\n",
       "      <td>75719.14</td>\n",
       "      <td>1</td>\n",
       "      <td>0</td>\n",
       "      <td>1</td>\n",
       "      <td>0</td>\n",
       "      <td>1</td>\n",
       "      <td>0</td>\n",
       "    </tr>\n",
       "    <tr>\n",
       "      <th>1</th>\n",
       "      <td>146556</td>\n",
       "      <td>861</td>\n",
       "      <td>37</td>\n",
       "      <td>5</td>\n",
       "      <td>850594.33</td>\n",
       "      <td>3</td>\n",
       "      <td>1</td>\n",
       "      <td>0</td>\n",
       "      <td>86621.77</td>\n",
       "      <td>0</td>\n",
       "      <td>0</td>\n",
       "      <td>1</td>\n",
       "      <td>0</td>\n",
       "      <td>1</td>\n",
       "      <td>0</td>\n",
       "    </tr>\n",
       "    <tr>\n",
       "      <th>2</th>\n",
       "      <td>120722</td>\n",
       "      <td>892</td>\n",
       "      <td>30</td>\n",
       "      <td>0</td>\n",
       "      <td>NaN</td>\n",
       "      <td>1</td>\n",
       "      <td>1</td>\n",
       "      <td>1</td>\n",
       "      <td>107683.34</td>\n",
       "      <td>0</td>\n",
       "      <td>0</td>\n",
       "      <td>1</td>\n",
       "      <td>0</td>\n",
       "      <td>1</td>\n",
       "      <td>0</td>\n",
       "    </tr>\n",
       "    <tr>\n",
       "      <th>3</th>\n",
       "      <td>225363</td>\n",
       "      <td>866</td>\n",
       "      <td>51</td>\n",
       "      <td>5</td>\n",
       "      <td>1524746.26</td>\n",
       "      <td>2</td>\n",
       "      <td>0</td>\n",
       "      <td>1</td>\n",
       "      <td>174423.53</td>\n",
       "      <td>1</td>\n",
       "      <td>0</td>\n",
       "      <td>0</td>\n",
       "      <td>1</td>\n",
       "      <td>1</td>\n",
       "      <td>0</td>\n",
       "    </tr>\n",
       "    <tr>\n",
       "      <th>4</th>\n",
       "      <td>157978</td>\n",
       "      <td>730</td>\n",
       "      <td>34</td>\n",
       "      <td>5</td>\n",
       "      <td>174.00</td>\n",
       "      <td>1</td>\n",
       "      <td>1</td>\n",
       "      <td>0</td>\n",
       "      <td>67353.16</td>\n",
       "      <td>1</td>\n",
       "      <td>0</td>\n",
       "      <td>0</td>\n",
       "      <td>1</td>\n",
       "      <td>0</td>\n",
       "      <td>1</td>\n",
       "    </tr>\n",
       "  </tbody>\n",
       "</table>\n",
       "</div>"
      ],
      "text/plain": [
       "   user_id  score  age  equity     balance  products  credit_card  \\\n",
       "0   183012    850   25       1    59214.82         2            0   \n",
       "1   146556    861   37       5   850594.33         3            1   \n",
       "2   120722    892   30       0         NaN         1            1   \n",
       "3   225363    866   51       5  1524746.26         2            0   \n",
       "4   157978    730   34       5      174.00         1            1   \n",
       "\n",
       "   last_activity  est_salary  churn  city_Ростов  city_Рыбинск  \\\n",
       "0              1    75719.14      1            0             1   \n",
       "1              0    86621.77      0            0             1   \n",
       "2              1   107683.34      0            0             1   \n",
       "3              1   174423.53      1            0             0   \n",
       "4              0    67353.16      1            0             0   \n",
       "\n",
       "   city_Ярославль  gender_Ж  gender_М  \n",
       "0               0         1         0  \n",
       "1               0         1         0  \n",
       "2               0         1         0  \n",
       "3               1         1         0  \n",
       "4               1         0         1  "
      ]
     },
     "execution_count": 27,
     "metadata": {},
     "output_type": "execute_result"
    }
   ],
   "source": [
    "data_dumm = pd.get_dummies(data)\n",
    "data_dumm.head()"
   ]
  },
  {
   "cell_type": "markdown",
   "metadata": {},
   "source": [
    "Удалим столбец gender_Ж и переименуем столбец gender_М. В новом столбце gender_b: Мужчина - это 1, Женщина - это 0."
   ]
  },
  {
   "cell_type": "code",
   "execution_count": 28,
   "metadata": {},
   "outputs": [],
   "source": [
    "data_dumm=data_dumm.drop(['gender_Ж'], axis=1)"
   ]
  },
  {
   "cell_type": "code",
   "execution_count": 29,
   "metadata": {},
   "outputs": [
    {
     "data": {
      "text/html": [
       "<div>\n",
       "<style scoped>\n",
       "    .dataframe tbody tr th:only-of-type {\n",
       "        vertical-align: middle;\n",
       "    }\n",
       "\n",
       "    .dataframe tbody tr th {\n",
       "        vertical-align: top;\n",
       "    }\n",
       "\n",
       "    .dataframe thead th {\n",
       "        text-align: right;\n",
       "    }\n",
       "</style>\n",
       "<table border=\"1\" class=\"dataframe\">\n",
       "  <thead>\n",
       "    <tr style=\"text-align: right;\">\n",
       "      <th></th>\n",
       "      <th>user_id</th>\n",
       "      <th>score</th>\n",
       "      <th>age</th>\n",
       "      <th>equity</th>\n",
       "      <th>balance</th>\n",
       "      <th>products</th>\n",
       "      <th>credit_card</th>\n",
       "      <th>last_activity</th>\n",
       "      <th>est_salary</th>\n",
       "      <th>churn</th>\n",
       "      <th>city_Ростов</th>\n",
       "      <th>city_Рыбинск</th>\n",
       "      <th>city_Ярославль</th>\n",
       "      <th>gender_b</th>\n",
       "    </tr>\n",
       "  </thead>\n",
       "  <tbody>\n",
       "    <tr>\n",
       "      <th>0</th>\n",
       "      <td>183012</td>\n",
       "      <td>850</td>\n",
       "      <td>25</td>\n",
       "      <td>1</td>\n",
       "      <td>59214.82</td>\n",
       "      <td>2</td>\n",
       "      <td>0</td>\n",
       "      <td>1</td>\n",
       "      <td>75719.14</td>\n",
       "      <td>1</td>\n",
       "      <td>0</td>\n",
       "      <td>1</td>\n",
       "      <td>0</td>\n",
       "      <td>0</td>\n",
       "    </tr>\n",
       "    <tr>\n",
       "      <th>1</th>\n",
       "      <td>146556</td>\n",
       "      <td>861</td>\n",
       "      <td>37</td>\n",
       "      <td>5</td>\n",
       "      <td>850594.33</td>\n",
       "      <td>3</td>\n",
       "      <td>1</td>\n",
       "      <td>0</td>\n",
       "      <td>86621.77</td>\n",
       "      <td>0</td>\n",
       "      <td>0</td>\n",
       "      <td>1</td>\n",
       "      <td>0</td>\n",
       "      <td>0</td>\n",
       "    </tr>\n",
       "    <tr>\n",
       "      <th>2</th>\n",
       "      <td>120722</td>\n",
       "      <td>892</td>\n",
       "      <td>30</td>\n",
       "      <td>0</td>\n",
       "      <td>NaN</td>\n",
       "      <td>1</td>\n",
       "      <td>1</td>\n",
       "      <td>1</td>\n",
       "      <td>107683.34</td>\n",
       "      <td>0</td>\n",
       "      <td>0</td>\n",
       "      <td>1</td>\n",
       "      <td>0</td>\n",
       "      <td>0</td>\n",
       "    </tr>\n",
       "    <tr>\n",
       "      <th>3</th>\n",
       "      <td>225363</td>\n",
       "      <td>866</td>\n",
       "      <td>51</td>\n",
       "      <td>5</td>\n",
       "      <td>1524746.26</td>\n",
       "      <td>2</td>\n",
       "      <td>0</td>\n",
       "      <td>1</td>\n",
       "      <td>174423.53</td>\n",
       "      <td>1</td>\n",
       "      <td>0</td>\n",
       "      <td>0</td>\n",
       "      <td>1</td>\n",
       "      <td>0</td>\n",
       "    </tr>\n",
       "    <tr>\n",
       "      <th>4</th>\n",
       "      <td>157978</td>\n",
       "      <td>730</td>\n",
       "      <td>34</td>\n",
       "      <td>5</td>\n",
       "      <td>174.00</td>\n",
       "      <td>1</td>\n",
       "      <td>1</td>\n",
       "      <td>0</td>\n",
       "      <td>67353.16</td>\n",
       "      <td>1</td>\n",
       "      <td>0</td>\n",
       "      <td>0</td>\n",
       "      <td>1</td>\n",
       "      <td>1</td>\n",
       "    </tr>\n",
       "  </tbody>\n",
       "</table>\n",
       "</div>"
      ],
      "text/plain": [
       "   user_id  score  age  equity     balance  products  credit_card  \\\n",
       "0   183012    850   25       1    59214.82         2            0   \n",
       "1   146556    861   37       5   850594.33         3            1   \n",
       "2   120722    892   30       0         NaN         1            1   \n",
       "3   225363    866   51       5  1524746.26         2            0   \n",
       "4   157978    730   34       5      174.00         1            1   \n",
       "\n",
       "   last_activity  est_salary  churn  city_Ростов  city_Рыбинск  \\\n",
       "0              1    75719.14      1            0             1   \n",
       "1              0    86621.77      0            0             1   \n",
       "2              1   107683.34      0            0             1   \n",
       "3              1   174423.53      1            0             0   \n",
       "4              0    67353.16      1            0             0   \n",
       "\n",
       "   city_Ярославль  gender_b  \n",
       "0               0         0  \n",
       "1               0         0  \n",
       "2               0         0  \n",
       "3               1         0  \n",
       "4               1         1  "
      ]
     },
     "execution_count": 29,
     "metadata": {},
     "output_type": "execute_result"
    }
   ],
   "source": [
    "data_dumm=data_dumm.rename(columns={\"gender_М\": \"gender_b\"})\n",
    "data_dumm.head()"
   ]
  },
  {
   "cell_type": "code",
   "execution_count": 30,
   "metadata": {},
   "outputs": [
    {
     "data": {
      "image/png": "[encoded data removed]",
      "text/plain": [
       "<Figure size 936x936 with 2 Axes>"
      ]
     },
     "metadata": {
      "needs_background": "light"
     },
     "output_type": "display_data"
    }
   ],
   "source": [
    "plt.figure(figsize=(13, 13))\n",
    "sns.heatmap(data_dumm.corr(), square = True, annot = True, linewidths=0.5)\n",
    "plt.title('Тепловая карта корреляций между признаками')\n",
    "plt.show()"
   ]
  },
  {
   "cell_type": "markdown",
   "metadata": {},
   "source": [
    "Сильной зависимости между признаками не наблюдается, есть небольшая связь между оттоком и количеством продуктов (0.3) и баллами собственности (0.27)"
   ]
  },
  {
   "cell_type": "markdown",
   "metadata": {},
   "source": [
    "В результате исследовательского анализа нам удалось установить следующее:\n",
    "Большинство клиентов из Ярославля;\n",
    "68% клинтов используют кредитную карту;\n",
    "Отток клиентов составляет 18%;\n",
    "По активности клиенты распределились примерно одинаково: 52% активных и 48% неактивных;\n",
    "Средний возраст 43 года;\n",
    "Чаще люди имеют 1-2 банковских продукта;\n",
    "Клиенты с двумя продуктами чаще уходят;\n",
    "Самый большой отток заметен в Ярославле."
   ]
  },
  {
   "cell_type": "markdown",
   "metadata": {},
   "source": [
    "## Проверка статистических гипотез"
   ]
  },
  {
   "cell_type": "markdown",
   "metadata": {},
   "source": [
    "Для проверки уровня статистической значимости будем применять t-критерий, так как он используется для проверки того, равны ли средние значения двух выборок при нормальном распределении."
   ]
  },
  {
   "cell_type": "markdown",
   "metadata": {},
   "source": [
    "### Гипотеза о различии доходов отточных и оставшихся клиентов"
   ]
  },
  {
   "cell_type": "markdown",
   "metadata": {},
   "source": [
    "Н0: средние доходы отточных и оставшихся клиентов равны.   \n",
    "Н1: средние доходы отточных и оставшихся клиентов не равны."
   ]
  },
  {
   "cell_type": "code",
   "execution_count": 31,
   "metadata": {},
   "outputs": [
    {
     "name": "stdout",
     "output_type": "stream",
     "text": [
      "0.8354803526840116\n",
      "Не удалось отвергнуть нулевую гипотезу\n"
     ]
    }
   ],
   "source": [
    "results = st.ttest_ind (\n",
    "    data[data['churn']==0]['est_salary'],\n",
    "    data[data['churn']==1]['est_salary'], equal_var = False)\n",
    "\n",
    "alpha = 0.05\n",
    "\n",
    "print (results.pvalue) \n",
    "\n",
    "if results.pvalue < alpha:\n",
    "    print ('Отвергаем нулевую гипотезу')\n",
    "else:\n",
    "    print ('Не удалось отвергнуть нулевую гипотезу')"
   ]
  },
  {
   "cell_type": "markdown",
   "metadata": {},
   "source": [
    "Поскольку не удалось отвергнуть нулевую гипотезу, статистически значимых различий в средних доходах пользователей не наблюдается."
   ]
  },
  {
   "cell_type": "markdown",
   "metadata": {},
   "source": [
    "### Гипотеза о влиянии наличия кредитной карты на отточность"
   ]
  },
  {
   "cell_type": "markdown",
   "metadata": {},
   "source": [
    "Н0: среднее количество кредитных карт у отточных и оставшихся клиентов равно.   \n",
    "Н1: среднее количество кредитных карт у отточных и оставшихся клиентов не равно."
   ]
  },
  {
   "cell_type": "code",
   "execution_count": 32,
   "metadata": {},
   "outputs": [
    {
     "name": "stdout",
     "output_type": "stream",
     "text": [
      "3.5339185146511654e-34\n",
      "Отвергаем нулевую гипотезу\n"
     ]
    }
   ],
   "source": [
    "results = st.ttest_ind (\n",
    "    data[data['churn']==0]['credit_card'],\n",
    "    data[data['churn']==1]['credit_card'], equal_var = False)\n",
    "\n",
    "alpha = 0.05\n",
    "\n",
    "print (results.pvalue) \n",
    "\n",
    "if results.pvalue < alpha:\n",
    "    print ('Отвергаем нулевую гипотезу')\n",
    "else:\n",
    "    print ('Не получилось отвергнуть нулевую гипотезу')"
   ]
  },
  {
   "cell_type": "markdown",
   "metadata": {},
   "source": [
    "Выявилась статистически значимая разница в количестве кредитных карт у отточных и неотточных клиентов. Доля клиентов с кредитными картами среди неотточных гораздо выше, что было сказано в исследовательском анализе."
   ]
  },
  {
   "cell_type": "markdown",
   "metadata": {},
   "source": [
    "## Разделение пользователей на сегменты и их приоритезация"
   ]
  },
  {
   "cell_type": "markdown",
   "metadata": {},
   "source": [
    "В ходе исследовательского анализа были выявлены наиболее важные параметры клиентов, по которым можно уточнить круг отточных людей. Среди таких категорий: город, пол, количество банковских продуктов, баллы собственности. По этим категориям попытаемся выделить наиболее крупные группы отточных клиентов."
   ]
  },
  {
   "cell_type": "markdown",
   "metadata": {},
   "source": [
    "### Сегмент 1:"
   ]
  },
  {
   "cell_type": "markdown",
   "metadata": {},
   "source": [
    "Включим сюда мужчин из Ярославля с двумя продуктками банка."
   ]
  },
  {
   "cell_type": "code",
   "execution_count": 33,
   "metadata": {},
   "outputs": [
    {
     "name": "stdout",
     "output_type": "stream",
     "text": [
      "Общее число пользователей в сегменте №1: 1373\n",
      "Число отточных пользователей в сегменте №1: 352\n",
      "Доля отточных пользователей в сегменте №1: 25.637290604515663\n"
     ]
    },
    {
     "data": {
      "image/png": "[encoded data removed]",
      "text/plain": [
       "<Figure size 432x288 with 1 Axes>"
      ]
     },
     "metadata": {
      "needs_background": "light"
     },
     "output_type": "display_data"
    }
   ],
   "source": [
    "# Рассчитаем общее число пользователей в этом сегменте:\n",
    "print ('Общее число пользователей в сегменте №1:', data_dumm.query (\n",
    "    'gender_b==1 and city_Ярославль==1  and products == 2')['user_id'].count() )\n",
    "\n",
    "\n",
    "# Рассчитаем число отточных пользователей в этом сегменте:\n",
    "print ('Число отточных пользователей в сегменте №1:', data_dumm.query (\n",
    "    'gender_b==1 and city_Ярославль==1 and products == 2 and churn==1')['user_id'].count())\n",
    "\n",
    "#  Рассчитаем долю отточных пользователей:\n",
    "print ('Доля отточных пользователей в сегменте №1:', data_dumm.query (\n",
    "    'gender_b==1 and city_Ярославль==1 and products == 2 and churn==1')['user_id'].count() / data_dumm.query (\n",
    "    'gender_b==1 and city_Ярославль==1 and products == 2')['user_id'].count()*100)\n",
    "\n",
    "# Добавим визуализацию\n",
    "s1 = pd.DataFrame({'всего': [data_dumm.query (\n",
    "    'gender_b==1 and city_Ярославль==1  and products == 2')['user_id'].count()], 'отток': [data_dumm.query (\n",
    "    'gender_b==1 and city_Ярославль==1 and products == 2 and churn==1')['user_id'].count()]})\n",
    "s1.plot(kind='bar', ylabel='Количество клиентов')\n",
    "plt.show()\n"
   ]
  },
  {
   "cell_type": "markdown",
   "metadata": {},
   "source": [
    "### Сегмент 2:"
   ]
  },
  {
   "cell_type": "markdown",
   "metadata": {},
   "source": [
    "Теперь рассмотрим женщин с теми же параметрами."
   ]
  },
  {
   "cell_type": "code",
   "execution_count": 34,
   "metadata": {},
   "outputs": [
    {
     "name": "stdout",
     "output_type": "stream",
     "text": [
      "Общее число пользователей в сегменте №2: 1381\n",
      "Число отточных пользователей в сегменте №2: 194\n",
      "Доля отточных пользователей в сегменте №2: 14.047791455467054\n"
     ]
    },
    {
     "data": {
      "image/png": "[encoded data removed]",
      "text/plain": [
       "<Figure size 432x288 with 1 Axes>"
      ]
     },
     "metadata": {
      "needs_background": "light"
     },
     "output_type": "display_data"
    }
   ],
   "source": [
    "# Рассчитаем общее число пользователей в этом сегменте:\n",
    "print ('Общее число пользователей в сегменте №2:', data_dumm.query (\n",
    "    'gender_b==0 and city_Ярославль==1 and products == 2')['user_id'].count() )\n",
    "\n",
    "\n",
    "# Рассчитаем число отточных пользователей в этом сегменте:\n",
    "print ('Число отточных пользователей в сегменте №2:', data_dumm.query (\n",
    "    'gender_b==0 and city_Ярославль==1 and products == 2 and churn==1')['user_id'].count())\n",
    "\n",
    "#  Рассчитаем долю отточных пользователей:\n",
    "print ('Доля отточных пользователей в сегменте №2:', data_dumm.query (\n",
    "    'gender_b==0 and city_Ярославль==1 and products == 2 and churn==1')['user_id'].count() / data_dumm.query (\n",
    "    'gender_b==0 and city_Ярославль==1 and products == 2')['user_id'].count()*100)\n",
    "\n",
    "# Добавим визуализацию\n",
    "s2 = pd.DataFrame({'всего': [data_dumm.query (\n",
    "    'gender_b==0 and city_Ярославль==1 and products == 2')['user_id'].count()], 'отток': [data_dumm.query (\n",
    "    'gender_b==0 and city_Ярославль==1 and products == 2 and churn==1')['user_id'].count()]})\n",
    "s2.plot(kind='bar', ylabel='Количество клиентов')\n",
    "plt.show()"
   ]
  },
  {
   "cell_type": "markdown",
   "metadata": {},
   "source": [
    "Слишком маленький процент оттока, этот сегмент нам не подходит."
   ]
  },
  {
   "cell_type": "markdown",
   "metadata": {},
   "source": [
    "### Сегмент 3:"
   ]
  },
  {
   "cell_type": "markdown",
   "metadata": {},
   "source": [
    " Мужчины из Ярославля с 3-мя и более продуктами банка"
   ]
  },
  {
   "cell_type": "code",
   "execution_count": 35,
   "metadata": {},
   "outputs": [
    {
     "name": "stdout",
     "output_type": "stream",
     "text": [
      "Общее число пользователей в сегменте №3: 516\n",
      "Число отточных пользователей в сегменте №3: 265\n",
      "Доля отточных пользователей в сегменте №3: 51.356589147286826\n"
     ]
    },
    {
     "data": {
      "image/png": "[encoded data removed]",
      "text/plain": [
       "<Figure size 432x288 with 1 Axes>"
      ]
     },
     "metadata": {
      "needs_background": "light"
     },
     "output_type": "display_data"
    }
   ],
   "source": [
    "# Рассчитаем общее число пользователей в этом сегменте:\n",
    "print ('Общее число пользователей в сегменте №3:', data_dumm.query (\n",
    "    'gender_b==1 and city_Ярославль==1 and products >= 3')['user_id'].count() )\n",
    "\n",
    "\n",
    "# Рассчитаем число отточных пользователей в этом сегменте:\n",
    "print ('Число отточных пользователей в сегменте №3:', data_dumm.query (\n",
    "    'gender_b==1 and city_Ярославль==1 and products >= 3 and churn==1')['user_id'].count())\n",
    "\n",
    "#  Рассчитаем долю отточных пользователей:\n",
    "print ('Доля отточных пользователей в сегменте №3:', data_dumm.query (\n",
    "    'gender_b==1 and city_Ярославль==1 and products >= 3 and churn==1')['user_id'].count() / data_dumm.query (\n",
    "    'gender_b==1 and city_Ярославль==1 and products >= 3')['user_id'].count()*100)\n",
    "# Добавим визуализацию\n",
    "s3 = pd.DataFrame({'всего': [data_dumm.query (\n",
    "    'gender_b==1 and city_Ярославль==1 and products >= 3')['user_id'].count()], 'отток': [data_dumm.query (\n",
    "    'gender_b==1 and city_Ярославль==1 and products >= 3 and churn==1')['user_id'].count()]})\n",
    "s3.plot(kind='bar', ylabel='Количество клиентов')\n",
    "plt.show()"
   ]
  },
  {
   "cell_type": "markdown",
   "metadata": {},
   "source": [
    "Процент хороший, но категория получилась малочисленной. Т.к. количество почти дотягивает до нужного, то учтём эту категорию."
   ]
  },
  {
   "cell_type": "markdown",
   "metadata": {},
   "source": [
    "### Сегмент 4:"
   ]
  },
  {
   "cell_type": "markdown",
   "metadata": {},
   "source": [
    "Мужчины с 3-мя и более продуктами банка."
   ]
  },
  {
   "cell_type": "code",
   "execution_count": 36,
   "metadata": {},
   "outputs": [
    {
     "name": "stdout",
     "output_type": "stream",
     "text": [
      "Общее число пользователей в сегменте №4: 752\n",
      "Число отточных пользователей в сегменте №4: 376\n",
      "Доля отточных пользователей в сегменте №4: 50.0\n"
     ]
    },
    {
     "data": {
      "image/png": "[encoded data removed]",
      "text/plain": [
       "<Figure size 432x288 with 1 Axes>"
      ]
     },
     "metadata": {
      "needs_background": "light"
     },
     "output_type": "display_data"
    }
   ],
   "source": [
    "# Рассчитаем общее число пользователей в этом сегменте:\n",
    "print ('Общее число пользователей в сегменте №4:', data_dumm.query (\n",
    "    'gender_b==1 and products >= 3')['user_id'].count() )\n",
    "\n",
    "\n",
    "# Рассчитаем число отточных пользователей в этом сегменте:\n",
    "print ('Число отточных пользователей в сегменте №4:', data_dumm.query (\n",
    "    'gender_b==1 and products >= 3 and churn==1')['user_id'].count())\n",
    "\n",
    "#  Рассчитаем долю отточных пользователей:\n",
    "print ('Доля отточных пользователей в сегменте №4:', data_dumm.query (\n",
    "    'gender_b==1 and products >= 3 and churn==1')['user_id'].count() / data_dumm.query (\n",
    "    'gender_b==1 and products >= 3')['user_id'].count()*100)\n",
    "# Добавим визуализацию\n",
    "s4 = pd.DataFrame({'всего': [data_dumm.query (\n",
    "    'gender_b==1 and products >= 3')['user_id'].count()], 'отток': [data_dumm.query (\n",
    "    'gender_b==1 and products >= 3 and churn==1')['user_id'].count()]})\n",
    "s4.plot(kind='bar', ylabel='Количество клиентов')\n",
    "plt.show()"
   ]
  },
  {
   "cell_type": "markdown",
   "metadata": {},
   "source": [
    "### Сегмент 5:"
   ]
  },
  {
   "cell_type": "markdown",
   "metadata": {},
   "source": [
    "Женищны с 3-мя и более продуктами банка"
   ]
  },
  {
   "cell_type": "code",
   "execution_count": 37,
   "metadata": {},
   "outputs": [
    {
     "name": "stdout",
     "output_type": "stream",
     "text": [
      "Общее число пользователей в сегменте №5: 779\n",
      "Число отточных пользователей в сегменте №5: 229\n",
      "Доля отточных пользователей в сегменте №5: 29.396662387676507\n"
     ]
    },
    {
     "data": {
      "image/png": "[encoded data removed]",
      "text/plain": [
       "<Figure size 432x288 with 1 Axes>"
      ]
     },
     "metadata": {
      "needs_background": "light"
     },
     "output_type": "display_data"
    }
   ],
   "source": [
    "# Рассчитаем общее число пользователей в этом сегменте:\n",
    "print ('Общее число пользователей в сегменте №5:', data_dumm.query (\n",
    "    'gender_b==0 and products >= 3')['user_id'].count() )\n",
    "\n",
    "\n",
    "# Рассчитаем число отточных пользователей в этом сегменте:\n",
    "print ('Число отточных пользователей в сегменте №5:', data_dumm.query (\n",
    "    'gender_b==0 and products >= 3 and churn==1')['user_id'].count())\n",
    "\n",
    "#  Рассчитаем долю отточных пользователей:\n",
    "print ('Доля отточных пользователей в сегменте №5:', data_dumm.query (\n",
    "    'gender_b==0 and products >= 3 and churn==1')['user_id'].count() / data_dumm.query (\n",
    "    'gender_b==0 and products >= 3')['user_id'].count()*100)\n",
    "\n",
    "# Добавим визуализацию\n",
    "s5 = pd.DataFrame({'всего': [data_dumm.query (\n",
    "    'gender_b==0 and products >= 3')['user_id'].count()], 'отток': [data_dumm.query (\n",
    "    'gender_b==0 and products >= 3 and churn==1')['user_id'].count()]})\n",
    "s5.plot(kind='bar', ylabel='Количество клиентов')\n",
    "plt.show()"
   ]
  },
  {
   "cell_type": "markdown",
   "metadata": {},
   "source": [
    "В данном разрезе нам больше подходят мужчины"
   ]
  },
  {
   "cell_type": "markdown",
   "metadata": {},
   "source": [
    "### Сегмент 6:"
   ]
  },
  {
   "cell_type": "markdown",
   "metadata": {},
   "source": [
    "Посмотрим на показатели с разным количеством собственности"
   ]
  },
  {
   "cell_type": "markdown",
   "metadata": {},
   "source": [
    "Мужчины из Ярославля с 5-ю и более объектами в собственности"
   ]
  },
  {
   "cell_type": "code",
   "execution_count": 38,
   "metadata": {},
   "outputs": [
    {
     "name": "stdout",
     "output_type": "stream",
     "text": [
      "Общее число пользователей в сегменте №6: 671\n",
      "Число отточных пользователей в сегменте №6: 293\n",
      "Доля отточных пользователей в сегменте №6: 43.666169895678095\n"
     ]
    },
    {
     "data": {
      "image/png": "[encoded data removed]",
      "text/plain": [
       "<Figure size 432x288 with 1 Axes>"
      ]
     },
     "metadata": {
      "needs_background": "light"
     },
     "output_type": "display_data"
    }
   ],
   "source": [
    "# Рассчитаем общее число пользователей в этом сегменте:\n",
    "print ('Общее число пользователей в сегменте №6:', data_dumm.query (\n",
    "    'gender_b==1 and city_Ярославль==1 and equity >= 5')['user_id'].count() )\n",
    "\n",
    "\n",
    "# Рассчитаем число отточных пользователей в этом сегменте:\n",
    "print ('Число отточных пользователей в сегменте №6:', data_dumm.query (\n",
    "    'gender_b==1 and city_Ярославль==1 and equity >= 5 and churn==1')['user_id'].count())\n",
    "\n",
    "#  Рассчитаем долю отточных пользователей:\n",
    "print ('Доля отточных пользователей в сегменте №6:', data_dumm.query (\n",
    "    'gender_b==1 and city_Ярославль==1 and equity >= 5 and churn==1')['user_id'].count() / data_dumm.query (\n",
    "    'gender_b==1 and city_Ярославль==1 and equity >= 5')['user_id'].count()*100)\n",
    "\n",
    "# Добавим визуализацию\n",
    "s6 = pd.DataFrame({'всего': [data_dumm.query (\n",
    "    'gender_b==1 and city_Ярославль==1 and equity >= 5')['user_id'].count()], 'отток': [data_dumm.query (\n",
    "    'gender_b==1 and city_Ярославль==1 and equity >= 5 and churn==1')['user_id'].count()]})\n",
    "s6.plot(kind='bar', ylabel='Количество клиентов')\n",
    "plt.show()"
   ]
  },
  {
   "cell_type": "markdown",
   "metadata": {},
   "source": [
    "Группа получилась не слишком большой, удалим город из фильтра и добавим наличие кредитной карты"
   ]
  },
  {
   "cell_type": "markdown",
   "metadata": {},
   "source": [
    "### Сегмент 7:\n"
   ]
  },
  {
   "cell_type": "code",
   "execution_count": 39,
   "metadata": {},
   "outputs": [
    {
     "name": "stdout",
     "output_type": "stream",
     "text": [
      "Общее число пользователей в сегменте №7: 688\n",
      "Число отточных пользователей в сегменте №7: 243\n",
      "Доля отточных пользователей в сегменте №7: 35.31976744186046\n"
     ]
    },
    {
     "data": {
      "image/png": "[encoded data removed]",
      "text/plain": [
       "<Figure size 432x288 with 1 Axes>"
      ]
     },
     "metadata": {
      "needs_background": "light"
     },
     "output_type": "display_data"
    }
   ],
   "source": [
    "# Рассчитаем общее число пользователей в этом сегменте:\n",
    "print ('Общее число пользователей в сегменте №7:', data_dumm.query (\n",
    "    'gender_b==1 and credit_card == 1 and equity >= 5')['user_id'].count() )\n",
    "\n",
    "\n",
    "# Рассчитаем число отточных пользователей в этом сегменте:\n",
    "print ('Число отточных пользователей в сегменте №7:', data_dumm.query (\n",
    "    'gender_b==1 and credit_card == 1 and equity >= 5 and churn==1')['user_id'].count())\n",
    "\n",
    "#  Рассчитаем долю отточных пользователей:\n",
    "print ('Доля отточных пользователей в сегменте №7:', data_dumm.query (\n",
    "    'gender_b==1 and credit_card == 1 and equity >= 5 and churn==1')['user_id'].count() / data_dumm.query (\n",
    "    'gender_b==1 and credit_card == 1 and equity >= 5')['user_id'].count()*100)\n",
    "\n",
    "# Добавим визуализацию\n",
    "s7 = pd.DataFrame({'всего': [data_dumm.query (\n",
    "    'gender_b==1 and credit_card == 1 and equity >= 5')['user_id'].count()], 'отток': [data_dumm.query (\n",
    "    'gender_b==1 and credit_card == 1 and equity >= 5 and churn==1')['user_id'].count()]})\n",
    "s7.plot(kind='bar', ylabel='Количество клиентов')\n",
    "plt.show()"
   ]
  },
  {
   "cell_type": "markdown",
   "metadata": {},
   "source": [
    "### Сегмент 8:\n"
   ]
  },
  {
   "cell_type": "markdown",
   "metadata": {},
   "source": [
    "Женщины с 5-ю и более объектами в собственности и с кредитной картой"
   ]
  },
  {
   "cell_type": "code",
   "execution_count": 40,
   "metadata": {},
   "outputs": [
    {
     "name": "stdout",
     "output_type": "stream",
     "text": [
      "Общее число пользователей в сегменте №8: 597\n",
      "Число отточных пользователей в сегменте №8: 91\n",
      "Доля отточных пользователей в сегменте №8: 15.242881072026801\n"
     ]
    },
    {
     "data": {
      "image/png": "[encoded data removed]",
      "text/plain": [
       "<Figure size 432x288 with 1 Axes>"
      ]
     },
     "metadata": {
      "needs_background": "light"
     },
     "output_type": "display_data"
    }
   ],
   "source": [
    "# Рассчитаем общее число пользователей в этом сегменте:\n",
    "print ('Общее число пользователей в сегменте №8:', data_dumm.query (\n",
    "    'gender_b==0 and credit_card == 1 and equity >= 5')['user_id'].count() )\n",
    "\n",
    "\n",
    "# Рассчитаем число отточных пользователей в этом сегменте:\n",
    "print ('Число отточных пользователей в сегменте №8:', data_dumm.query (\n",
    "    'gender_b==0 and credit_card == 1 and equity >= 5 and churn==1')['user_id'].count())\n",
    "\n",
    "#  Рассчитаем долю отточных пользователей:\n",
    "print ('Доля отточных пользователей в сегменте №8:', data_dumm.query (\n",
    "    'gender_b==0 and credit_card == 1 and equity >= 5 and churn==1')['user_id'].count() / data_dumm.query (\n",
    "    'gender_b==0 and credit_card ==1 and equity >= 5')['user_id'].count()*100)\n",
    "\n",
    "# Добавим визуализацию\n",
    "s8 = pd.DataFrame({'всего': [data_dumm.query (\n",
    "    'gender_b==0 and credit_card == 1 and equity >= 5')['user_id'].count()], 'отток': [data_dumm.query (\n",
    "    'gender_b==0 and credit_card == 1 and equity >= 5 and churn==1')['user_id'].count()]})\n",
    "s8.plot(kind='bar', ylabel='Количество клиентов')\n",
    "plt.show()"
   ]
  },
  {
   "cell_type": "markdown",
   "metadata": {},
   "source": [
    "Женщины с 5-ю и более объектами собственности и с кредиткой значительно реже находятся в оттоке"
   ]
  },
  {
   "cell_type": "markdown",
   "metadata": {},
   "source": [
    "### Сегмент 9:\n"
   ]
  },
  {
   "cell_type": "markdown",
   "metadata": {},
   "source": [
    "Мужчины из Ярославля, имеющие до 5 объектов в собственности"
   ]
  },
  {
   "cell_type": "code",
   "execution_count": 41,
   "metadata": {},
   "outputs": [
    {
     "name": "stdout",
     "output_type": "stream",
     "text": [
      "Общее число пользователей в сегменте №9: 2328\n",
      "Число отточных пользователей в сегменте №9: 417\n",
      "Доля отточных пользователей в сегменте №9: 17.912371134020617\n"
     ]
    },
    {
     "data": {
      "image/png": "[encoded data removed]",
      "text/plain": [
       "<Figure size 432x288 with 1 Axes>"
      ]
     },
     "metadata": {
      "needs_background": "light"
     },
     "output_type": "display_data"
    }
   ],
   "source": [
    "# Рассчитаем общее число пользователей в этом сегменте:\n",
    "print ('Общее число пользователей в сегменте №9:', data_dumm.query (\n",
    "    'gender_b==1 and city_Ярославль==1 and equity <= 4')['user_id'].count() )\n",
    "\n",
    "\n",
    "# Рассчитаем число отточных пользователей в этом сегменте:\n",
    "print ('Число отточных пользователей в сегменте №9:', data_dumm.query (\n",
    "    'gender_b==1 and city_Ярославль==1 and equity <= 4 and churn==1')['user_id'].count())\n",
    "\n",
    "#  Рассчитаем долю отточных пользователей:\n",
    "print ('Доля отточных пользователей в сегменте №9:', data_dumm.query (\n",
    "    'gender_b==1 and city_Ярославль==1 and equity <= 4 and churn==1')['user_id'].count() / data_dumm.query (\n",
    "    'gender_b==1 and city_Ярославль==1 and equity <= 4')['user_id'].count()*100)\n",
    "\n",
    "# Добавим визуализацию\n",
    "s9 = pd.DataFrame({'всего': [data_dumm.query (\n",
    "    'gender_b==1 and city_Ярославль==1 and equity <= 4')['user_id'].count()], 'отток': [data_dumm.query (\n",
    "    'gender_b==1 and city_Ярославль==1 and equity <= 4 and churn==1')['user_id'].count()]})\n",
    "s9.plot(kind='bar', ylabel='Количество клиентов')\n",
    "plt.show()"
   ]
  },
  {
   "cell_type": "markdown",
   "metadata": {},
   "source": [
    "Слишком большая группа и слишком маленький процент оттока"
   ]
  },
  {
   "cell_type": "markdown",
   "metadata": {},
   "source": [
    "### Сегмент 10:\n"
   ]
  },
  {
   "cell_type": "markdown",
   "metadata": {},
   "source": [
    "Клиенты c более чем пятью объектами в собственности, с двумя продуктами банка и без кредитной карты"
   ]
  },
  {
   "cell_type": "code",
   "execution_count": 42,
   "metadata": {},
   "outputs": [
    {
     "name": "stdout",
     "output_type": "stream",
     "text": [
      "Общее число пользователей в сегменте №10: 587\n",
      "Число отточных пользователей в сегменте №10: 224\n",
      "Доля отточных пользователей в сегменте №10: 38.16013628620102\n"
     ]
    },
    {
     "data": {
      "image/png": "[encoded data removed]",
      "text/plain": [
       "<Figure size 432x288 with 1 Axes>"
      ]
     },
     "metadata": {
      "needs_background": "light"
     },
     "output_type": "display_data"
    }
   ],
   "source": [
    "# Рассчитаем общее число пользователей в этом сегменте:\n",
    "print ('Общее число пользователей в сегменте №10:', data_dumm.query (\n",
    "    'credit_card == 0  and equity >= 5 and products == 2')['user_id'].count() )\n",
    "\n",
    "\n",
    "# Рассчитаем число отточных пользователей в этом сегменте:\n",
    "print ('Число отточных пользователей в сегменте №10:', data_dumm.query (\n",
    "    'credit_card == 0 and equity >= 5 and churn==1 and products == 2')['user_id'].count())\n",
    "\n",
    "#  Рассчитаем долю отточных пользователей:\n",
    "print ('Доля отточных пользователей в сегменте №10:', data_dumm.query (\n",
    "    'credit_card == 0 and equity >= 5 and churn==1 and products == 2')['user_id'].count() / data_dumm.query (\n",
    "    'credit_card == 0 and equity >= 5 and products == 2')['user_id'].count()*100)\n",
    "\n",
    "# Добавим визуализацию\n",
    "s10 = pd.DataFrame({'всего': [data_dumm.query (\n",
    "    'credit_card == 0  and equity >= 5 and products == 2')['user_id'].count()], 'отток': [data_dumm.query (\n",
    "    'credit_card == 0 and equity >= 5 and churn==1 and products == 2')['user_id'].count()]})\n",
    "s10.plot(kind='bar', ylabel='Количество клиентов')\n",
    "plt.show()"
   ]
  },
  {
   "cell_type": "markdown",
   "metadata": {},
   "source": [
    "### Топ-3 сегментов по отточности"
   ]
  },
  {
   "cell_type": "markdown",
   "metadata": {},
   "source": [
    "Самой отточной является группа мужчин из Ярославля с 3-мя и более продуктами банка (51% оттока); далее идет группа мужчин из Ярославля с 5-ю и более объектами в собственности (44% оттока); замыкает тройку группа клиентов с 5-ю и более объектами в собственности, с двумя продуктами банка и без кредитки. Как сегмент, с непересекающимися с остальными критериями можно назвать десятый, включающий отсутствие кредитной карты, более 5 объектов собственности и два банковских продукта. Женщины хоть и чаще являются клиентами банка, но отточность у них ниже. Чем больше объектов собственности и банковских продуктов у клиента, тем выше его шанс оттока. Отсутствие кредитной карты также является косвенным признаком оттока."
   ]
  },
  {
   "cell_type": "markdown",
   "metadata": {},
   "source": [
    "## Вывод"
   ]
  },
  {
   "cell_type": "markdown",
   "metadata": {},
   "source": [
    "В данном проекте был проведен анализ оттока клиентов банка. В ходе предобработки данных были выявлены и удалены пропуски в возрасте клиентов, т.к. их мало и их отсутствие не скажется на результатах; также были выявлены пропуски я значениях баланса на счете пользователей. Таких пропусков было много и можно было бы предположить, что это нулевые значения при отсутствии таковых в таблице, но это не так и было решено оставить пропуски как есть. Было установлено, что пропуски в балансе не связаны с признаком оттока клиента. Больше всего пропусков было в Ярославле, т.к. из этого города большая часть клиентов и, соответственно, записи с этим городом занимают значительную часть данных. \n",
    "Люди моложе 18 лет и с нулевым количеством банковских продуктов не могут являться клиентами банка, поэтому таблица была проверена на наличие таких записей.   \n",
    "\n",
    "Также было установлено, что всего в отток попало 18% клиентов; клиенты мужского и женского полов разделились поровну; клиентами являются люди от 18 до 86 лет, средний возраст - 43 года; средний балл кредитного скоринга - 849, минимальный - 642, максимальный - 1000; 68% клинтов имеют кредитную карту; активных клиентов 52%; чаще всего клиентами являются люди без собственности; половина клиентов пользуется двумя продуктами банка.   \n",
    "\n",
    "Большинство \"оттекающих\" - мужчины; чаще такие клиенты имеют кредитную карту, но показатели наличия у обоих категорий практически равны; активных \"оттекающих\" клиентов значительно больше, чем неактивных \"оттекающих\", что может быть связано с тем, что люди закрывали счета, забирали деньги из этого банка и совершали другие операции для ухода. Доля отточных клиентов растет с увеличением количества объектов в собственности. Наиболее крупными и подходящими для дальнейшего использования можно назвать клиентов с 4 и 5 объектами. По количеству используемых банковских продуктов можно выделить две группы: клиенты, имеющие 2 продукта, т.к. здесь больше всего людей и достаточно высокий процент оттока (25%); и клиенты, имеющие 4 продукта, т.к. здесь доля оттекающих практически в два раза превышает долю неотточных клиентов.   \n",
    "\n",
    "В ходе проверки гипотез было установлено, что статистически значимой разницы в доходах пользователей в оттоке и не в оттоке нет, выявилась статистически значимая разница в количестве кредитных карт у отточных и неотточных клиентов. Доля клиентов с кредитными картами среди неотточных гораздо выше, что было сказано в исследовательском анализе.    \n",
    "\n",
    "Далее были выделены разрезы пользователей по различным признакам и выделены топ-3 категории, на которые стоит обратить внимание: самой отточной является группа мужчин из Ярославля с 3-мя и более продуктами банка (51% оттока); далее идет группа мужчин из Ярославля с 5-ю и более объектами в собственности (44% оттока); замыкает тройку группа клиентов с 5-ю и более объектами в собственности, с двумя продуктами банка и без кредитки(38% оттока). Женщины хоть и чаще являются клиентами банка, но отточность у них ниже. Чем больше объектов собственности и банковских продуктов у клиента, тем выше его шанс оттока. Отсутствие кредитной карты также является косвенным признаком оттока.\n"
   ]
  },
  {
   "cell_type": "markdown",
   "metadata": {},
   "source": [
    "## Рекомендации"
   ]
  },
  {
   "cell_type": "markdown",
   "metadata": {},
   "source": [
    "Учитывая количество отточных клиентов в Ярославле, сотрудникам банка в этом городе,как в целом и в других филиалах, следует уделить внимание мужчинам, клиентам с большим количеством собственности, с тремя и боле продуктами банка и без кредитной карты. В частности, мужчинам можно предложить скидки на топливо, в автомобильных магазинах, как вариант на товары для рыболовов; по поводу имущества можно предложить понижение стоимости страховки либо какие-то дополнительные услуги по выгодной цене; клиентам, не имеющим кредитную карту, стоит ее предложить; если считать, что банковскими продуктами являются кредитные карты, различные кредиты и тому подобные вещи, то можно предложить перекредитование под более выгодный процент, кредитные карты с повышенным кэшбеком, увеличенной суммой и сроком возврата задолженности."
   ]
  }
 ],
 "metadata": {
  "ExecuteTimeLog": [
   {
    "duration": 1727,
    "start_time": "2023-11-22T09:36:48.796Z"
   },
   {
    "duration": 71,
    "start_time": "2023-11-22T09:37:34.746Z"
   },
   {
    "duration": 123,
    "start_time": "2023-11-22T09:38:16.533Z"
   },
   {
    "duration": 28,
    "start_time": "2023-11-22T09:38:31.426Z"
   },
   {
    "duration": 19,
    "start_time": "2023-11-22T09:39:06.946Z"
   },
   {
    "duration": 4,
    "start_time": "2023-11-22T09:55:02.499Z"
   },
   {
    "duration": 5,
    "start_time": "2023-11-22T09:56:04.036Z"
   },
   {
    "duration": 23,
    "start_time": "2023-11-22T09:59:05.023Z"
   },
   {
    "duration": 14,
    "start_time": "2023-11-22T09:59:30.072Z"
   },
   {
    "duration": 35,
    "start_time": "2023-11-22T10:01:32.728Z"
   },
   {
    "duration": 17,
    "start_time": "2023-11-22T10:01:48.897Z"
   },
   {
    "duration": 19,
    "start_time": "2023-11-22T10:06:16.053Z"
   },
   {
    "duration": 34,
    "start_time": "2023-11-22T10:06:47.110Z"
   },
   {
    "duration": 33,
    "start_time": "2023-11-22T10:06:59.422Z"
   },
   {
    "duration": 32,
    "start_time": "2023-11-22T10:08:05.688Z"
   },
   {
    "duration": 16,
    "start_time": "2023-11-22T10:12:45.101Z"
   },
   {
    "duration": 11,
    "start_time": "2023-11-22T10:13:03.596Z"
   },
   {
    "duration": 10,
    "start_time": "2023-11-22T10:14:02.533Z"
   },
   {
    "duration": 10,
    "start_time": "2023-11-22T10:15:15.383Z"
   },
   {
    "duration": 14,
    "start_time": "2023-11-22T10:20:51.260Z"
   },
   {
    "duration": 11,
    "start_time": "2023-11-22T10:21:16.780Z"
   },
   {
    "duration": 13,
    "start_time": "2023-11-22T10:21:31.470Z"
   },
   {
    "duration": 4,
    "start_time": "2023-11-22T10:21:36.152Z"
   },
   {
    "duration": 132,
    "start_time": "2023-11-22T10:21:36.158Z"
   },
   {
    "duration": 25,
    "start_time": "2023-11-22T10:21:36.292Z"
   },
   {
    "duration": 16,
    "start_time": "2023-11-22T10:21:36.319Z"
   },
   {
    "duration": 6,
    "start_time": "2023-11-22T10:21:36.338Z"
   },
   {
    "duration": 14,
    "start_time": "2023-11-22T10:21:36.345Z"
   },
   {
    "duration": 24,
    "start_time": "2023-11-22T10:21:36.360Z"
   },
   {
    "duration": 29,
    "start_time": "2023-11-22T10:21:36.400Z"
   },
   {
    "duration": 23,
    "start_time": "2023-11-22T10:22:22.165Z"
   },
   {
    "duration": 76,
    "start_time": "2023-11-22T10:22:44.486Z"
   },
   {
    "duration": 22,
    "start_time": "2023-11-22T10:22:55.038Z"
   },
   {
    "duration": 3,
    "start_time": "2023-11-22T10:23:34.241Z"
   },
   {
    "duration": 383,
    "start_time": "2023-11-22T10:23:34.246Z"
   },
   {
    "duration": 23,
    "start_time": "2023-11-22T10:23:34.631Z"
   },
   {
    "duration": 13,
    "start_time": "2023-11-22T10:23:34.656Z"
   },
   {
    "duration": 4,
    "start_time": "2023-11-22T10:23:34.672Z"
   },
   {
    "duration": 6,
    "start_time": "2023-11-22T10:23:34.678Z"
   },
   {
    "duration": 25,
    "start_time": "2023-11-22T10:23:34.700Z"
   },
   {
    "duration": 27,
    "start_time": "2023-11-22T10:23:34.727Z"
   },
   {
    "duration": 15,
    "start_time": "2023-11-22T10:24:13.103Z"
   },
   {
    "duration": 4,
    "start_time": "2023-11-22T10:24:47.802Z"
   },
   {
    "duration": 83,
    "start_time": "2023-11-22T10:24:47.808Z"
   },
   {
    "duration": 22,
    "start_time": "2023-11-22T10:24:47.892Z"
   },
   {
    "duration": 27,
    "start_time": "2023-11-22T10:24:47.916Z"
   },
   {
    "duration": 4,
    "start_time": "2023-11-22T10:24:47.945Z"
   },
   {
    "duration": 7,
    "start_time": "2023-11-22T10:24:47.951Z"
   },
   {
    "duration": 21,
    "start_time": "2023-11-22T10:24:47.960Z"
   },
   {
    "duration": 45,
    "start_time": "2023-11-22T10:24:47.983Z"
   },
   {
    "duration": 34,
    "start_time": "2023-11-22T10:25:13.232Z"
   },
   {
    "duration": 32,
    "start_time": "2023-11-22T10:27:16.211Z"
   },
   {
    "duration": 35,
    "start_time": "2023-11-22T10:28:55.620Z"
   },
   {
    "duration": 4,
    "start_time": "2023-11-22T10:29:01.399Z"
   },
   {
    "duration": 227,
    "start_time": "2023-11-22T10:29:01.407Z"
   },
   {
    "duration": 26,
    "start_time": "2023-11-22T10:29:01.636Z"
   },
   {
    "duration": 40,
    "start_time": "2023-11-22T10:29:01.664Z"
   },
   {
    "duration": 16,
    "start_time": "2023-11-22T10:29:01.708Z"
   },
   {
    "duration": 29,
    "start_time": "2023-11-22T10:29:01.726Z"
   },
   {
    "duration": 41,
    "start_time": "2023-11-22T10:29:01.757Z"
   },
   {
    "duration": 18,
    "start_time": "2023-11-22T10:29:01.800Z"
   },
   {
    "duration": 3,
    "start_time": "2023-11-22T10:29:31.808Z"
   },
   {
    "duration": 99,
    "start_time": "2023-11-22T10:29:31.814Z"
   },
   {
    "duration": 28,
    "start_time": "2023-11-22T10:29:31.915Z"
   },
   {
    "duration": 139,
    "start_time": "2023-11-22T10:29:31.945Z"
   },
   {
    "duration": 105,
    "start_time": "2023-11-22T10:29:32.087Z"
   },
   {
    "duration": 165,
    "start_time": "2023-11-22T10:29:32.194Z"
   },
   {
    "duration": 93,
    "start_time": "2023-11-22T10:29:32.361Z"
   },
   {
    "duration": 84,
    "start_time": "2023-11-22T10:29:32.456Z"
   },
   {
    "duration": 33,
    "start_time": "2023-11-22T10:29:56.815Z"
   },
   {
    "duration": 4,
    "start_time": "2023-11-22T10:30:02.639Z"
   },
   {
    "duration": 103,
    "start_time": "2023-11-22T10:30:02.646Z"
   },
   {
    "duration": 25,
    "start_time": "2023-11-22T10:30:02.751Z"
   },
   {
    "duration": 22,
    "start_time": "2023-11-22T10:30:02.778Z"
   },
   {
    "duration": 23,
    "start_time": "2023-11-22T10:30:02.803Z"
   },
   {
    "duration": 14,
    "start_time": "2023-11-22T10:30:02.828Z"
   },
   {
    "duration": 58,
    "start_time": "2023-11-22T10:30:02.844Z"
   },
   {
    "duration": 35,
    "start_time": "2023-11-22T10:30:02.904Z"
   },
   {
    "duration": 12,
    "start_time": "2023-11-22T10:34:49.921Z"
   },
   {
    "duration": 6,
    "start_time": "2023-11-22T10:35:44.914Z"
   },
   {
    "duration": 6,
    "start_time": "2023-11-22T10:37:38.021Z"
   },
   {
    "duration": 7,
    "start_time": "2023-11-22T10:49:15.760Z"
   },
   {
    "duration": 28,
    "start_time": "2023-11-22T10:50:18.880Z"
   },
   {
    "duration": 6,
    "start_time": "2023-11-22T10:52:28.354Z"
   },
   {
    "duration": 10,
    "start_time": "2023-11-22T11:58:45.739Z"
   },
   {
    "duration": 24,
    "start_time": "2023-11-22T11:59:04.866Z"
   },
   {
    "duration": 18,
    "start_time": "2023-11-22T12:01:53.141Z"
   },
   {
    "duration": 17,
    "start_time": "2023-11-22T12:02:09.564Z"
   },
   {
    "duration": 20,
    "start_time": "2023-11-22T12:02:19.045Z"
   },
   {
    "duration": 20,
    "start_time": "2023-11-22T12:02:42.877Z"
   },
   {
    "duration": 26,
    "start_time": "2023-11-22T12:02:49.272Z"
   },
   {
    "duration": 7,
    "start_time": "2023-11-22T12:17:40.356Z"
   },
   {
    "duration": 6,
    "start_time": "2023-11-22T12:18:31.750Z"
   },
   {
    "duration": 20,
    "start_time": "2023-11-22T12:18:58.812Z"
   },
   {
    "duration": 266,
    "start_time": "2023-11-22T12:20:03.872Z"
   },
   {
    "duration": 21,
    "start_time": "2023-11-22T12:20:15.429Z"
   },
   {
    "duration": 80,
    "start_time": "2023-11-22T12:21:58.163Z"
   },
   {
    "duration": 70,
    "start_time": "2023-11-22T12:22:22.952Z"
   },
   {
    "duration": 75,
    "start_time": "2023-11-22T12:22:29.367Z"
   },
   {
    "duration": 21,
    "start_time": "2023-11-22T12:22:48.640Z"
   },
   {
    "duration": 6,
    "start_time": "2023-11-22T12:42:17.858Z"
   },
   {
    "duration": 9,
    "start_time": "2023-11-22T12:46:32.846Z"
   },
   {
    "duration": 8,
    "start_time": "2023-11-22T12:48:45.320Z"
   },
   {
    "duration": 8,
    "start_time": "2023-11-22T12:49:52.686Z"
   },
   {
    "duration": 14,
    "start_time": "2023-11-22T12:49:59.985Z"
   },
   {
    "duration": 11,
    "start_time": "2023-11-22T12:56:27.528Z"
   },
   {
    "duration": 10,
    "start_time": "2023-11-22T12:58:16.778Z"
   },
   {
    "duration": 9,
    "start_time": "2023-11-22T13:00:51.316Z"
   },
   {
    "duration": 3,
    "start_time": "2023-11-22T13:00:56.872Z"
   },
   {
    "duration": 109,
    "start_time": "2023-11-22T13:00:56.877Z"
   },
   {
    "duration": 19,
    "start_time": "2023-11-22T13:00:56.988Z"
   },
   {
    "duration": 12,
    "start_time": "2023-11-22T13:00:57.009Z"
   },
   {
    "duration": 4,
    "start_time": "2023-11-22T13:00:57.022Z"
   },
   {
    "duration": 14,
    "start_time": "2023-11-22T13:00:57.028Z"
   },
   {
    "duration": 22,
    "start_time": "2023-11-22T13:00:57.044Z"
   },
   {
    "duration": 22,
    "start_time": "2023-11-22T13:00:57.068Z"
   },
   {
    "duration": 33,
    "start_time": "2023-11-22T13:00:57.093Z"
   },
   {
    "duration": 25,
    "start_time": "2023-11-22T13:00:57.128Z"
   },
   {
    "duration": 8,
    "start_time": "2023-11-22T13:00:57.155Z"
   },
   {
    "duration": 4,
    "start_time": "2023-11-22T13:00:57.165Z"
   },
   {
    "duration": 52,
    "start_time": "2023-11-22T13:00:57.170Z"
   },
   {
    "duration": 6,
    "start_time": "2023-11-22T13:00:57.223Z"
   },
   {
    "duration": 15,
    "start_time": "2023-11-22T13:00:57.231Z"
   },
   {
    "duration": 12,
    "start_time": "2023-11-22T13:00:57.248Z"
   },
   {
    "duration": 8,
    "start_time": "2023-11-22T13:02:56.479Z"
   },
   {
    "duration": 10,
    "start_time": "2023-11-22T13:14:48.596Z"
   },
   {
    "duration": 7,
    "start_time": "2023-11-22T13:14:57.707Z"
   },
   {
    "duration": 197,
    "start_time": "2023-11-22T13:18:59.047Z"
   },
   {
    "duration": 36,
    "start_time": "2023-11-22T13:32:59.797Z"
   },
   {
    "duration": 12,
    "start_time": "2023-11-22T13:36:53.416Z"
   },
   {
    "duration": 11,
    "start_time": "2023-11-22T13:37:03.625Z"
   },
   {
    "duration": 12,
    "start_time": "2023-11-22T13:37:39.953Z"
   },
   {
    "duration": 14,
    "start_time": "2023-11-22T13:38:50.283Z"
   },
   {
    "duration": 3,
    "start_time": "2023-11-22T13:39:09.039Z"
   },
   {
    "duration": 100,
    "start_time": "2023-11-22T13:39:09.045Z"
   },
   {
    "duration": 20,
    "start_time": "2023-11-22T13:39:09.146Z"
   },
   {
    "duration": 10,
    "start_time": "2023-11-22T13:39:09.168Z"
   },
   {
    "duration": 1011,
    "start_time": "2023-11-22T13:39:09.180Z"
   },
   {
    "duration": 0,
    "start_time": "2023-11-22T13:39:10.193Z"
   },
   {
    "duration": 0,
    "start_time": "2023-11-22T13:39:10.194Z"
   },
   {
    "duration": 0,
    "start_time": "2023-11-22T13:39:10.195Z"
   },
   {
    "duration": 0,
    "start_time": "2023-11-22T13:39:10.196Z"
   },
   {
    "duration": 0,
    "start_time": "2023-11-22T13:39:10.197Z"
   },
   {
    "duration": 0,
    "start_time": "2023-11-22T13:39:10.198Z"
   },
   {
    "duration": 0,
    "start_time": "2023-11-22T13:39:10.199Z"
   },
   {
    "duration": 0,
    "start_time": "2023-11-22T13:39:10.200Z"
   },
   {
    "duration": 0,
    "start_time": "2023-11-22T13:39:10.201Z"
   },
   {
    "duration": 0,
    "start_time": "2023-11-22T13:39:10.202Z"
   },
   {
    "duration": 0,
    "start_time": "2023-11-22T13:39:10.203Z"
   },
   {
    "duration": 0,
    "start_time": "2023-11-22T13:39:10.204Z"
   },
   {
    "duration": 0,
    "start_time": "2023-11-22T13:39:10.205Z"
   },
   {
    "duration": 0,
    "start_time": "2023-11-22T13:39:10.206Z"
   },
   {
    "duration": 0,
    "start_time": "2023-11-22T13:39:10.207Z"
   },
   {
    "duration": 0,
    "start_time": "2023-11-22T13:39:10.208Z"
   },
   {
    "duration": 3,
    "start_time": "2023-11-22T13:39:52.711Z"
   },
   {
    "duration": 96,
    "start_time": "2023-11-22T13:39:52.716Z"
   },
   {
    "duration": 21,
    "start_time": "2023-11-22T13:39:52.814Z"
   },
   {
    "duration": 25,
    "start_time": "2023-11-22T13:39:52.837Z"
   },
   {
    "duration": 941,
    "start_time": "2023-11-22T13:39:52.864Z"
   },
   {
    "duration": 0,
    "start_time": "2023-11-22T13:39:53.806Z"
   },
   {
    "duration": 0,
    "start_time": "2023-11-22T13:39:53.807Z"
   },
   {
    "duration": 0,
    "start_time": "2023-11-22T13:39:53.808Z"
   },
   {
    "duration": 0,
    "start_time": "2023-11-22T13:39:53.809Z"
   },
   {
    "duration": 0,
    "start_time": "2023-11-22T13:39:53.811Z"
   },
   {
    "duration": 0,
    "start_time": "2023-11-22T13:39:53.812Z"
   },
   {
    "duration": 0,
    "start_time": "2023-11-22T13:39:53.813Z"
   },
   {
    "duration": 0,
    "start_time": "2023-11-22T13:39:53.814Z"
   },
   {
    "duration": 0,
    "start_time": "2023-11-22T13:39:53.815Z"
   },
   {
    "duration": 0,
    "start_time": "2023-11-22T13:39:53.816Z"
   },
   {
    "duration": 0,
    "start_time": "2023-11-22T13:39:53.817Z"
   },
   {
    "duration": 0,
    "start_time": "2023-11-22T13:39:53.818Z"
   },
   {
    "duration": 0,
    "start_time": "2023-11-22T13:39:53.819Z"
   },
   {
    "duration": 0,
    "start_time": "2023-11-22T13:39:53.821Z"
   },
   {
    "duration": 0,
    "start_time": "2023-11-22T13:39:53.822Z"
   },
   {
    "duration": 3,
    "start_time": "2023-11-22T13:40:22.871Z"
   },
   {
    "duration": 80,
    "start_time": "2023-11-22T13:40:22.876Z"
   },
   {
    "duration": 21,
    "start_time": "2023-11-22T13:40:22.957Z"
   },
   {
    "duration": 25,
    "start_time": "2023-11-22T13:40:22.980Z"
   },
   {
    "duration": 4,
    "start_time": "2023-11-22T13:40:23.008Z"
   },
   {
    "duration": 7,
    "start_time": "2023-11-22T13:40:23.013Z"
   },
   {
    "duration": 22,
    "start_time": "2023-11-22T13:40:23.021Z"
   },
   {
    "duration": 14,
    "start_time": "2023-11-22T13:40:23.045Z"
   },
   {
    "duration": 8,
    "start_time": "2023-11-22T13:40:23.061Z"
   },
   {
    "duration": 62,
    "start_time": "2023-11-22T13:40:23.070Z"
   },
   {
    "duration": 29,
    "start_time": "2023-11-22T13:40:23.133Z"
   },
   {
    "duration": 12,
    "start_time": "2023-11-22T13:40:23.164Z"
   },
   {
    "duration": 22,
    "start_time": "2023-11-22T13:40:23.178Z"
   },
   {
    "duration": 29,
    "start_time": "2023-11-22T13:40:23.202Z"
   },
   {
    "duration": 6,
    "start_time": "2023-11-22T13:40:23.232Z"
   },
   {
    "duration": 10,
    "start_time": "2023-11-22T13:40:23.240Z"
   },
   {
    "duration": 11,
    "start_time": "2023-11-22T13:40:23.252Z"
   },
   {
    "duration": 36,
    "start_time": "2023-11-22T13:40:23.264Z"
   },
   {
    "duration": 34,
    "start_time": "2023-11-22T13:40:23.302Z"
   },
   {
    "duration": 40,
    "start_time": "2023-11-22T13:43:05.229Z"
   },
   {
    "duration": 379,
    "start_time": "2023-11-22T14:16:27.958Z"
   },
   {
    "duration": 808,
    "start_time": "2023-11-22T14:18:00.456Z"
   },
   {
    "duration": 124,
    "start_time": "2023-11-22T14:19:46.225Z"
   },
   {
    "duration": 688,
    "start_time": "2023-11-22T14:20:00.225Z"
   },
   {
    "duration": 1947,
    "start_time": "2023-11-22T14:27:30.697Z"
   },
   {
    "duration": 1419,
    "start_time": "2023-11-22T14:28:29.898Z"
   },
   {
    "duration": 15,
    "start_time": "2023-11-22T14:33:15.878Z"
   },
   {
    "duration": 12,
    "start_time": "2023-11-22T14:33:22.566Z"
   },
   {
    "duration": 15,
    "start_time": "2023-11-22T14:33:45.870Z"
   },
   {
    "duration": 4722,
    "start_time": "2023-11-22T14:45:47.810Z"
   },
   {
    "duration": 4754,
    "start_time": "2023-11-22T15:41:58.857Z"
   },
   {
    "duration": 4573,
    "start_time": "2023-11-22T15:42:20.888Z"
   },
   {
    "duration": 4640,
    "start_time": "2023-11-22T15:42:51.505Z"
   },
   {
    "duration": 260,
    "start_time": "2023-11-22T15:44:16.787Z"
   },
   {
    "duration": 496,
    "start_time": "2023-11-22T15:45:04.275Z"
   },
   {
    "duration": 19,
    "start_time": "2023-11-22T16:13:38.983Z"
   },
   {
    "duration": 5,
    "start_time": "2023-11-22T16:16:17.818Z"
   },
   {
    "duration": 11,
    "start_time": "2023-11-22T16:17:04.131Z"
   },
   {
    "duration": 8,
    "start_time": "2023-11-22T16:24:39.171Z"
   },
   {
    "duration": 8,
    "start_time": "2023-11-22T16:25:13.263Z"
   },
   {
    "duration": 9,
    "start_time": "2023-11-22T16:25:21.539Z"
   },
   {
    "duration": 4,
    "start_time": "2023-11-22T16:25:25.936Z"
   },
   {
    "duration": 79,
    "start_time": "2023-11-22T16:25:25.941Z"
   },
   {
    "duration": 18,
    "start_time": "2023-11-22T16:25:26.022Z"
   },
   {
    "duration": 44,
    "start_time": "2023-11-22T16:25:26.042Z"
   },
   {
    "duration": 7,
    "start_time": "2023-11-22T16:25:26.088Z"
   },
   {
    "duration": 7,
    "start_time": "2023-11-22T16:25:26.097Z"
   },
   {
    "duration": 18,
    "start_time": "2023-11-22T16:25:26.106Z"
   },
   {
    "duration": 21,
    "start_time": "2023-11-22T16:25:26.126Z"
   },
   {
    "duration": 14,
    "start_time": "2023-11-22T16:25:26.148Z"
   },
   {
    "duration": 48,
    "start_time": "2023-11-22T16:25:26.163Z"
   },
   {
    "duration": 28,
    "start_time": "2023-11-22T16:25:26.212Z"
   },
   {
    "duration": 8,
    "start_time": "2023-11-22T16:25:26.241Z"
   },
   {
    "duration": 15,
    "start_time": "2023-11-22T16:25:26.252Z"
   },
   {
    "duration": 36,
    "start_time": "2023-11-22T16:25:26.268Z"
   },
   {
    "duration": 7,
    "start_time": "2023-11-22T16:25:26.307Z"
   },
   {
    "duration": 19,
    "start_time": "2023-11-22T16:25:26.315Z"
   },
   {
    "duration": 23,
    "start_time": "2023-11-22T16:25:26.335Z"
   },
   {
    "duration": 37,
    "start_time": "2023-11-22T16:25:26.360Z"
   },
   {
    "duration": 46,
    "start_time": "2023-11-22T16:25:26.399Z"
   },
   {
    "duration": 473,
    "start_time": "2023-11-22T16:25:26.447Z"
   },
   {
    "duration": 667,
    "start_time": "2023-11-22T16:25:26.922Z"
   },
   {
    "duration": 1268,
    "start_time": "2023-11-22T16:25:27.599Z"
   },
   {
    "duration": 4752,
    "start_time": "2023-11-22T16:25:28.868Z"
   },
   {
    "duration": 530,
    "start_time": "2023-11-22T16:25:33.622Z"
   },
   {
    "duration": 17,
    "start_time": "2023-11-22T16:25:34.153Z"
   },
   {
    "duration": 6,
    "start_time": "2023-11-22T16:25:34.171Z"
   },
   {
    "duration": 30,
    "start_time": "2023-11-22T16:25:34.178Z"
   },
   {
    "duration": 11,
    "start_time": "2023-11-22T16:27:26.837Z"
   },
   {
    "duration": 1507,
    "start_time": "2023-11-22T16:27:36.887Z"
   },
   {
    "duration": 53,
    "start_time": "2023-11-24T15:07:43.832Z"
   },
   {
    "duration": 1445,
    "start_time": "2023-11-24T15:07:48.741Z"
   },
   {
    "duration": 121,
    "start_time": "2023-11-24T15:07:50.188Z"
   },
   {
    "duration": 31,
    "start_time": "2023-11-24T15:07:50.310Z"
   },
   {
    "duration": 12,
    "start_time": "2023-11-24T15:07:50.343Z"
   },
   {
    "duration": 3,
    "start_time": "2023-11-24T15:07:50.357Z"
   },
   {
    "duration": 10,
    "start_time": "2023-11-24T15:07:50.362Z"
   },
   {
    "duration": 15,
    "start_time": "2023-11-24T15:07:50.373Z"
   },
   {
    "duration": 35,
    "start_time": "2023-11-24T15:07:50.390Z"
   },
   {
    "duration": 8,
    "start_time": "2023-11-24T15:07:50.429Z"
   },
   {
    "duration": 31,
    "start_time": "2023-11-24T15:07:50.440Z"
   },
   {
    "duration": 62,
    "start_time": "2023-11-24T15:07:50.472Z"
   },
   {
    "duration": 8,
    "start_time": "2023-11-24T15:07:50.536Z"
   },
   {
    "duration": 4,
    "start_time": "2023-11-24T15:07:50.546Z"
   },
   {
    "duration": 44,
    "start_time": "2023-11-24T15:07:50.551Z"
   },
   {
    "duration": 6,
    "start_time": "2023-11-24T15:07:50.596Z"
   },
   {
    "duration": 24,
    "start_time": "2023-11-24T15:07:50.604Z"
   },
   {
    "duration": 12,
    "start_time": "2023-11-24T15:07:50.629Z"
   },
   {
    "duration": 11,
    "start_time": "2023-11-24T15:07:50.643Z"
   },
   {
    "duration": 82,
    "start_time": "2023-11-24T15:07:50.655Z"
   },
   {
    "duration": 385,
    "start_time": "2023-11-24T15:07:50.739Z"
   },
   {
    "duration": 1357,
    "start_time": "2023-11-24T15:07:51.125Z"
   },
   {
    "duration": 4653,
    "start_time": "2023-11-24T15:07:52.483Z"
   },
   {
    "duration": 4699,
    "start_time": "2023-11-24T15:07:57.138Z"
   },
   {
    "duration": 559,
    "start_time": "2023-11-24T15:08:01.839Z"
   },
   {
    "duration": 33,
    "start_time": "2023-11-24T15:08:02.400Z"
   },
   {
    "duration": 10,
    "start_time": "2023-11-24T15:08:02.434Z"
   },
   {
    "duration": 18,
    "start_time": "2023-11-24T15:08:02.445Z"
   },
   {
    "duration": 1460,
    "start_time": "2023-11-24T15:08:02.466Z"
   },
   {
    "duration": 4,
    "start_time": "2023-11-24T15:37:26.139Z"
   },
   {
    "duration": 9,
    "start_time": "2023-11-24T16:39:19.233Z"
   },
   {
    "duration": 8,
    "start_time": "2023-11-24T16:39:53.432Z"
   },
   {
    "duration": 7,
    "start_time": "2023-11-24T17:17:16.113Z"
   },
   {
    "duration": 3,
    "start_time": "2023-11-24T17:22:41.735Z"
   },
   {
    "duration": 100,
    "start_time": "2023-11-24T17:22:41.740Z"
   },
   {
    "duration": 19,
    "start_time": "2023-11-24T17:22:41.842Z"
   },
   {
    "duration": 11,
    "start_time": "2023-11-24T17:22:41.863Z"
   },
   {
    "duration": 3,
    "start_time": "2023-11-24T17:22:41.876Z"
   },
   {
    "duration": 5,
    "start_time": "2023-11-24T17:22:41.881Z"
   },
   {
    "duration": 27,
    "start_time": "2023-11-24T17:22:41.888Z"
   },
   {
    "duration": 9,
    "start_time": "2023-11-24T17:22:41.916Z"
   },
   {
    "duration": 7,
    "start_time": "2023-11-24T17:22:41.927Z"
   },
   {
    "duration": 31,
    "start_time": "2023-11-24T17:22:41.936Z"
   },
   {
    "duration": 54,
    "start_time": "2023-11-24T17:22:41.968Z"
   },
   {
    "duration": 9,
    "start_time": "2023-11-24T17:22:42.023Z"
   },
   {
    "duration": 5,
    "start_time": "2023-11-24T17:22:42.034Z"
   },
   {
    "duration": 26,
    "start_time": "2023-11-24T17:22:42.042Z"
   },
   {
    "duration": 6,
    "start_time": "2023-11-24T17:22:42.069Z"
   },
   {
    "duration": 39,
    "start_time": "2023-11-24T17:22:42.076Z"
   },
   {
    "duration": 11,
    "start_time": "2023-11-24T17:22:42.116Z"
   },
   {
    "duration": 9,
    "start_time": "2023-11-24T17:22:42.128Z"
   },
   {
    "duration": 34,
    "start_time": "2023-11-24T17:22:42.138Z"
   },
   {
    "duration": 459,
    "start_time": "2023-11-24T17:22:42.173Z"
   },
   {
    "duration": 1179,
    "start_time": "2023-11-24T17:22:42.634Z"
   },
   {
    "duration": 4330,
    "start_time": "2023-11-24T17:22:43.815Z"
   },
   {
    "duration": 492,
    "start_time": "2023-11-24T17:22:48.147Z"
   },
   {
    "duration": 16,
    "start_time": "2023-11-24T17:22:48.641Z"
   },
   {
    "duration": 4,
    "start_time": "2023-11-24T17:22:48.659Z"
   },
   {
    "duration": 12,
    "start_time": "2023-11-24T17:22:48.664Z"
   },
   {
    "duration": 1424,
    "start_time": "2023-11-24T17:22:48.677Z"
   },
   {
    "duration": 13,
    "start_time": "2023-11-24T17:22:50.102Z"
   },
   {
    "duration": 8,
    "start_time": "2023-11-24T17:22:50.117Z"
   },
   {
    "duration": 71,
    "start_time": "2023-11-24T17:29:42.502Z"
   },
   {
    "duration": 3,
    "start_time": "2023-11-24T17:30:04.145Z"
   },
   {
    "duration": 83,
    "start_time": "2023-11-24T17:30:04.150Z"
   },
   {
    "duration": 20,
    "start_time": "2023-11-24T17:30:04.234Z"
   },
   {
    "duration": 13,
    "start_time": "2023-11-24T17:30:04.256Z"
   },
   {
    "duration": 4,
    "start_time": "2023-11-24T17:30:04.270Z"
   },
   {
    "duration": 11,
    "start_time": "2023-11-24T17:30:04.275Z"
   },
   {
    "duration": 30,
    "start_time": "2023-11-24T17:30:04.288Z"
   },
   {
    "duration": 12,
    "start_time": "2023-11-24T17:30:04.320Z"
   },
   {
    "duration": 9,
    "start_time": "2023-11-24T17:30:04.334Z"
   },
   {
    "duration": 27,
    "start_time": "2023-11-24T17:30:04.346Z"
   },
   {
    "duration": 59,
    "start_time": "2023-11-24T17:30:04.375Z"
   },
   {
    "duration": 10,
    "start_time": "2023-11-24T17:30:04.435Z"
   },
   {
    "duration": 5,
    "start_time": "2023-11-24T17:30:04.446Z"
   },
   {
    "duration": 26,
    "start_time": "2023-11-24T17:30:04.452Z"
   },
   {
    "duration": 32,
    "start_time": "2023-11-24T17:30:04.480Z"
   },
   {
    "duration": 10,
    "start_time": "2023-11-24T17:30:04.514Z"
   },
   {
    "duration": 19,
    "start_time": "2023-11-24T17:30:04.527Z"
   },
   {
    "duration": 6,
    "start_time": "2023-11-24T17:30:04.547Z"
   },
   {
    "duration": 66,
    "start_time": "2023-11-24T17:30:04.555Z"
   },
   {
    "duration": 464,
    "start_time": "2023-11-24T17:30:04.623Z"
   },
   {
    "duration": 1265,
    "start_time": "2023-11-24T17:30:05.088Z"
   },
   {
    "duration": 4609,
    "start_time": "2023-11-24T17:30:06.355Z"
   },
   {
    "duration": 829,
    "start_time": "2023-11-24T17:30:10.966Z"
   },
   {
    "duration": 20,
    "start_time": "2023-11-24T17:30:11.796Z"
   },
   {
    "duration": 6,
    "start_time": "2023-11-24T17:30:11.818Z"
   },
   {
    "duration": 22,
    "start_time": "2023-11-24T17:30:11.827Z"
   },
   {
    "duration": 1453,
    "start_time": "2023-11-24T17:30:11.850Z"
   },
   {
    "duration": 11,
    "start_time": "2023-11-24T17:30:13.306Z"
   },
   {
    "duration": 10,
    "start_time": "2023-11-24T17:30:13.318Z"
   },
   {
    "duration": 12,
    "start_time": "2023-11-24T17:34:09.673Z"
   },
   {
    "duration": 3,
    "start_time": "2023-11-24T17:34:12.462Z"
   },
   {
    "duration": 55,
    "start_time": "2023-11-24T17:34:12.467Z"
   },
   {
    "duration": 20,
    "start_time": "2023-11-24T17:34:12.524Z"
   },
   {
    "duration": 19,
    "start_time": "2023-11-24T17:34:12.547Z"
   },
   {
    "duration": 10,
    "start_time": "2023-11-24T17:34:12.568Z"
   },
   {
    "duration": 10,
    "start_time": "2023-11-24T17:34:12.580Z"
   },
   {
    "duration": 23,
    "start_time": "2023-11-24T17:34:12.592Z"
   },
   {
    "duration": 12,
    "start_time": "2023-11-24T17:34:12.616Z"
   },
   {
    "duration": 7,
    "start_time": "2023-11-24T17:34:12.630Z"
   },
   {
    "duration": 36,
    "start_time": "2023-11-24T17:34:12.639Z"
   },
   {
    "duration": 40,
    "start_time": "2023-11-24T17:34:12.676Z"
   },
   {
    "duration": 8,
    "start_time": "2023-11-24T17:34:12.717Z"
   },
   {
    "duration": 4,
    "start_time": "2023-11-24T17:34:12.727Z"
   },
   {
    "duration": 45,
    "start_time": "2023-11-24T17:34:12.733Z"
   },
   {
    "duration": 6,
    "start_time": "2023-11-24T17:34:12.780Z"
   },
   {
    "duration": 12,
    "start_time": "2023-11-24T17:34:12.787Z"
   },
   {
    "duration": 18,
    "start_time": "2023-11-24T17:34:12.801Z"
   },
   {
    "duration": 6,
    "start_time": "2023-11-24T17:34:12.820Z"
   },
   {
    "duration": 61,
    "start_time": "2023-11-24T17:34:12.827Z"
   },
   {
    "duration": 402,
    "start_time": "2023-11-24T17:34:12.889Z"
   },
   {
    "duration": 1189,
    "start_time": "2023-11-24T17:34:13.293Z"
   },
   {
    "duration": 4389,
    "start_time": "2023-11-24T17:34:14.484Z"
   },
   {
    "duration": 838,
    "start_time": "2023-11-24T17:34:18.875Z"
   },
   {
    "duration": 17,
    "start_time": "2023-11-24T17:34:19.715Z"
   },
   {
    "duration": 12,
    "start_time": "2023-11-24T17:34:19.733Z"
   },
   {
    "duration": 31,
    "start_time": "2023-11-24T17:34:19.747Z"
   },
   {
    "duration": 1349,
    "start_time": "2023-11-24T17:34:19.780Z"
   },
   {
    "duration": 7,
    "start_time": "2023-11-24T17:34:21.132Z"
   },
   {
    "duration": 22,
    "start_time": "2023-11-24T17:34:21.140Z"
   },
   {
    "duration": 14,
    "start_time": "2023-11-24T17:35:31.098Z"
   },
   {
    "duration": 3,
    "start_time": "2023-11-24T17:35:33.159Z"
   },
   {
    "duration": 77,
    "start_time": "2023-11-24T17:35:33.164Z"
   },
   {
    "duration": 21,
    "start_time": "2023-11-24T17:35:33.243Z"
   },
   {
    "duration": 11,
    "start_time": "2023-11-24T17:35:33.266Z"
   },
   {
    "duration": 4,
    "start_time": "2023-11-24T17:35:33.279Z"
   },
   {
    "duration": 27,
    "start_time": "2023-11-24T17:35:33.284Z"
   },
   {
    "duration": 11,
    "start_time": "2023-11-24T17:35:33.312Z"
   },
   {
    "duration": 10,
    "start_time": "2023-11-24T17:35:33.325Z"
   },
   {
    "duration": 8,
    "start_time": "2023-11-24T17:35:33.336Z"
   },
   {
    "duration": 52,
    "start_time": "2023-11-24T17:35:33.345Z"
   },
   {
    "duration": 95,
    "start_time": "2023-11-24T17:35:33.399Z"
   },
   {
    "duration": 31,
    "start_time": "2023-11-24T17:35:33.496Z"
   },
   {
    "duration": 5,
    "start_time": "2023-11-24T17:35:33.529Z"
   },
   {
    "duration": 32,
    "start_time": "2023-11-24T17:35:33.535Z"
   },
   {
    "duration": 6,
    "start_time": "2023-11-24T17:35:33.569Z"
   },
   {
    "duration": 8,
    "start_time": "2023-11-24T17:35:33.576Z"
   },
   {
    "duration": 26,
    "start_time": "2023-11-24T17:35:33.586Z"
   },
   {
    "duration": 8,
    "start_time": "2023-11-24T17:35:33.614Z"
   },
   {
    "duration": 34,
    "start_time": "2023-11-24T17:35:33.624Z"
   },
   {
    "duration": 444,
    "start_time": "2023-11-24T17:35:33.659Z"
   },
   {
    "duration": 1127,
    "start_time": "2023-11-24T17:35:34.110Z"
   },
   {
    "duration": 4420,
    "start_time": "2023-11-24T17:35:35.239Z"
   },
   {
    "duration": 803,
    "start_time": "2023-11-24T17:35:39.660Z"
   },
   {
    "duration": 17,
    "start_time": "2023-11-24T17:35:40.464Z"
   },
   {
    "duration": 4,
    "start_time": "2023-11-24T17:35:40.482Z"
   },
   {
    "duration": 25,
    "start_time": "2023-11-24T17:35:40.488Z"
   },
   {
    "duration": 1416,
    "start_time": "2023-11-24T17:35:40.515Z"
   },
   {
    "duration": 8,
    "start_time": "2023-11-24T17:35:41.933Z"
   },
   {
    "duration": 11,
    "start_time": "2023-11-24T17:35:41.942Z"
   },
   {
    "duration": 81,
    "start_time": "2023-11-24T17:47:07.750Z"
   },
   {
    "duration": 32,
    "start_time": "2023-11-24T17:47:42.975Z"
   },
   {
    "duration": 13,
    "start_time": "2023-11-24T17:48:46.128Z"
   },
   {
    "duration": 19,
    "start_time": "2023-11-24T17:48:49.191Z"
   },
   {
    "duration": 4,
    "start_time": "2023-11-24T17:49:02.061Z"
   },
   {
    "duration": 85,
    "start_time": "2023-11-24T17:49:02.067Z"
   },
   {
    "duration": 19,
    "start_time": "2023-11-24T17:49:02.153Z"
   },
   {
    "duration": 24,
    "start_time": "2023-11-24T17:49:02.173Z"
   },
   {
    "duration": 14,
    "start_time": "2023-11-24T17:49:02.199Z"
   },
   {
    "duration": 38,
    "start_time": "2023-11-24T17:49:02.215Z"
   },
   {
    "duration": 16,
    "start_time": "2023-11-24T17:49:02.254Z"
   },
   {
    "duration": 38,
    "start_time": "2023-11-24T17:49:02.271Z"
   },
   {
    "duration": 19,
    "start_time": "2023-11-24T17:49:02.311Z"
   },
   {
    "duration": 48,
    "start_time": "2023-11-24T17:49:02.332Z"
   },
   {
    "duration": 26,
    "start_time": "2023-11-24T17:49:02.382Z"
   },
   {
    "duration": 8,
    "start_time": "2023-11-24T17:49:02.409Z"
   },
   {
    "duration": 29,
    "start_time": "2023-11-24T17:49:02.420Z"
   },
   {
    "duration": 34,
    "start_time": "2023-11-24T17:49:02.450Z"
   },
   {
    "duration": 18,
    "start_time": "2023-11-24T17:49:02.485Z"
   },
   {
    "duration": 17,
    "start_time": "2023-11-24T17:49:02.504Z"
   },
   {
    "duration": 36,
    "start_time": "2023-11-24T17:49:02.523Z"
   },
   {
    "duration": 23,
    "start_time": "2023-11-24T17:49:02.561Z"
   },
   {
    "duration": 51,
    "start_time": "2023-11-24T17:49:02.586Z"
   },
   {
    "duration": 337,
    "start_time": "2023-11-24T17:49:02.638Z"
   },
   {
    "duration": 1136,
    "start_time": "2023-11-24T17:49:02.977Z"
   },
   {
    "duration": 4372,
    "start_time": "2023-11-24T17:49:04.114Z"
   },
   {
    "duration": 812,
    "start_time": "2023-11-24T17:49:08.488Z"
   },
   {
    "duration": 21,
    "start_time": "2023-11-24T17:49:09.302Z"
   },
   {
    "duration": 4,
    "start_time": "2023-11-24T17:49:09.325Z"
   },
   {
    "duration": 11,
    "start_time": "2023-11-24T17:49:09.330Z"
   },
   {
    "duration": 1414,
    "start_time": "2023-11-24T17:49:09.343Z"
   },
   {
    "duration": 7,
    "start_time": "2023-11-24T17:49:10.758Z"
   },
   {
    "duration": 8,
    "start_time": "2023-11-24T17:49:10.767Z"
   },
   {
    "duration": 44,
    "start_time": "2023-11-24T17:49:10.777Z"
   },
   {
    "duration": 30,
    "start_time": "2023-11-24T17:51:00.139Z"
   },
   {
    "duration": 30,
    "start_time": "2023-11-24T17:51:20.323Z"
   },
   {
    "duration": 141,
    "start_time": "2023-11-24T17:51:41.180Z"
   },
   {
    "duration": 12,
    "start_time": "2023-11-24T17:51:51.894Z"
   },
   {
    "duration": 30,
    "start_time": "2023-11-24T17:53:13.396Z"
   },
   {
    "duration": 16,
    "start_time": "2023-11-24T17:55:19.944Z"
   },
   {
    "duration": 17,
    "start_time": "2023-11-24T18:00:23.492Z"
   },
   {
    "duration": 17,
    "start_time": "2023-11-24T18:03:13.151Z"
   },
   {
    "duration": 20,
    "start_time": "2023-11-24T18:04:59.361Z"
   },
   {
    "duration": 14,
    "start_time": "2023-11-24T18:05:20.866Z"
   },
   {
    "duration": 14,
    "start_time": "2023-11-24T18:05:32.937Z"
   },
   {
    "duration": 15,
    "start_time": "2023-11-24T18:07:08.251Z"
   },
   {
    "duration": 15,
    "start_time": "2023-11-24T18:08:00.252Z"
   },
   {
    "duration": 15,
    "start_time": "2023-11-24T18:10:45.223Z"
   },
   {
    "duration": 16,
    "start_time": "2023-11-24T18:11:20.535Z"
   },
   {
    "duration": 15,
    "start_time": "2023-11-24T18:12:10.210Z"
   },
   {
    "duration": 14,
    "start_time": "2023-11-24T18:18:05.518Z"
   },
   {
    "duration": 16,
    "start_time": "2023-11-24T19:12:36.316Z"
   },
   {
    "duration": 16,
    "start_time": "2023-11-24T19:17:35.360Z"
   },
   {
    "duration": 15,
    "start_time": "2023-11-24T19:19:30.370Z"
   },
   {
    "duration": 16,
    "start_time": "2023-11-24T19:19:56.714Z"
   },
   {
    "duration": 18,
    "start_time": "2023-11-24T19:20:08.978Z"
   },
   {
    "duration": 14,
    "start_time": "2023-11-24T19:20:38.030Z"
   },
   {
    "duration": 16,
    "start_time": "2023-11-24T19:20:52.179Z"
   },
   {
    "duration": 15,
    "start_time": "2023-11-24T19:21:09.523Z"
   },
   {
    "duration": 15,
    "start_time": "2023-11-24T19:21:21.212Z"
   },
   {
    "duration": 17,
    "start_time": "2023-11-24T19:22:59.734Z"
   },
   {
    "duration": 16,
    "start_time": "2023-11-24T19:23:35.320Z"
   },
   {
    "duration": 16,
    "start_time": "2023-11-24T19:25:40.655Z"
   },
   {
    "duration": 15,
    "start_time": "2023-11-24T19:26:56.905Z"
   },
   {
    "duration": 16,
    "start_time": "2023-11-24T19:28:42.860Z"
   },
   {
    "duration": 16,
    "start_time": "2023-11-24T19:31:12.992Z"
   },
   {
    "duration": 16,
    "start_time": "2023-11-24T19:31:43.143Z"
   },
   {
    "duration": 14,
    "start_time": "2023-11-24T19:32:16.213Z"
   },
   {
    "duration": 14,
    "start_time": "2023-11-24T19:33:14.649Z"
   },
   {
    "duration": 15,
    "start_time": "2023-11-24T19:33:47.296Z"
   },
   {
    "duration": 16,
    "start_time": "2023-11-24T19:34:36.704Z"
   },
   {
    "duration": 17,
    "start_time": "2023-11-24T19:34:51.872Z"
   },
   {
    "duration": 19,
    "start_time": "2023-11-24T20:11:39.174Z"
   },
   {
    "duration": 17,
    "start_time": "2023-11-24T20:11:51.574Z"
   },
   {
    "duration": 15,
    "start_time": "2023-11-24T20:13:05.880Z"
   },
   {
    "duration": 15,
    "start_time": "2023-11-24T20:13:20.088Z"
   },
   {
    "duration": 17,
    "start_time": "2023-11-24T20:14:14.785Z"
   },
   {
    "duration": 18,
    "start_time": "2023-11-24T20:14:28.553Z"
   },
   {
    "duration": 16,
    "start_time": "2023-11-24T20:14:48.081Z"
   },
   {
    "duration": 89,
    "start_time": "2023-11-24T20:16:05.659Z"
   },
   {
    "duration": 16,
    "start_time": "2023-11-24T20:16:25.427Z"
   },
   {
    "duration": 3,
    "start_time": "2023-11-24T20:33:53.549Z"
   },
   {
    "duration": 84,
    "start_time": "2023-11-24T20:33:53.554Z"
   },
   {
    "duration": 19,
    "start_time": "2023-11-24T20:33:53.639Z"
   },
   {
    "duration": 11,
    "start_time": "2023-11-24T20:33:53.660Z"
   },
   {
    "duration": 16,
    "start_time": "2023-11-24T20:33:53.672Z"
   },
   {
    "duration": 7,
    "start_time": "2023-11-24T20:33:53.689Z"
   },
   {
    "duration": 23,
    "start_time": "2023-11-24T20:33:53.697Z"
   },
   {
    "duration": 14,
    "start_time": "2023-11-24T20:33:53.722Z"
   },
   {
    "duration": 7,
    "start_time": "2023-11-24T20:33:53.738Z"
   },
   {
    "duration": 37,
    "start_time": "2023-11-24T20:33:53.747Z"
   },
   {
    "duration": 51,
    "start_time": "2023-11-24T20:33:53.785Z"
   },
   {
    "duration": 9,
    "start_time": "2023-11-24T20:33:53.837Z"
   },
   {
    "duration": 4,
    "start_time": "2023-11-24T20:33:53.847Z"
   },
   {
    "duration": 25,
    "start_time": "2023-11-24T20:33:53.853Z"
   },
   {
    "duration": 32,
    "start_time": "2023-11-24T20:33:53.880Z"
   },
   {
    "duration": 12,
    "start_time": "2023-11-24T20:33:53.914Z"
   },
   {
    "duration": 13,
    "start_time": "2023-11-24T20:33:53.927Z"
   },
   {
    "duration": 7,
    "start_time": "2023-11-24T20:33:53.941Z"
   },
   {
    "duration": 33,
    "start_time": "2023-11-24T20:33:53.949Z"
   },
   {
    "duration": 383,
    "start_time": "2023-11-24T20:33:54.012Z"
   },
   {
    "duration": 1370,
    "start_time": "2023-11-24T20:33:54.397Z"
   },
   {
    "duration": 4813,
    "start_time": "2023-11-24T20:33:55.768Z"
   },
   {
    "duration": 973,
    "start_time": "2023-11-24T20:34:00.582Z"
   },
   {
    "duration": 17,
    "start_time": "2023-11-24T20:34:01.557Z"
   },
   {
    "duration": 22,
    "start_time": "2023-11-24T20:34:01.575Z"
   },
   {
    "duration": 27,
    "start_time": "2023-11-24T20:34:01.598Z"
   },
   {
    "duration": 1458,
    "start_time": "2023-11-24T20:34:01.627Z"
   },
   {
    "duration": 7,
    "start_time": "2023-11-24T20:34:03.088Z"
   },
   {
    "duration": 21,
    "start_time": "2023-11-24T20:34:03.096Z"
   },
   {
    "duration": 18,
    "start_time": "2023-11-24T20:34:03.119Z"
   },
   {
    "duration": 17,
    "start_time": "2023-11-24T20:34:03.138Z"
   },
   {
    "duration": 16,
    "start_time": "2023-11-24T20:34:03.156Z"
   },
   {
    "duration": 47,
    "start_time": "2023-11-24T20:34:03.173Z"
   },
   {
    "duration": 18,
    "start_time": "2023-11-24T20:34:03.222Z"
   },
   {
    "duration": 15,
    "start_time": "2023-11-24T20:34:03.241Z"
   },
   {
    "duration": 14,
    "start_time": "2023-11-24T20:34:03.257Z"
   },
   {
    "duration": 52,
    "start_time": "2023-11-24T20:34:03.273Z"
   },
   {
    "duration": 15,
    "start_time": "2023-11-24T20:34:03.327Z"
   },
   {
    "duration": 16,
    "start_time": "2023-11-24T20:34:03.344Z"
   },
   {
    "duration": 1393,
    "start_time": "2023-11-25T19:59:44.019Z"
   },
   {
    "duration": 77,
    "start_time": "2023-11-25T19:59:45.414Z"
   },
   {
    "duration": 25,
    "start_time": "2023-11-25T19:59:45.493Z"
   },
   {
    "duration": 12,
    "start_time": "2023-11-25T19:59:45.520Z"
   },
   {
    "duration": 5,
    "start_time": "2023-11-25T19:59:45.533Z"
   },
   {
    "duration": 7,
    "start_time": "2023-11-25T19:59:45.540Z"
   },
   {
    "duration": 14,
    "start_time": "2023-11-25T19:59:45.548Z"
   },
   {
    "duration": 13,
    "start_time": "2023-11-25T19:59:45.564Z"
   },
   {
    "duration": 9,
    "start_time": "2023-11-25T19:59:45.579Z"
   },
   {
    "duration": 62,
    "start_time": "2023-11-25T19:59:45.591Z"
   },
   {
    "duration": 27,
    "start_time": "2023-11-25T19:59:45.655Z"
   },
   {
    "duration": 10,
    "start_time": "2023-11-25T19:59:45.684Z"
   },
   {
    "duration": 4,
    "start_time": "2023-11-25T19:59:45.695Z"
   },
   {
    "duration": 52,
    "start_time": "2023-11-25T19:59:45.700Z"
   },
   {
    "duration": 6,
    "start_time": "2023-11-25T19:59:45.754Z"
   },
   {
    "duration": 9,
    "start_time": "2023-11-25T19:59:45.762Z"
   },
   {
    "duration": 15,
    "start_time": "2023-11-25T19:59:45.773Z"
   },
   {
    "duration": 7,
    "start_time": "2023-11-25T19:59:45.790Z"
   },
   {
    "duration": 67,
    "start_time": "2023-11-25T19:59:45.798Z"
   },
   {
    "duration": 366,
    "start_time": "2023-11-25T19:59:45.866Z"
   },
   {
    "duration": 1288,
    "start_time": "2023-11-25T19:59:46.233Z"
   },
   {
    "duration": 4497,
    "start_time": "2023-11-25T19:59:47.523Z"
   },
   {
    "duration": 970,
    "start_time": "2023-11-25T19:59:52.022Z"
   },
   {
    "duration": 19,
    "start_time": "2023-11-25T19:59:52.993Z"
   },
   {
    "duration": 26,
    "start_time": "2023-11-25T19:59:53.014Z"
   },
   {
    "duration": 40,
    "start_time": "2023-11-25T19:59:53.042Z"
   },
   {
    "duration": 1649,
    "start_time": "2023-11-25T19:59:53.085Z"
   },
   {
    "duration": 8,
    "start_time": "2023-11-25T19:59:54.738Z"
   },
   {
    "duration": 14,
    "start_time": "2023-11-25T19:59:54.748Z"
   },
   {
    "duration": 21,
    "start_time": "2023-11-25T19:59:54.764Z"
   },
   {
    "duration": 44,
    "start_time": "2023-11-25T19:59:54.786Z"
   },
   {
    "duration": 18,
    "start_time": "2023-11-25T19:59:54.832Z"
   },
   {
    "duration": 17,
    "start_time": "2023-11-25T19:59:54.853Z"
   },
   {
    "duration": 82,
    "start_time": "2023-11-25T19:59:54.872Z"
   },
   {
    "duration": 46,
    "start_time": "2023-11-25T19:59:54.955Z"
   },
   {
    "duration": 58,
    "start_time": "2023-11-25T19:59:55.003Z"
   },
   {
    "duration": 24,
    "start_time": "2023-11-25T19:59:55.062Z"
   },
   {
    "duration": 38,
    "start_time": "2023-11-25T19:59:55.087Z"
   },
   {
    "duration": 17,
    "start_time": "2023-11-25T19:59:55.127Z"
   },
   {
    "duration": 52,
    "start_time": "2023-11-26T17:36:03.983Z"
   },
   {
    "duration": 1504,
    "start_time": "2023-11-26T17:36:08.636Z"
   },
   {
    "duration": 152,
    "start_time": "2023-11-26T17:36:10.142Z"
   },
   {
    "duration": 24,
    "start_time": "2023-11-26T17:36:10.296Z"
   },
   {
    "duration": 15,
    "start_time": "2023-11-26T17:36:10.322Z"
   },
   {
    "duration": 20,
    "start_time": "2023-11-26T17:36:10.339Z"
   },
   {
    "duration": 15,
    "start_time": "2023-11-26T17:36:10.361Z"
   },
   {
    "duration": 15,
    "start_time": "2023-11-26T17:36:10.377Z"
   },
   {
    "duration": 9,
    "start_time": "2023-11-26T17:36:10.393Z"
   },
   {
    "duration": 12,
    "start_time": "2023-11-26T17:36:10.404Z"
   },
   {
    "duration": 43,
    "start_time": "2023-11-26T17:36:10.418Z"
   },
   {
    "duration": 26,
    "start_time": "2023-11-26T17:36:10.463Z"
   },
   {
    "duration": 9,
    "start_time": "2023-11-26T17:36:10.490Z"
   },
   {
    "duration": 4,
    "start_time": "2023-11-26T17:36:10.501Z"
   },
   {
    "duration": 35,
    "start_time": "2023-11-26T17:36:10.535Z"
   },
   {
    "duration": 8,
    "start_time": "2023-11-26T17:36:10.572Z"
   },
   {
    "duration": 11,
    "start_time": "2023-11-26T17:36:10.582Z"
   },
   {
    "duration": 16,
    "start_time": "2023-11-26T17:36:10.595Z"
   },
   {
    "duration": 76,
    "start_time": "2023-11-26T17:36:10.624Z"
   },
   {
    "duration": 26,
    "start_time": "2023-11-26T17:36:10.702Z"
   },
   {
    "duration": 39,
    "start_time": "2023-11-26T17:36:10.741Z"
   },
   {
    "duration": 401,
    "start_time": "2023-11-26T17:36:10.781Z"
   },
   {
    "duration": 1388,
    "start_time": "2023-11-26T17:36:11.183Z"
   },
   {
    "duration": 5092,
    "start_time": "2023-11-26T17:36:12.573Z"
   },
   {
    "duration": 987,
    "start_time": "2023-11-26T17:36:17.667Z"
   },
   {
    "duration": 17,
    "start_time": "2023-11-26T17:36:18.656Z"
   },
   {
    "duration": 4,
    "start_time": "2023-11-26T17:36:18.675Z"
   },
   {
    "duration": 27,
    "start_time": "2023-11-26T17:36:18.681Z"
   },
   {
    "duration": 1534,
    "start_time": "2023-11-26T17:36:18.710Z"
   },
   {
    "duration": 9,
    "start_time": "2023-11-26T17:36:20.246Z"
   },
   {
    "duration": 9,
    "start_time": "2023-11-26T17:36:20.257Z"
   },
   {
    "duration": 36,
    "start_time": "2023-11-26T17:36:20.267Z"
   },
   {
    "duration": 33,
    "start_time": "2023-11-26T17:36:20.305Z"
   },
   {
    "duration": 17,
    "start_time": "2023-11-26T17:36:20.340Z"
   },
   {
    "duration": 16,
    "start_time": "2023-11-26T17:36:20.358Z"
   },
   {
    "duration": 19,
    "start_time": "2023-11-26T17:36:20.376Z"
   },
   {
    "duration": 41,
    "start_time": "2023-11-26T17:36:20.397Z"
   },
   {
    "duration": 21,
    "start_time": "2023-11-26T17:36:20.441Z"
   },
   {
    "duration": 16,
    "start_time": "2023-11-26T17:36:20.464Z"
   },
   {
    "duration": 36,
    "start_time": "2023-11-26T17:36:20.482Z"
   },
   {
    "duration": 25,
    "start_time": "2023-11-26T17:36:20.522Z"
   },
   {
    "duration": 86,
    "start_time": "2023-11-26T17:41:48.411Z"
   },
   {
    "duration": 3,
    "start_time": "2023-11-26T17:50:40.369Z"
   },
   {
    "duration": 73,
    "start_time": "2023-11-26T17:50:40.374Z"
   },
   {
    "duration": 21,
    "start_time": "2023-11-26T17:50:40.448Z"
   },
   {
    "duration": 16,
    "start_time": "2023-11-26T17:50:40.471Z"
   },
   {
    "duration": 4,
    "start_time": "2023-11-26T17:50:40.489Z"
   },
   {
    "duration": 10,
    "start_time": "2023-11-26T17:50:40.495Z"
   },
   {
    "duration": 12,
    "start_time": "2023-11-26T17:50:40.533Z"
   },
   {
    "duration": 9,
    "start_time": "2023-11-26T17:50:40.546Z"
   },
   {
    "duration": 8,
    "start_time": "2023-11-26T17:50:40.556Z"
   },
   {
    "duration": 30,
    "start_time": "2023-11-26T17:50:40.565Z"
   },
   {
    "duration": 50,
    "start_time": "2023-11-26T17:50:40.597Z"
   },
   {
    "duration": 10,
    "start_time": "2023-11-26T17:50:40.648Z"
   },
   {
    "duration": 5,
    "start_time": "2023-11-26T17:50:40.660Z"
   },
   {
    "duration": 25,
    "start_time": "2023-11-26T17:50:40.667Z"
   },
   {
    "duration": 9,
    "start_time": "2023-11-26T17:50:40.727Z"
   },
   {
    "duration": 11,
    "start_time": "2023-11-26T17:50:40.738Z"
   },
   {
    "duration": 14,
    "start_time": "2023-11-26T17:50:40.751Z"
   },
   {
    "duration": 95,
    "start_time": "2023-11-26T17:50:40.767Z"
   },
   {
    "duration": 7,
    "start_time": "2023-11-26T17:50:40.863Z"
   },
   {
    "duration": 64,
    "start_time": "2023-11-26T17:50:40.872Z"
   },
   {
    "duration": 398,
    "start_time": "2023-11-26T17:50:40.938Z"
   },
   {
    "duration": 1322,
    "start_time": "2023-11-26T17:50:41.338Z"
   },
   {
    "duration": 5125,
    "start_time": "2023-11-26T17:50:42.662Z"
   },
   {
    "duration": 921,
    "start_time": "2023-11-26T17:50:47.789Z"
   },
   {
    "duration": 29,
    "start_time": "2023-11-26T17:50:48.712Z"
   },
   {
    "duration": 5,
    "start_time": "2023-11-26T17:50:48.742Z"
   },
   {
    "duration": 13,
    "start_time": "2023-11-26T17:50:48.749Z"
   },
   {
    "duration": 1574,
    "start_time": "2023-11-26T17:50:48.764Z"
   },
   {
    "duration": 9,
    "start_time": "2023-11-26T17:50:50.343Z"
   },
   {
    "duration": 25,
    "start_time": "2023-11-26T17:50:50.354Z"
   },
   {
    "duration": 23,
    "start_time": "2023-11-26T17:50:50.381Z"
   },
   {
    "duration": 19,
    "start_time": "2023-11-26T17:50:50.406Z"
   },
   {
    "duration": 22,
    "start_time": "2023-11-26T17:50:50.427Z"
   },
   {
    "duration": 17,
    "start_time": "2023-11-26T17:50:50.450Z"
   },
   {
    "duration": 15,
    "start_time": "2023-11-26T17:50:50.469Z"
   },
   {
    "duration": 51,
    "start_time": "2023-11-26T17:50:50.486Z"
   },
   {
    "duration": 17,
    "start_time": "2023-11-26T17:50:50.539Z"
   },
   {
    "duration": 16,
    "start_time": "2023-11-26T17:50:50.557Z"
   },
   {
    "duration": 16,
    "start_time": "2023-11-26T17:50:50.574Z"
   },
   {
    "duration": 51,
    "start_time": "2023-11-26T17:50:50.592Z"
   },
   {
    "duration": 1101,
    "start_time": "2023-11-26T17:52:37.717Z"
   },
   {
    "duration": 183,
    "start_time": "2023-11-26T17:54:25.175Z"
   },
   {
    "duration": 1130,
    "start_time": "2023-11-26T17:54:36.375Z"
   },
   {
    "duration": 1145,
    "start_time": "2023-11-26T17:55:40.889Z"
   },
   {
    "duration": 3510,
    "start_time": "2023-11-26T17:55:54.657Z"
   },
   {
    "duration": 1184,
    "start_time": "2023-11-26T17:56:12.157Z"
   },
   {
    "duration": 657,
    "start_time": "2023-11-26T18:03:04.553Z"
   },
   {
    "duration": 27,
    "start_time": "2023-11-26T18:07:00.486Z"
   },
   {
    "duration": 23,
    "start_time": "2023-11-26T18:09:28.656Z"
   },
   {
    "duration": 137,
    "start_time": "2023-11-26T18:10:47.561Z"
   },
   {
    "duration": 136,
    "start_time": "2023-11-26T18:11:51.660Z"
   },
   {
    "duration": 122,
    "start_time": "2023-11-26T18:12:53.973Z"
   },
   {
    "duration": 146,
    "start_time": "2023-11-26T18:13:53.597Z"
   },
   {
    "duration": 137,
    "start_time": "2023-11-26T18:15:07.832Z"
   },
   {
    "duration": 140,
    "start_time": "2023-11-26T18:47:04.623Z"
   },
   {
    "duration": 136,
    "start_time": "2023-11-26T18:47:47.073Z"
   },
   {
    "duration": 132,
    "start_time": "2023-11-26T18:48:25.160Z"
   },
   {
    "duration": 117,
    "start_time": "2023-11-26T18:56:08.654Z"
   },
   {
    "duration": 129,
    "start_time": "2023-11-26T18:56:54.272Z"
   },
   {
    "duration": 1303,
    "start_time": "2023-11-27T15:40:42.765Z"
   },
   {
    "duration": 74,
    "start_time": "2023-11-27T15:40:44.070Z"
   },
   {
    "duration": 24,
    "start_time": "2023-11-27T15:40:44.146Z"
   },
   {
    "duration": 13,
    "start_time": "2023-11-27T15:40:44.172Z"
   },
   {
    "duration": 6,
    "start_time": "2023-11-27T15:40:44.187Z"
   },
   {
    "duration": 13,
    "start_time": "2023-11-27T15:40:44.194Z"
   },
   {
    "duration": 24,
    "start_time": "2023-11-27T15:40:44.208Z"
   },
   {
    "duration": 9,
    "start_time": "2023-11-27T15:40:44.234Z"
   },
   {
    "duration": 7,
    "start_time": "2023-11-27T15:40:44.245Z"
   },
   {
    "duration": 33,
    "start_time": "2023-11-27T15:40:44.254Z"
   },
   {
    "duration": 27,
    "start_time": "2023-11-27T15:40:44.306Z"
   },
   {
    "duration": 9,
    "start_time": "2023-11-27T15:40:44.335Z"
   },
   {
    "duration": 5,
    "start_time": "2023-11-27T15:40:44.346Z"
   },
   {
    "duration": 33,
    "start_time": "2023-11-27T15:40:44.354Z"
   },
   {
    "duration": 8,
    "start_time": "2023-11-27T15:40:44.407Z"
   },
   {
    "duration": 25,
    "start_time": "2023-11-27T15:40:44.417Z"
   },
   {
    "duration": 15,
    "start_time": "2023-11-27T15:40:44.444Z"
   },
   {
    "duration": 85,
    "start_time": "2023-11-27T15:40:44.461Z"
   },
   {
    "duration": 7,
    "start_time": "2023-11-27T15:40:44.549Z"
   },
   {
    "duration": 61,
    "start_time": "2023-11-27T15:40:44.557Z"
   },
   {
    "duration": 423,
    "start_time": "2023-11-27T15:40:44.620Z"
   },
   {
    "duration": 1438,
    "start_time": "2023-11-27T15:40:45.045Z"
   },
   {
    "duration": 5041,
    "start_time": "2023-11-27T15:40:46.485Z"
   },
   {
    "duration": 1015,
    "start_time": "2023-11-27T15:40:51.527Z"
   },
   {
    "duration": 1233,
    "start_time": "2023-11-27T15:40:52.544Z"
   },
   {
    "duration": 30,
    "start_time": "2023-11-27T15:40:53.779Z"
   },
   {
    "duration": 5,
    "start_time": "2023-11-27T15:40:53.811Z"
   },
   {
    "duration": 23,
    "start_time": "2023-11-27T15:40:53.817Z"
   },
   {
    "duration": 1516,
    "start_time": "2023-11-27T15:40:53.842Z"
   },
   {
    "duration": 9,
    "start_time": "2023-11-27T15:40:55.360Z"
   },
   {
    "duration": 12,
    "start_time": "2023-11-27T15:40:55.371Z"
   },
   {
    "duration": 179,
    "start_time": "2023-11-27T15:40:55.384Z"
   },
   {
    "duration": 165,
    "start_time": "2023-11-27T15:40:55.565Z"
   },
   {
    "duration": 246,
    "start_time": "2023-11-27T15:40:55.732Z"
   },
   {
    "duration": 166,
    "start_time": "2023-11-27T15:40:55.979Z"
   },
   {
    "duration": 177,
    "start_time": "2023-11-27T15:40:56.146Z"
   },
   {
    "duration": 161,
    "start_time": "2023-11-27T15:40:56.326Z"
   },
   {
    "duration": 171,
    "start_time": "2023-11-27T15:40:56.489Z"
   },
   {
    "duration": 160,
    "start_time": "2023-11-27T15:40:56.662Z"
   },
   {
    "duration": 150,
    "start_time": "2023-11-27T15:40:56.824Z"
   },
   {
    "duration": 166,
    "start_time": "2023-11-27T15:40:56.977Z"
   },
   {
    "duration": 73,
    "start_time": "2024-01-13T18:21:59.657Z"
   },
   {
    "duration": 41,
    "start_time": "2024-01-13T18:24:59.522Z"
   },
   {
    "duration": 1427,
    "start_time": "2024-01-13T18:25:03.191Z"
   },
   {
    "duration": 68,
    "start_time": "2024-01-13T18:25:04.620Z"
   },
   {
    "duration": 26,
    "start_time": "2024-01-13T18:25:04.690Z"
   },
   {
    "duration": 11,
    "start_time": "2024-01-13T18:25:04.719Z"
   },
   {
    "duration": 3,
    "start_time": "2024-01-13T18:25:04.731Z"
   },
   {
    "duration": 5,
    "start_time": "2024-01-13T18:25:04.736Z"
   },
   {
    "duration": 12,
    "start_time": "2024-01-13T18:25:04.742Z"
   },
   {
    "duration": 9,
    "start_time": "2024-01-13T18:25:04.755Z"
   },
   {
    "duration": 7,
    "start_time": "2024-01-13T18:25:04.765Z"
   },
   {
    "duration": 64,
    "start_time": "2024-01-13T18:25:04.775Z"
   },
   {
    "duration": 30,
    "start_time": "2024-01-13T18:25:04.841Z"
   },
   {
    "duration": 83,
    "start_time": "2024-01-13T18:25:04.873Z"
   },
   {
    "duration": 0,
    "start_time": "2024-01-13T18:25:04.959Z"
   },
   {
    "duration": 0,
    "start_time": "2024-01-13T18:25:04.959Z"
   },
   {
    "duration": 0,
    "start_time": "2024-01-13T18:25:04.960Z"
   },
   {
    "duration": 0,
    "start_time": "2024-01-13T18:25:04.961Z"
   },
   {
    "duration": 0,
    "start_time": "2024-01-13T18:25:04.962Z"
   },
   {
    "duration": 0,
    "start_time": "2024-01-13T18:25:04.963Z"
   },
   {
    "duration": 0,
    "start_time": "2024-01-13T18:25:04.964Z"
   },
   {
    "duration": 0,
    "start_time": "2024-01-13T18:25:04.965Z"
   },
   {
    "duration": 0,
    "start_time": "2024-01-13T18:25:04.967Z"
   },
   {
    "duration": 0,
    "start_time": "2024-01-13T18:25:04.967Z"
   },
   {
    "duration": 0,
    "start_time": "2024-01-13T18:25:04.968Z"
   },
   {
    "duration": 0,
    "start_time": "2024-01-13T18:25:04.969Z"
   },
   {
    "duration": 0,
    "start_time": "2024-01-13T18:25:04.971Z"
   },
   {
    "duration": 0,
    "start_time": "2024-01-13T18:25:04.972Z"
   },
   {
    "duration": 0,
    "start_time": "2024-01-13T18:25:04.973Z"
   },
   {
    "duration": 0,
    "start_time": "2024-01-13T18:25:04.974Z"
   },
   {
    "duration": 0,
    "start_time": "2024-01-13T18:25:04.975Z"
   },
   {
    "duration": 0,
    "start_time": "2024-01-13T18:25:04.975Z"
   },
   {
    "duration": 0,
    "start_time": "2024-01-13T18:25:04.976Z"
   },
   {
    "duration": 0,
    "start_time": "2024-01-13T18:25:04.977Z"
   },
   {
    "duration": 0,
    "start_time": "2024-01-13T18:25:04.978Z"
   },
   {
    "duration": 0,
    "start_time": "2024-01-13T18:25:05.015Z"
   },
   {
    "duration": 0,
    "start_time": "2024-01-13T18:25:05.016Z"
   },
   {
    "duration": 0,
    "start_time": "2024-01-13T18:25:05.017Z"
   },
   {
    "duration": 0,
    "start_time": "2024-01-13T18:25:05.018Z"
   },
   {
    "duration": 0,
    "start_time": "2024-01-13T18:25:05.019Z"
   },
   {
    "duration": 0,
    "start_time": "2024-01-13T18:25:05.020Z"
   },
   {
    "duration": 0,
    "start_time": "2024-01-13T18:25:05.021Z"
   },
   {
    "duration": 0,
    "start_time": "2024-01-13T18:25:05.022Z"
   },
   {
    "duration": 0,
    "start_time": "2024-01-13T18:25:05.023Z"
   },
   {
    "duration": 15,
    "start_time": "2024-01-13T18:25:54.393Z"
   },
   {
    "duration": 2774,
    "start_time": "2024-01-13T18:26:33.875Z"
   },
   {
    "duration": 2528,
    "start_time": "2024-01-13T18:27:08.795Z"
   },
   {
    "duration": 1288,
    "start_time": "2024-03-08T19:18:15.930Z"
   },
   {
    "duration": 97,
    "start_time": "2024-03-08T19:18:17.220Z"
   },
   {
    "duration": 26,
    "start_time": "2024-03-08T19:18:17.319Z"
   },
   {
    "duration": 12,
    "start_time": "2024-03-08T19:18:17.346Z"
   },
   {
    "duration": 8,
    "start_time": "2024-03-08T19:18:17.360Z"
   },
   {
    "duration": 15,
    "start_time": "2024-03-08T19:18:17.369Z"
   },
   {
    "duration": 26,
    "start_time": "2024-03-08T19:18:17.386Z"
   },
   {
    "duration": 17,
    "start_time": "2024-03-08T19:18:17.414Z"
   },
   {
    "duration": 12,
    "start_time": "2024-03-08T19:18:17.433Z"
   },
   {
    "duration": 37,
    "start_time": "2024-03-08T19:18:17.447Z"
   },
   {
    "duration": 55,
    "start_time": "2024-03-08T19:18:17.486Z"
   },
   {
    "duration": 2685,
    "start_time": "2024-03-08T19:18:17.543Z"
   },
   {
    "duration": 9,
    "start_time": "2024-03-08T19:18:20.230Z"
   },
   {
    "duration": 4,
    "start_time": "2024-03-08T19:18:20.243Z"
   },
   {
    "duration": 26,
    "start_time": "2024-03-08T19:18:20.249Z"
   },
   {
    "duration": 7,
    "start_time": "2024-03-08T19:18:20.276Z"
   },
   {
    "duration": 12,
    "start_time": "2024-03-08T19:18:20.284Z"
   },
   {
    "duration": 13,
    "start_time": "2024-03-08T19:18:20.323Z"
   },
   {
    "duration": 70,
    "start_time": "2024-03-08T19:18:20.338Z"
   },
   {
    "duration": 7,
    "start_time": "2024-03-08T19:18:20.423Z"
   },
   {
    "duration": 39,
    "start_time": "2024-03-08T19:18:20.432Z"
   },
   {
    "duration": 427,
    "start_time": "2024-03-08T19:18:20.473Z"
   },
   {
    "duration": 1388,
    "start_time": "2024-03-08T19:18:20.902Z"
   },
   {
    "duration": 5187,
    "start_time": "2024-03-08T19:18:22.292Z"
   },
   {
    "duration": 976,
    "start_time": "2024-03-08T19:18:27.481Z"
   },
   {
    "duration": 1294,
    "start_time": "2024-03-08T19:18:28.458Z"
   },
   {
    "duration": 18,
    "start_time": "2024-03-08T19:18:29.753Z"
   },
   {
    "duration": 4,
    "start_time": "2024-03-08T19:18:29.773Z"
   },
   {
    "duration": 12,
    "start_time": "2024-03-08T19:18:29.778Z"
   },
   {
    "duration": 1528,
    "start_time": "2024-03-08T19:18:29.792Z"
   },
   {
    "duration": 9,
    "start_time": "2024-03-08T19:18:31.323Z"
   },
   {
    "duration": 50,
    "start_time": "2024-03-08T19:18:31.333Z"
   },
   {
    "duration": 171,
    "start_time": "2024-03-08T19:18:31.384Z"
   },
   {
    "duration": 154,
    "start_time": "2024-03-08T19:18:31.557Z"
   },
   {
    "duration": 151,
    "start_time": "2024-03-08T19:18:31.712Z"
   },
   {
    "duration": 149,
    "start_time": "2024-03-08T19:18:31.865Z"
   },
   {
    "duration": 174,
    "start_time": "2024-03-08T19:18:32.016Z"
   },
   {
    "duration": 253,
    "start_time": "2024-03-08T19:18:32.192Z"
   },
   {
    "duration": 153,
    "start_time": "2024-03-08T19:18:32.447Z"
   },
   {
    "duration": 153,
    "start_time": "2024-03-08T19:18:32.602Z"
   },
   {
    "duration": 142,
    "start_time": "2024-03-08T19:18:32.759Z"
   },
   {
    "duration": 159,
    "start_time": "2024-03-08T19:18:32.902Z"
   }
  ],
  "kernelspec": {
   "display_name": "Python 3 (ipykernel)",
   "language": "python",
   "name": "python3"
  },
  "language_info": {
   "codemirror_mode": {
    "name": "ipython",
    "version": 3
   },
   "file_extension": ".py",
   "mimetype": "text/x-python",
   "name": "python",
   "nbconvert_exporter": "python",
   "pygments_lexer": "ipython3",
   "version": "3.9.5"
  },
  "toc": {
   "base_numbering": 1,
   "nav_menu": {},
   "number_sections": true,
   "sideBar": true,
   "skip_h1_title": true,
   "title_cell": "Table of Contents",
   "title_sidebar": "Contents",
   "toc_cell": false,
   "toc_position": {},
   "toc_section_display": true,
   "toc_window_display": false
  }
 },
 "nbformat": 4,
 "nbformat_minor": 2
}
